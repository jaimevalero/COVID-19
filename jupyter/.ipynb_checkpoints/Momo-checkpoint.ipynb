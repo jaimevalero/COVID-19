{
 "cells": [
  {
   "cell_type": "markdown",
   "metadata": {},
   "source": [
    "# Informes de mortalidad\n",
    "\n",
    "Actualizado diariamente, este documento se [visualiza mejor aquí](https://nbviewer.jupyter.org/github/jaimevalero/COVID-19/blob/master/jupyter/Momo.ipynb).\n",
    "\n",
    "Datos del Sistema de Monitorización de la Mortalidad diaria, que incluye las defunciones por todas las causas procedentes de 3.929 registros civiles informatizados, que representan el 92% de la población española.\n",
    "\n"
   ]
  },
  {
   "cell_type": "code",
   "execution_count": 16,
   "metadata": {},
   "outputs": [],
   "source": [
    "# Cargamos datos\n",
    "import Loading_data \n",
    "from matplotlib import pyplot as plt    \n",
    "import warnings\n",
    "warnings.filterwarnings('ignore')\n",
    "import pandas as pd\n",
    "from IPython.display import display, HTML\n"
   ]
  },
  {
   "cell_type": "code",
   "execution_count": 17,
   "metadata": {},
   "outputs": [
    {
     "data": {
      "text/html": [
       "<div>\n",
       "<style scoped>\n",
       "    .dataframe tbody tr th:only-of-type {\n",
       "        vertical-align: middle;\n",
       "    }\n",
       "\n",
       "    .dataframe tbody tr th {\n",
       "        vertical-align: top;\n",
       "    }\n",
       "\n",
       "    .dataframe thead th {\n",
       "        text-align: right;\n",
       "    }\n",
       "</style>\n",
       "<table border=\"1\" class=\"dataframe\">\n",
       "  <thead>\n",
       "    <tr style=\"text-align: right;\">\n",
       "      <th></th>\n",
       "      <th>ambito</th>\n",
       "      <th>cod_ambito</th>\n",
       "      <th>cod_ine_ambito</th>\n",
       "      <th>nombre_ambito</th>\n",
       "      <th>cod_sexo</th>\n",
       "      <th>nombre_sexo</th>\n",
       "      <th>cod_gedad</th>\n",
       "      <th>nombre_gedad</th>\n",
       "      <th>fecha_defuncion</th>\n",
       "      <th>defunciones_observadas</th>\n",
       "      <th>defunciones_observadas_lim_inf</th>\n",
       "      <th>defunciones_observadas_lim_sup</th>\n",
       "      <th>defunciones_esperadas</th>\n",
       "      <th>defunciones_esperadas_q01</th>\n",
       "      <th>defunciones_esperadas_q99</th>\n",
       "    </tr>\n",
       "  </thead>\n",
       "  <tbody>\n",
       "    <tr>\n",
       "      <th>0</th>\n",
       "      <td>nacional</td>\n",
       "      <td>NaN</td>\n",
       "      <td>NaN</td>\n",
       "      <td>NaN</td>\n",
       "      <td>all</td>\n",
       "      <td>todos</td>\n",
       "      <td>all</td>\n",
       "      <td>todos</td>\n",
       "      <td>2019-03-28</td>\n",
       "      <td>1142</td>\n",
       "      <td>1142.0</td>\n",
       "      <td>1142.0</td>\n",
       "      <td>1124.5</td>\n",
       "      <td>1006.18</td>\n",
       "      <td>1245.06</td>\n",
       "    </tr>\n",
       "    <tr>\n",
       "      <th>1</th>\n",
       "      <td>nacional</td>\n",
       "      <td>NaN</td>\n",
       "      <td>NaN</td>\n",
       "      <td>NaN</td>\n",
       "      <td>all</td>\n",
       "      <td>todos</td>\n",
       "      <td>all</td>\n",
       "      <td>todos</td>\n",
       "      <td>2019-03-29</td>\n",
       "      <td>1110</td>\n",
       "      <td>1110.0</td>\n",
       "      <td>1110.0</td>\n",
       "      <td>1124.5</td>\n",
       "      <td>1006.18</td>\n",
       "      <td>1245.06</td>\n",
       "    </tr>\n",
       "    <tr>\n",
       "      <th>2</th>\n",
       "      <td>nacional</td>\n",
       "      <td>NaN</td>\n",
       "      <td>NaN</td>\n",
       "      <td>NaN</td>\n",
       "      <td>all</td>\n",
       "      <td>todos</td>\n",
       "      <td>all</td>\n",
       "      <td>todos</td>\n",
       "      <td>2019-03-30</td>\n",
       "      <td>1133</td>\n",
       "      <td>1133.0</td>\n",
       "      <td>1133.0</td>\n",
       "      <td>1119.5</td>\n",
       "      <td>1001.84</td>\n",
       "      <td>1245.06</td>\n",
       "    </tr>\n",
       "    <tr>\n",
       "      <th>3</th>\n",
       "      <td>nacional</td>\n",
       "      <td>NaN</td>\n",
       "      <td>NaN</td>\n",
       "      <td>NaN</td>\n",
       "      <td>all</td>\n",
       "      <td>todos</td>\n",
       "      <td>all</td>\n",
       "      <td>todos</td>\n",
       "      <td>2019-03-31</td>\n",
       "      <td>1046</td>\n",
       "      <td>1046.0</td>\n",
       "      <td>1046.0</td>\n",
       "      <td>1119.5</td>\n",
       "      <td>1010.39</td>\n",
       "      <td>1245.06</td>\n",
       "    </tr>\n",
       "    <tr>\n",
       "      <th>4</th>\n",
       "      <td>nacional</td>\n",
       "      <td>NaN</td>\n",
       "      <td>NaN</td>\n",
       "      <td>NaN</td>\n",
       "      <td>all</td>\n",
       "      <td>todos</td>\n",
       "      <td>all</td>\n",
       "      <td>todos</td>\n",
       "      <td>2019-04-01</td>\n",
       "      <td>1113</td>\n",
       "      <td>1113.0</td>\n",
       "      <td>1113.0</td>\n",
       "      <td>1114.5</td>\n",
       "      <td>1010.39</td>\n",
       "      <td>1238.86</td>\n",
       "    </tr>\n",
       "  </tbody>\n",
       "</table>\n",
       "</div>"
      ],
      "text/plain": [
       "     ambito cod_ambito  cod_ine_ambito nombre_ambito cod_sexo nombre_sexo  \\\n",
       "0  nacional        NaN             NaN           NaN      all       todos   \n",
       "1  nacional        NaN             NaN           NaN      all       todos   \n",
       "2  nacional        NaN             NaN           NaN      all       todos   \n",
       "3  nacional        NaN             NaN           NaN      all       todos   \n",
       "4  nacional        NaN             NaN           NaN      all       todos   \n",
       "\n",
       "  cod_gedad nombre_gedad fecha_defuncion  defunciones_observadas  \\\n",
       "0       all        todos      2019-03-28                    1142   \n",
       "1       all        todos      2019-03-29                    1110   \n",
       "2       all        todos      2019-03-30                    1133   \n",
       "3       all        todos      2019-03-31                    1046   \n",
       "4       all        todos      2019-04-01                    1113   \n",
       "\n",
       "   defunciones_observadas_lim_inf  defunciones_observadas_lim_sup  \\\n",
       "0                          1142.0                          1142.0   \n",
       "1                          1110.0                          1110.0   \n",
       "2                          1133.0                          1133.0   \n",
       "3                          1046.0                          1046.0   \n",
       "4                          1113.0                          1113.0   \n",
       "\n",
       "   defunciones_esperadas  defunciones_esperadas_q01  defunciones_esperadas_q99  \n",
       "0                 1124.5                    1006.18                    1245.06  \n",
       "1                 1124.5                    1006.18                    1245.06  \n",
       "2                 1119.5                    1001.84                    1245.06  \n",
       "3                 1119.5                    1010.39                    1245.06  \n",
       "4                 1114.5                    1010.39                    1238.86  "
      ]
     },
     "execution_count": 17,
     "metadata": {},
     "output_type": "execute_result"
    }
   ],
   "source": [
    "df = pd.read_csv('https://momo.isciii.es/public/momo/data')\n",
    "df.to_csv('/tmp/momo.csv')\n",
    "df.head()"
   ]
  },
  {
   "cell_type": "code",
   "execution_count": 18,
   "metadata": {},
   "outputs": [],
   "source": [
    "import janitor\n",
    "import datetime\n",
    "\n",
    "\n",
    "\n",
    "def pipeline_basic_with_query(df,query):\n",
    "    ''' Basic filtering, using janitor\n",
    "        Carga de datos, enriquecimiento de fechas y filtro por query configurable \n",
    "    '''\n",
    "    LISTA_COLUMNAS_A_BORRAR = ['Unnamed: 0',\n",
    "                           'defunciones_observadas_lim_inf',\n",
    "                           'defunciones_observadas_lim_sup',\n",
    "                           'defunciones_esperadas',\n",
    "                           'defunciones_esperadas_q01',\n",
    "                           'defunciones_esperadas_q99']\n",
    "    return (\n",
    "        df\n",
    "        # Quitar: columnas\n",
    "        .remove_columns(LISTA_COLUMNAS_A_BORRAR)\n",
    "        .clean_names()\n",
    "        # Enriquecer: fechas con columnas de años, mes y año-mes\n",
    "        .rename_column( \"fecha_defuncion\", \"date\")\n",
    "        .to_datetime('date')\n",
    "        .join_apply(lambda x: x['date'].strftime('%Y')    , new_column_name=\"date_year\"       )\n",
    "        .join_apply(lambda x: x['date'].strftime('%m')    , new_column_name=\"date_month\"      )\n",
    "        .join_apply(lambda x: x['date'].strftime('%m-%d') , new_column_name=\"date_month_day\"  )\n",
    "        .join_apply(lambda x: x['date'].strftime('%U')    , new_column_name=\"date_week\"       )\n",
    "        .join_apply(lambda x: x['date'].strftime('%Y-%m') , new_column_name=\"date_year_month\" )\n",
    "        .join_apply(lambda x: x['date'].strftime('%Y-%U') , new_column_name=\"date_year_week\"  )\n",
    "        # Filtrar:por query\n",
    "        .filter_on( query )\n",
    "        .set_index('date')\n",
    "    )\n",
    "\n",
    "def pipeline_basic(df):\n",
    "    query = 'ambito       == \"nacional\" & nombre_gedad == \"todos\"  & nombre_sexo  == \"todos\"  '\n",
    "    return pipeline_basic_with_query(df,query)\n",
    "\n",
    "\n",
    "\n",
    "\n",
    "def extraer_defunciones_anuales_por_periodo(periodo_de_tiempo,query):\n",
    "    '''Extrae el cuadro de comparativa por week, or year '''\n",
    "\n",
    "    def pipeline_agregado_anual(periodo_de_tiempo,df,year):\n",
    "        ''' Saca un dataframe de los datos agrupados por año'''\n",
    "        return (\n",
    "            df\n",
    "            .filter_on('date_year == \"'+year+'\"'  )\n",
    "            .groupby_agg( by='date_'+periodo_de_tiempo, agg='sum', agg_column_name=\"defunciones_observadas\", new_column_name=\"agregados\")\n",
    "            .rename_column( \"agregados\", year)\n",
    "            .join_apply(lambda x: x['date_'+periodo_de_tiempo]  , new_column_name=periodo_de_tiempo )\n",
    "            .set_index('date_'+periodo_de_tiempo)\n",
    "            [[periodo_de_tiempo,year]]\n",
    "            .drop_duplicates()        \n",
    "        )\n",
    "\n",
    "    def pipeline_comparativa_anual(periodo_de_tiempo,df_2018,df_2019,df_2020):\n",
    "        ''' Mergea tres dataframes de año, por periodo de tiempo'''\n",
    "        return  (\n",
    "        df_2018\n",
    "        .merge( df_2019, on=periodo_de_tiempo, how='right')\n",
    "        .merge( df_2020, on=periodo_de_tiempo, how='left')\n",
    "        .sort_naturally(periodo_de_tiempo)\n",
    "        .set_index(periodo_de_tiempo)\n",
    "        .join_apply(lambda x: x['2020'] - x['2019'] , new_column_name=\"resta 2020 y 2019\"  )\n",
    "        )\n",
    "\n",
    "    # Sacamos los datos y limpiamos\n",
    "    df       = pd.read_csv('')\n",
    "    df_basic = pipeline_basic_with_query(df,query)\n",
    "\n",
    "    # Sacamos los datos agrupados por años\n",
    "    muertes_2018  = pipeline_agregado_anual(periodo_de_tiempo,df=df_basic,year='2018')\n",
    "    muertes_2019  = pipeline_agregado_anual(periodo_de_tiempo,df=df_basic,year='2019')\n",
    "    muertes_2020  = pipeline_agregado_anual(periodo_de_tiempo,df=df_basic,year='2020')\n",
    "\n",
    "    # Generamos un solo cuadro, con columna por año\n",
    "    df_comparativa_años  = pipeline_comparativa_anual(periodo_de_tiempo,muertes_2018,muertes_2019,muertes_2020)\n",
    "    return df_comparativa_años\n",
    "\n",
    "def debug_extraer_defunciones_anuales_por_periodo():\n",
    "    \"\"\" Solo para depurar\"\"\"\n",
    "    query = 'ambito       == \"nacional\" & nombre_gedad == \"todos\"  & nombre_sexo  == \"todos\"  '\n",
    "    df_muertes_anuales_por_semana = extraer_defunciones_anuales_por_periodo(\"week\",query)\n",
    "    df_muertes_anuales_por_mes    = extraer_defunciones_anuales_por_periodo(\"month\",query)\n",
    "    return  df_muertes_anuales_por_semana , df_muertes_anuales_por_mes\n",
    "\n",
    "\n",
    "#df1, df2 = debug_extraer_defunciones_anuales_por_periodo()\n",
    "#df1"
   ]
  },
  {
   "cell_type": "markdown",
   "metadata": {},
   "source": [
    "## Sacamos el grafico comparativo de fallecimiento, para los años 2019 y 2020, por semana "
   ]
  },
  {
   "cell_type": "code",
   "execution_count": 10,
   "metadata": {
    "scrolled": false
   },
   "outputs": [
    {
     "ename": "FileNotFoundError",
     "evalue": "[Errno 2] File b'' does not exist: b''",
     "output_type": "error",
     "traceback": [
      "\u001b[0;31m---------------------------------------------------------------------------\u001b[0m",
      "\u001b[0;31mFileNotFoundError\u001b[0m                         Traceback (most recent call last)",
      "\u001b[0;32m<ipython-input-10-4e22be8b3266>\u001b[0m in \u001b[0;36m<module>\u001b[0;34m\u001b[0m\n\u001b[1;32m      9\u001b[0m \u001b[0mquery\u001b[0m \u001b[0;34m=\u001b[0m \u001b[0;34m'ambito       == \"nacional\" & nombre_gedad == \"todos\"  & nombre_sexo  == \"todos\"  '\u001b[0m\u001b[0;34m\u001b[0m\u001b[0;34m\u001b[0m\u001b[0m\n\u001b[1;32m     10\u001b[0m \u001b[0;34m\u001b[0m\u001b[0m\n\u001b[0;32m---> 11\u001b[0;31m \u001b[0mdf\u001b[0m \u001b[0;34m=\u001b[0m \u001b[0mextraer_defunciones_anuales_por_periodo\u001b[0m\u001b[0;34m(\u001b[0m\u001b[0mperiodo_de_tiempo\u001b[0m\u001b[0;34m,\u001b[0m\u001b[0mquery\u001b[0m\u001b[0;34m)\u001b[0m\u001b[0;34m\u001b[0m\u001b[0;34m\u001b[0m\u001b[0m\n\u001b[0m\u001b[1;32m     12\u001b[0m \u001b[0;34m\u001b[0m\u001b[0m\n\u001b[1;32m     13\u001b[0m \u001b[0mfig\u001b[0m \u001b[0;34m=\u001b[0m \u001b[0mplt\u001b[0m\u001b[0;34m.\u001b[0m\u001b[0mfigure\u001b[0m\u001b[0;34m(\u001b[0m\u001b[0mfigsize\u001b[0m\u001b[0;34m=\u001b[0m\u001b[0;34m(\u001b[0m\u001b[0;36m8\u001b[0m\u001b[0;34m,\u001b[0m \u001b[0;36m6\u001b[0m\u001b[0;34m)\u001b[0m\u001b[0;34m,\u001b[0m \u001b[0mdpi\u001b[0m\u001b[0;34m=\u001b[0m\u001b[0;36m80\u001b[0m\u001b[0;34m)\u001b[0m\u001b[0;34m\u001b[0m\u001b[0;34m\u001b[0m\u001b[0m\n",
      "\u001b[0;32m<ipython-input-8-76b41831e557>\u001b[0m in \u001b[0;36mextraer_defunciones_anuales_por_periodo\u001b[0;34m(periodo_de_tiempo, query)\u001b[0m\n\u001b[1;32m     68\u001b[0m \u001b[0;34m\u001b[0m\u001b[0m\n\u001b[1;32m     69\u001b[0m     \u001b[0;31m# Sacamos los datos y limpiamos\u001b[0m\u001b[0;34m\u001b[0m\u001b[0;34m\u001b[0m\u001b[0;34m\u001b[0m\u001b[0m\n\u001b[0;32m---> 70\u001b[0;31m     \u001b[0mdf\u001b[0m       \u001b[0;34m=\u001b[0m \u001b[0mpd\u001b[0m\u001b[0;34m.\u001b[0m\u001b[0mread_csv\u001b[0m\u001b[0;34m(\u001b[0m\u001b[0;34m''\u001b[0m\u001b[0;34m)\u001b[0m\u001b[0;34m\u001b[0m\u001b[0;34m\u001b[0m\u001b[0m\n\u001b[0m\u001b[1;32m     71\u001b[0m     \u001b[0mdf_basic\u001b[0m \u001b[0;34m=\u001b[0m \u001b[0mpipeline_basic_with_query\u001b[0m\u001b[0;34m(\u001b[0m\u001b[0mdf\u001b[0m\u001b[0;34m,\u001b[0m\u001b[0mquery\u001b[0m\u001b[0;34m)\u001b[0m\u001b[0;34m\u001b[0m\u001b[0;34m\u001b[0m\u001b[0m\n\u001b[1;32m     72\u001b[0m \u001b[0;34m\u001b[0m\u001b[0m\n",
      "\u001b[0;32m~/anaconda2/envs/jupyter/lib/python3.6/site-packages/pandas/io/parsers.py\u001b[0m in \u001b[0;36mparser_f\u001b[0;34m(filepath_or_buffer, sep, delimiter, header, names, index_col, usecols, squeeze, prefix, mangle_dupe_cols, dtype, engine, converters, true_values, false_values, skipinitialspace, skiprows, skipfooter, nrows, na_values, keep_default_na, na_filter, verbose, skip_blank_lines, parse_dates, infer_datetime_format, keep_date_col, date_parser, dayfirst, cache_dates, iterator, chunksize, compression, thousands, decimal, lineterminator, quotechar, quoting, doublequote, escapechar, comment, encoding, dialect, error_bad_lines, warn_bad_lines, delim_whitespace, low_memory, memory_map, float_precision)\u001b[0m\n\u001b[1;32m    683\u001b[0m         )\n\u001b[1;32m    684\u001b[0m \u001b[0;34m\u001b[0m\u001b[0m\n\u001b[0;32m--> 685\u001b[0;31m         \u001b[0;32mreturn\u001b[0m \u001b[0m_read\u001b[0m\u001b[0;34m(\u001b[0m\u001b[0mfilepath_or_buffer\u001b[0m\u001b[0;34m,\u001b[0m \u001b[0mkwds\u001b[0m\u001b[0;34m)\u001b[0m\u001b[0;34m\u001b[0m\u001b[0;34m\u001b[0m\u001b[0m\n\u001b[0m\u001b[1;32m    686\u001b[0m \u001b[0;34m\u001b[0m\u001b[0m\n\u001b[1;32m    687\u001b[0m     \u001b[0mparser_f\u001b[0m\u001b[0;34m.\u001b[0m\u001b[0m__name__\u001b[0m \u001b[0;34m=\u001b[0m \u001b[0mname\u001b[0m\u001b[0;34m\u001b[0m\u001b[0;34m\u001b[0m\u001b[0m\n",
      "\u001b[0;32m~/anaconda2/envs/jupyter/lib/python3.6/site-packages/pandas/io/parsers.py\u001b[0m in \u001b[0;36m_read\u001b[0;34m(filepath_or_buffer, kwds)\u001b[0m\n\u001b[1;32m    455\u001b[0m \u001b[0;34m\u001b[0m\u001b[0m\n\u001b[1;32m    456\u001b[0m     \u001b[0;31m# Create the parser.\u001b[0m\u001b[0;34m\u001b[0m\u001b[0;34m\u001b[0m\u001b[0;34m\u001b[0m\u001b[0m\n\u001b[0;32m--> 457\u001b[0;31m     \u001b[0mparser\u001b[0m \u001b[0;34m=\u001b[0m \u001b[0mTextFileReader\u001b[0m\u001b[0;34m(\u001b[0m\u001b[0mfp_or_buf\u001b[0m\u001b[0;34m,\u001b[0m \u001b[0;34m**\u001b[0m\u001b[0mkwds\u001b[0m\u001b[0;34m)\u001b[0m\u001b[0;34m\u001b[0m\u001b[0;34m\u001b[0m\u001b[0m\n\u001b[0m\u001b[1;32m    458\u001b[0m \u001b[0;34m\u001b[0m\u001b[0m\n\u001b[1;32m    459\u001b[0m     \u001b[0;32mif\u001b[0m \u001b[0mchunksize\u001b[0m \u001b[0;32mor\u001b[0m \u001b[0miterator\u001b[0m\u001b[0;34m:\u001b[0m\u001b[0;34m\u001b[0m\u001b[0;34m\u001b[0m\u001b[0m\n",
      "\u001b[0;32m~/anaconda2/envs/jupyter/lib/python3.6/site-packages/pandas/io/parsers.py\u001b[0m in \u001b[0;36m__init__\u001b[0;34m(self, f, engine, **kwds)\u001b[0m\n\u001b[1;32m    893\u001b[0m             \u001b[0mself\u001b[0m\u001b[0;34m.\u001b[0m\u001b[0moptions\u001b[0m\u001b[0;34m[\u001b[0m\u001b[0;34m\"has_index_names\"\u001b[0m\u001b[0;34m]\u001b[0m \u001b[0;34m=\u001b[0m \u001b[0mkwds\u001b[0m\u001b[0;34m[\u001b[0m\u001b[0;34m\"has_index_names\"\u001b[0m\u001b[0;34m]\u001b[0m\u001b[0;34m\u001b[0m\u001b[0;34m\u001b[0m\u001b[0m\n\u001b[1;32m    894\u001b[0m \u001b[0;34m\u001b[0m\u001b[0m\n\u001b[0;32m--> 895\u001b[0;31m         \u001b[0mself\u001b[0m\u001b[0;34m.\u001b[0m\u001b[0m_make_engine\u001b[0m\u001b[0;34m(\u001b[0m\u001b[0mself\u001b[0m\u001b[0;34m.\u001b[0m\u001b[0mengine\u001b[0m\u001b[0;34m)\u001b[0m\u001b[0;34m\u001b[0m\u001b[0;34m\u001b[0m\u001b[0m\n\u001b[0m\u001b[1;32m    896\u001b[0m \u001b[0;34m\u001b[0m\u001b[0m\n\u001b[1;32m    897\u001b[0m     \u001b[0;32mdef\u001b[0m \u001b[0mclose\u001b[0m\u001b[0;34m(\u001b[0m\u001b[0mself\u001b[0m\u001b[0;34m)\u001b[0m\u001b[0;34m:\u001b[0m\u001b[0;34m\u001b[0m\u001b[0;34m\u001b[0m\u001b[0m\n",
      "\u001b[0;32m~/anaconda2/envs/jupyter/lib/python3.6/site-packages/pandas/io/parsers.py\u001b[0m in \u001b[0;36m_make_engine\u001b[0;34m(self, engine)\u001b[0m\n\u001b[1;32m   1133\u001b[0m     \u001b[0;32mdef\u001b[0m \u001b[0m_make_engine\u001b[0m\u001b[0;34m(\u001b[0m\u001b[0mself\u001b[0m\u001b[0;34m,\u001b[0m \u001b[0mengine\u001b[0m\u001b[0;34m=\u001b[0m\u001b[0;34m\"c\"\u001b[0m\u001b[0;34m)\u001b[0m\u001b[0;34m:\u001b[0m\u001b[0;34m\u001b[0m\u001b[0;34m\u001b[0m\u001b[0m\n\u001b[1;32m   1134\u001b[0m         \u001b[0;32mif\u001b[0m \u001b[0mengine\u001b[0m \u001b[0;34m==\u001b[0m \u001b[0;34m\"c\"\u001b[0m\u001b[0;34m:\u001b[0m\u001b[0;34m\u001b[0m\u001b[0;34m\u001b[0m\u001b[0m\n\u001b[0;32m-> 1135\u001b[0;31m             \u001b[0mself\u001b[0m\u001b[0;34m.\u001b[0m\u001b[0m_engine\u001b[0m \u001b[0;34m=\u001b[0m \u001b[0mCParserWrapper\u001b[0m\u001b[0;34m(\u001b[0m\u001b[0mself\u001b[0m\u001b[0;34m.\u001b[0m\u001b[0mf\u001b[0m\u001b[0;34m,\u001b[0m \u001b[0;34m**\u001b[0m\u001b[0mself\u001b[0m\u001b[0;34m.\u001b[0m\u001b[0moptions\u001b[0m\u001b[0;34m)\u001b[0m\u001b[0;34m\u001b[0m\u001b[0;34m\u001b[0m\u001b[0m\n\u001b[0m\u001b[1;32m   1136\u001b[0m         \u001b[0;32melse\u001b[0m\u001b[0;34m:\u001b[0m\u001b[0;34m\u001b[0m\u001b[0;34m\u001b[0m\u001b[0m\n\u001b[1;32m   1137\u001b[0m             \u001b[0;32mif\u001b[0m \u001b[0mengine\u001b[0m \u001b[0;34m==\u001b[0m \u001b[0;34m\"python\"\u001b[0m\u001b[0;34m:\u001b[0m\u001b[0;34m\u001b[0m\u001b[0;34m\u001b[0m\u001b[0m\n",
      "\u001b[0;32m~/anaconda2/envs/jupyter/lib/python3.6/site-packages/pandas/io/parsers.py\u001b[0m in \u001b[0;36m__init__\u001b[0;34m(self, src, **kwds)\u001b[0m\n\u001b[1;32m   1915\u001b[0m         \u001b[0mkwds\u001b[0m\u001b[0;34m[\u001b[0m\u001b[0;34m\"usecols\"\u001b[0m\u001b[0;34m]\u001b[0m \u001b[0;34m=\u001b[0m \u001b[0mself\u001b[0m\u001b[0;34m.\u001b[0m\u001b[0musecols\u001b[0m\u001b[0;34m\u001b[0m\u001b[0;34m\u001b[0m\u001b[0m\n\u001b[1;32m   1916\u001b[0m \u001b[0;34m\u001b[0m\u001b[0m\n\u001b[0;32m-> 1917\u001b[0;31m         \u001b[0mself\u001b[0m\u001b[0;34m.\u001b[0m\u001b[0m_reader\u001b[0m \u001b[0;34m=\u001b[0m \u001b[0mparsers\u001b[0m\u001b[0;34m.\u001b[0m\u001b[0mTextReader\u001b[0m\u001b[0;34m(\u001b[0m\u001b[0msrc\u001b[0m\u001b[0;34m,\u001b[0m \u001b[0;34m**\u001b[0m\u001b[0mkwds\u001b[0m\u001b[0;34m)\u001b[0m\u001b[0;34m\u001b[0m\u001b[0;34m\u001b[0m\u001b[0m\n\u001b[0m\u001b[1;32m   1918\u001b[0m         \u001b[0mself\u001b[0m\u001b[0;34m.\u001b[0m\u001b[0munnamed_cols\u001b[0m \u001b[0;34m=\u001b[0m \u001b[0mself\u001b[0m\u001b[0;34m.\u001b[0m\u001b[0m_reader\u001b[0m\u001b[0;34m.\u001b[0m\u001b[0munnamed_cols\u001b[0m\u001b[0;34m\u001b[0m\u001b[0;34m\u001b[0m\u001b[0m\n\u001b[1;32m   1919\u001b[0m \u001b[0;34m\u001b[0m\u001b[0m\n",
      "\u001b[0;32mpandas/_libs/parsers.pyx\u001b[0m in \u001b[0;36mpandas._libs.parsers.TextReader.__cinit__\u001b[0;34m()\u001b[0m\n",
      "\u001b[0;32mpandas/_libs/parsers.pyx\u001b[0m in \u001b[0;36mpandas._libs.parsers.TextReader._setup_parser_source\u001b[0;34m()\u001b[0m\n",
      "\u001b[0;31mFileNotFoundError\u001b[0m: [Errno 2] File b'' does not exist: b''"
     ]
    }
   ],
   "source": [
    "from matplotlib import pyplot as plt    \n",
    "from IPython.display import display, HTML\n",
    "import pandas as pd\n",
    "\n",
    "import numpy as np\n",
    "\n",
    "\n",
    "periodo_de_tiempo=\"week\"\n",
    "query = 'ambito       == \"nacional\" & nombre_gedad == \"todos\"  & nombre_sexo  == \"todos\"  '\n",
    "\n",
    "df = extraer_defunciones_anuales_por_periodo(periodo_de_tiempo,query) \n",
    "\n",
    "fig = plt.figure(figsize=(8, 6), dpi=80)\n",
    "plt.xticks(rotation=90)\n",
    "\n",
    "for ca in ['2018','2019','2020']:\n",
    "    plt.plot(df[ca])\n",
    "    plt.legend(df.columns)\n",
    "    plt.xlabel(periodo_de_tiempo)\n",
    "    plt.ylabel(\"Deaths by \" + periodo_de_tiempo)\n",
    "    fig.suptitle('Comparativa de fallecimientos por año, según MOMO', fontsize=20)\n",
    "plt.show()\n",
    "\n",
    "\n",
    "\n",
    "periodo_de_tiempo=\"week\"\n",
    "query = 'ambito       == \"nacional\" & nombre_gedad == \"todos\"  & nombre_sexo  == \"todos\"  '\n",
    "df = extraer_defunciones_anuales_por_periodo(periodo_de_tiempo,query) \n",
    "\n",
    "df.style.format({\"2020\": \"{:20,.0f}\", \n",
    "                          \"2018\": \"{:20,.0f}\", \n",
    "                          \"2019\":  \"{:20,.0f}\", \n",
    "                          \"resta 2020 y 2019\": \"{:20,.0f}\", }).background_gradient(cmap='Wistia',subset=['resta 2020 y 2019'])\n",
    "\n"
   ]
  },
  {
   "cell_type": "code",
   "execution_count": 5,
   "metadata": {},
   "outputs": [
    {
     "data": {
      "text/html": [
       "<h4 id='excedente'>Excdente de muertes de este año, respecto al año anterior:</h4><h2>1,322 </h2>"
      ],
      "text/plain": [
       "<IPython.core.display.HTML object>"
      ]
     },
     "metadata": {},
     "output_type": "display_data"
    }
   ],
   "source": [
    "def get_current_year_comparison(query):\n",
    "    \"\"\"Saca muertos del año en curso en el ambito como argumento\"\"\"\n",
    "    df          = pd.read_csv('/tmp/momo.csv')\n",
    "    df = pipeline_basic_with_query(df,query) \n",
    "\n",
    "    semana_actual = df.tail(1).date_week.values[0]\n",
    "    year_actual = df.tail(1).date_year.values[0]\n",
    "    date_month_day_actual= df.tail(1).date_month_day.values[0]\n",
    "    year_last = str(int(year_actual)-1)\n",
    "\n",
    "    death_this_year_today = df.query( f\"date_year == '{year_actual}' \").defunciones_observadas.sum()\n",
    "    deaht_last_year_today = df.query( f\"date_year == '{year_last}' and date_month_day <= '{date_month_day_actual}' \").defunciones_observadas.sum()\n",
    "    deaths_this_year_excess = death_this_year_today - deaht_last_year_today \n",
    "    return deaths_this_year_excess\n",
    "\n",
    "query = f\"\"\" ambito == \"nacional\" & nombre_gedad == \"todos\" & nombre_sexo  == \"todos\"  \"\"\"\n",
    "deaths_this_year_excess = get_current_year_comparison(query)\n",
    "\n",
    "display(HTML(f\"<h4 id='excedente'>Excdente de muertes de este año, respecto al año anterior:</h4><h2>{deaths_this_year_excess:,.0f} </h2>\"))\n"
   ]
  },
  {
   "cell_type": "code",
   "execution_count": 6,
   "metadata": {},
   "outputs": [
    {
     "data": {
      "text/html": [
       "<h4 id='excedentemadrid'>Excedente de muertes de este año en Madrid, respecto al año anterior:</h4><h2>213 </h2>"
      ],
      "text/plain": [
       "<IPython.core.display.HTML object>"
      ]
     },
     "metadata": {},
     "output_type": "display_data"
    }
   ],
   "source": [
    "query = f\"\"\" nombre_ambito == \"Madrid, Comunidad de\" & nombre_gedad == \"todos\" & nombre_sexo  == \"todos\"  \"\"\"\n",
    "deaths_this_year_excess = get_current_year_comparison(query)\n",
    "display(HTML(f\"<h4 id='excedentemadrid'>Excedente de muertes de este año en Madrid, respecto al año anterior:</h4><h2>{deaths_this_year_excess:,.0f} </h2>\"))\n"
   ]
  },
  {
   "cell_type": "code",
   "execution_count": 7,
   "metadata": {},
   "outputs": [
    {
     "data": {
      "text/html": [
       "<div>\n",
       "<style scoped>\n",
       "    .dataframe tbody tr th:only-of-type {\n",
       "        vertical-align: middle;\n",
       "    }\n",
       "\n",
       "    .dataframe tbody tr th {\n",
       "        vertical-align: top;\n",
       "    }\n",
       "\n",
       "    .dataframe thead th {\n",
       "        text-align: right;\n",
       "    }\n",
       "</style>\n",
       "<table border=\"1\" class=\"dataframe\">\n",
       "  <thead>\n",
       "    <tr style=\"text-align: right;\">\n",
       "      <th></th>\n",
       "      <th>sexo</th>\n",
       "      <th>defunciones_observadas</th>\n",
       "      <th>date_month_day</th>\n",
       "      <th>mes</th>\n",
       "    </tr>\n",
       "    <tr>\n",
       "      <th>date</th>\n",
       "      <th></th>\n",
       "      <th></th>\n",
       "      <th></th>\n",
       "      <th></th>\n",
       "    </tr>\n",
       "  </thead>\n",
       "  <tbody>\n",
       "    <tr>\n",
       "      <th>2019-01-01</th>\n",
       "      <td>hombres</td>\n",
       "      <td>60</td>\n",
       "      <td>01-01</td>\n",
       "      <td>2019-01</td>\n",
       "    </tr>\n",
       "    <tr>\n",
       "      <th>2019-01-02</th>\n",
       "      <td>hombres</td>\n",
       "      <td>55</td>\n",
       "      <td>01-02</td>\n",
       "      <td>2019-01</td>\n",
       "    </tr>\n",
       "    <tr>\n",
       "      <th>2019-01-03</th>\n",
       "      <td>hombres</td>\n",
       "      <td>63</td>\n",
       "      <td>01-03</td>\n",
       "      <td>2019-01</td>\n",
       "    </tr>\n",
       "    <tr>\n",
       "      <th>2019-01-04</th>\n",
       "      <td>hombres</td>\n",
       "      <td>62</td>\n",
       "      <td>01-04</td>\n",
       "      <td>2019-01</td>\n",
       "    </tr>\n",
       "    <tr>\n",
       "      <th>2019-01-05</th>\n",
       "      <td>hombres</td>\n",
       "      <td>55</td>\n",
       "      <td>01-05</td>\n",
       "      <td>2019-01</td>\n",
       "    </tr>\n",
       "    <tr>\n",
       "      <th>...</th>\n",
       "      <td>...</td>\n",
       "      <td>...</td>\n",
       "      <td>...</td>\n",
       "      <td>...</td>\n",
       "    </tr>\n",
       "    <tr>\n",
       "      <th>2019-12-27</th>\n",
       "      <td>mujeres</td>\n",
       "      <td>61</td>\n",
       "      <td>12-27</td>\n",
       "      <td>2019-12</td>\n",
       "    </tr>\n",
       "    <tr>\n",
       "      <th>2019-12-28</th>\n",
       "      <td>mujeres</td>\n",
       "      <td>58</td>\n",
       "      <td>12-28</td>\n",
       "      <td>2019-12</td>\n",
       "    </tr>\n",
       "    <tr>\n",
       "      <th>2019-12-29</th>\n",
       "      <td>mujeres</td>\n",
       "      <td>57</td>\n",
       "      <td>12-29</td>\n",
       "      <td>2019-12</td>\n",
       "    </tr>\n",
       "    <tr>\n",
       "      <th>2019-12-30</th>\n",
       "      <td>mujeres</td>\n",
       "      <td>54</td>\n",
       "      <td>12-30</td>\n",
       "      <td>2019-12</td>\n",
       "    </tr>\n",
       "    <tr>\n",
       "      <th>2019-12-31</th>\n",
       "      <td>mujeres</td>\n",
       "      <td>68</td>\n",
       "      <td>12-31</td>\n",
       "      <td>2019-12</td>\n",
       "    </tr>\n",
       "  </tbody>\n",
       "</table>\n",
       "<p>730 rows × 4 columns</p>\n",
       "</div>"
      ],
      "text/plain": [
       "               sexo  defunciones_observadas date_month_day      mes\n",
       "date                                                               \n",
       "2019-01-01  hombres                      60          01-01  2019-01\n",
       "2019-01-02  hombres                      55          01-02  2019-01\n",
       "2019-01-03  hombres                      63          01-03  2019-01\n",
       "2019-01-04  hombres                      62          01-04  2019-01\n",
       "2019-01-05  hombres                      55          01-05  2019-01\n",
       "...             ...                     ...            ...      ...\n",
       "2019-12-27  mujeres                      61          12-27  2019-12\n",
       "2019-12-28  mujeres                      58          12-28  2019-12\n",
       "2019-12-29  mujeres                      57          12-29  2019-12\n",
       "2019-12-30  mujeres                      54          12-30  2019-12\n",
       "2019-12-31  mujeres                      68          12-31  2019-12\n",
       "\n",
       "[730 rows x 4 columns]"
      ]
     },
     "execution_count": 7,
     "metadata": {},
     "output_type": "execute_result"
    }
   ],
   "source": [
    "# Sacamos las muertes en madrid de hombres y de mujeres\n",
    "\n",
    "import numpy as np \n",
    "import seaborn as sns\n",
    "\n",
    "\n",
    "def pipeline_comparativa_semestral_diaria(df):\n",
    "    return  (\n",
    "        df\n",
    "        .filter_on(\" defunciones_observadas > 0\")\n",
    "        .remove_columns(['nombre_gedad','ambito','cod_ambito','cod_ine_ambito','nombre_ambito','cod_sexo','cod_gedad','date_year','date_week','date_month','date_year_week'])\n",
    "        .rename_column( \"nombre_sexo\"    , \"sexo\")\n",
    "        .rename_column( \"date_year_month\",  \"mes\")\n",
    "        )\n",
    "\n",
    "# Sacamos los datos de 2019\n",
    "df          = pd.read_csv('/tmp/momo.csv')\n",
    "query       = '  date_year == \"2019\" & nombre_ambito       == \"Madrid, Comunidad de\" & nombre_gedad == \"todos\"  & nombre_sexo  != \"todos\" &  date_month < \"13\" '\n",
    "df_madrid_2019 =  pipeline_basic_with_query(df,query)\n",
    "df_madrid_2019 =  pipeline_comparativa_semestral_diaria(df_madrid_2019)\n",
    "\n",
    "# Sacamos los datos de 2020\n",
    "df       = pd.read_csv('/tmp/momo.csv')\n",
    "query = ' date_year == \"2020\"  &  nombre_ambito       == \"Madrid, Comunidad de\" & nombre_gedad == \"todos\"  & nombre_sexo  != \"todos\" &  date_month < \"13\" '\n",
    "df_madrid_2020 =  pipeline_basic_with_query(df,query)\n",
    "df_madrid_2020 =  pipeline_comparativa_semestral_diaria(df_madrid_2020)\n",
    "   \n",
    "\n",
    "\n",
    "\n",
    "df_madrid_2019"
   ]
  },
  {
   "cell_type": "code",
   "execution_count": 8,
   "metadata": {},
   "outputs": [
    {
     "data": {
      "text/html": [
       "<h2>Distribucion muertes en Madrid  </h2>"
      ],
      "text/plain": [
       "<IPython.core.display.HTML object>"
      ]
     },
     "metadata": {},
     "output_type": "display_data"
    },
    {
     "data": {
      "text/html": [
       "<h3>Comparativa de defunciones, entre el primer semestre de 2019 y el del 2020</h3>"
      ],
      "text/plain": [
       "<IPython.core.display.HTML object>"
      ]
     },
     "metadata": {},
     "output_type": "display_data"
    },
    {
     "data": {
      "text/plain": [
       "<matplotlib.axes._subplots.AxesSubplot at 0x7f1695d27390>"
      ]
     },
     "execution_count": 8,
     "metadata": {},
     "output_type": "execute_result"
    },
    {
     "data": {
      "image/png": "[encoded data removed]",
      "text/plain": [
       "<Figure size 1152x504 with 2 Axes>"
      ]
     },
     "metadata": {
      "needs_background": "light"
     },
     "output_type": "display_data"
    }
   ],
   "source": [
    "\n",
    "import numpy as np\n",
    "import seaborn as sns\n",
    "import matplotlib.pyplot as plt\n",
    "\n",
    "display(HTML(\"<h2>Distribucion muertes en Madrid  </h2>\"))\n",
    "display(HTML(\"<h3>Comparativa de defunciones, entre el primer semestre de 2019 y el del 2020</h3>\"))\n",
    "\n",
    "f, axes = plt.subplots(1 , 2 ,figsize=(16, 7), sharex=True)\n",
    "sns.despine(left=True)\n",
    "\n",
    "# Mismo limites, para poder comparar entre años\n",
    "axes[0].set_ylim([0,500])\n",
    "axes[1].set_ylim([0,500])\n",
    "\n",
    "\n",
    "sns.violinplot(x=\"mes\", y=\"defunciones_observadas\", hue=\"sexo\", \n",
    "                    data=df_madrid_2019,  split=True, scale=\"count\", ax=axes[0] )\n",
    "\n",
    "\n",
    "sns.violinplot(x=\"mes\", y=\"defunciones_observadas\", hue=\"sexo\", \n",
    "                    data=df_madrid_2020,  split=True, scale=\"count\", ax=axes[1])\n",
    "\n"
   ]
  },
  {
   "cell_type": "code",
   "execution_count": 9,
   "metadata": {},
   "outputs": [
    {
     "data": {
      "text/plain": [
       "{'cod_ambito': array([nan, 'AN', 'AR', 'AS', 'IB', 'CN', 'CB', 'CL', 'CM', 'CT', 'VC',\n",
       "        'EX', 'GA', 'MD', 'MC', 'NC', 'PV', 'RI', 'CE', 'ML'], dtype=object),\n",
       " 'ambito': array(['nacional', 'ccaa'], dtype=object),\n",
       " 'nombre_ambito': array([nan, 'Andalucía', 'Aragón', 'Asturias, Principado de',\n",
       "        'Balears, Illes', 'Canarias', 'Cantabria', 'Castilla y León',\n",
       "        'Castilla - La Mancha', 'Cataluña', 'Comunitat Valenciana',\n",
       "        'Extremadura', 'Galicia', 'Madrid, Comunidad de',\n",
       "        'Murcia, Región de', 'Navarra, Comunidad Foral de', 'País Vasco',\n",
       "        'Rioja, La', 'Ceuta', 'Melilla'], dtype=object),\n",
       " 'cod_sexo': array(['all', '1', '6'], dtype=object),\n",
       " 'cod_gedad': array(['all', 'menos_65', '65_74', 'mas_74'], dtype=object),\n",
       " 'nombre_gedad': array(['todos', 'edad < 65', 'edad 65-74', 'edad > 75'], dtype=object),\n",
       " 'nombre_sexo': array(['todos', 'hombres', 'mujeres'], dtype=object)}"
      ]
     },
     "execution_count": 9,
     "metadata": {},
     "output_type": "execute_result"
    }
   ],
   "source": [
    "# Aux functions\n",
    "def print_categorical_variables(df):\n",
    "    \"\"\" Get a dict with categorical variables\"\"\"    \n",
    "    my_dict = {}\n",
    "    cols = df.columns\n",
    "    num_cols = df._get_numeric_data().columns\n",
    "    # Show categorical values\n",
    "    categorical = list(set(cols) - set(num_cols))\n",
    "    for i in categorical : \n",
    "        if 'echa' not in i.lower() : my_dict[i] = df[i].unique()         \n",
    "    return my_dict\n",
    "df       = pd.read_csv('/tmp/momo.csv')\n",
    "my_dict = print_categorical_variables(df)\n",
    "my_dict"
   ]
  },
  {
   "cell_type": "code",
   "execution_count": null,
   "metadata": {},
   "outputs": [],
   "source": [
    "momo2020 = pd.read_csv(\"/root/scripts/COVID-19/data/momo2019.csv\", sep='\\t',)\n"
   ]
  },
  {
   "cell_type": "code",
   "execution_count": 7,
   "metadata": {},
   "outputs": [
    {
     "ename": "FileNotFoundError",
     "evalue": "[Errno 2] File b'' does not exist: b''",
     "output_type": "error",
     "traceback": [
      "\u001b[0;31m---------------------------------------------------------------------------\u001b[0m",
      "\u001b[0;31mFileNotFoundError\u001b[0m                         Traceback (most recent call last)",
      "\u001b[0;32m<ipython-input-7-d296465345e5>\u001b[0m in \u001b[0;36m<module>\u001b[0;34m\u001b[0m\n\u001b[1;32m      2\u001b[0m \u001b[0mquery\u001b[0m \u001b[0;34m=\u001b[0m \u001b[0;34m'ambito       == \"nacional\" & nombre_gedad == \"todos\"  & nombre_sexo  == \"todos\"  '\u001b[0m\u001b[0;34m\u001b[0m\u001b[0;34m\u001b[0m\u001b[0m\n\u001b[1;32m      3\u001b[0m \u001b[0;34m\u001b[0m\u001b[0m\n\u001b[0;32m----> 4\u001b[0;31m \u001b[0mdf\u001b[0m \u001b[0;34m=\u001b[0m \u001b[0mextraer_defunciones_anuales_por_periodo\u001b[0m\u001b[0;34m(\u001b[0m\u001b[0mperiodo_de_tiempo\u001b[0m\u001b[0;34m,\u001b[0m\u001b[0mquery\u001b[0m\u001b[0;34m)\u001b[0m\u001b[0;34m\u001b[0m\u001b[0;34m\u001b[0m\u001b[0m\n\u001b[0m",
      "\u001b[0;32m<ipython-input-6-76b41831e557>\u001b[0m in \u001b[0;36mextraer_defunciones_anuales_por_periodo\u001b[0;34m(periodo_de_tiempo, query)\u001b[0m\n\u001b[1;32m     68\u001b[0m \u001b[0;34m\u001b[0m\u001b[0m\n\u001b[1;32m     69\u001b[0m     \u001b[0;31m# Sacamos los datos y limpiamos\u001b[0m\u001b[0;34m\u001b[0m\u001b[0;34m\u001b[0m\u001b[0;34m\u001b[0m\u001b[0m\n\u001b[0;32m---> 70\u001b[0;31m     \u001b[0mdf\u001b[0m       \u001b[0;34m=\u001b[0m \u001b[0mpd\u001b[0m\u001b[0;34m.\u001b[0m\u001b[0mread_csv\u001b[0m\u001b[0;34m(\u001b[0m\u001b[0;34m''\u001b[0m\u001b[0;34m)\u001b[0m\u001b[0;34m\u001b[0m\u001b[0;34m\u001b[0m\u001b[0m\n\u001b[0m\u001b[1;32m     71\u001b[0m     \u001b[0mdf_basic\u001b[0m \u001b[0;34m=\u001b[0m \u001b[0mpipeline_basic_with_query\u001b[0m\u001b[0;34m(\u001b[0m\u001b[0mdf\u001b[0m\u001b[0;34m,\u001b[0m\u001b[0mquery\u001b[0m\u001b[0;34m)\u001b[0m\u001b[0;34m\u001b[0m\u001b[0;34m\u001b[0m\u001b[0m\n\u001b[1;32m     72\u001b[0m \u001b[0;34m\u001b[0m\u001b[0m\n",
      "\u001b[0;32m~/anaconda2/envs/jupyter/lib/python3.6/site-packages/pandas/io/parsers.py\u001b[0m in \u001b[0;36mparser_f\u001b[0;34m(filepath_or_buffer, sep, delimiter, header, names, index_col, usecols, squeeze, prefix, mangle_dupe_cols, dtype, engine, converters, true_values, false_values, skipinitialspace, skiprows, skipfooter, nrows, na_values, keep_default_na, na_filter, verbose, skip_blank_lines, parse_dates, infer_datetime_format, keep_date_col, date_parser, dayfirst, cache_dates, iterator, chunksize, compression, thousands, decimal, lineterminator, quotechar, quoting, doublequote, escapechar, comment, encoding, dialect, error_bad_lines, warn_bad_lines, delim_whitespace, low_memory, memory_map, float_precision)\u001b[0m\n\u001b[1;32m    683\u001b[0m         )\n\u001b[1;32m    684\u001b[0m \u001b[0;34m\u001b[0m\u001b[0m\n\u001b[0;32m--> 685\u001b[0;31m         \u001b[0;32mreturn\u001b[0m \u001b[0m_read\u001b[0m\u001b[0;34m(\u001b[0m\u001b[0mfilepath_or_buffer\u001b[0m\u001b[0;34m,\u001b[0m \u001b[0mkwds\u001b[0m\u001b[0;34m)\u001b[0m\u001b[0;34m\u001b[0m\u001b[0;34m\u001b[0m\u001b[0m\n\u001b[0m\u001b[1;32m    686\u001b[0m \u001b[0;34m\u001b[0m\u001b[0m\n\u001b[1;32m    687\u001b[0m     \u001b[0mparser_f\u001b[0m\u001b[0;34m.\u001b[0m\u001b[0m__name__\u001b[0m \u001b[0;34m=\u001b[0m \u001b[0mname\u001b[0m\u001b[0;34m\u001b[0m\u001b[0;34m\u001b[0m\u001b[0m\n",
      "\u001b[0;32m~/anaconda2/envs/jupyter/lib/python3.6/site-packages/pandas/io/parsers.py\u001b[0m in \u001b[0;36m_read\u001b[0;34m(filepath_or_buffer, kwds)\u001b[0m\n\u001b[1;32m    455\u001b[0m \u001b[0;34m\u001b[0m\u001b[0m\n\u001b[1;32m    456\u001b[0m     \u001b[0;31m# Create the parser.\u001b[0m\u001b[0;34m\u001b[0m\u001b[0;34m\u001b[0m\u001b[0;34m\u001b[0m\u001b[0m\n\u001b[0;32m--> 457\u001b[0;31m     \u001b[0mparser\u001b[0m \u001b[0;34m=\u001b[0m \u001b[0mTextFileReader\u001b[0m\u001b[0;34m(\u001b[0m\u001b[0mfp_or_buf\u001b[0m\u001b[0;34m,\u001b[0m \u001b[0;34m**\u001b[0m\u001b[0mkwds\u001b[0m\u001b[0;34m)\u001b[0m\u001b[0;34m\u001b[0m\u001b[0;34m\u001b[0m\u001b[0m\n\u001b[0m\u001b[1;32m    458\u001b[0m \u001b[0;34m\u001b[0m\u001b[0m\n\u001b[1;32m    459\u001b[0m     \u001b[0;32mif\u001b[0m \u001b[0mchunksize\u001b[0m \u001b[0;32mor\u001b[0m \u001b[0miterator\u001b[0m\u001b[0;34m:\u001b[0m\u001b[0;34m\u001b[0m\u001b[0;34m\u001b[0m\u001b[0m\n",
      "\u001b[0;32m~/anaconda2/envs/jupyter/lib/python3.6/site-packages/pandas/io/parsers.py\u001b[0m in \u001b[0;36m__init__\u001b[0;34m(self, f, engine, **kwds)\u001b[0m\n\u001b[1;32m    893\u001b[0m             \u001b[0mself\u001b[0m\u001b[0;34m.\u001b[0m\u001b[0moptions\u001b[0m\u001b[0;34m[\u001b[0m\u001b[0;34m\"has_index_names\"\u001b[0m\u001b[0;34m]\u001b[0m \u001b[0;34m=\u001b[0m \u001b[0mkwds\u001b[0m\u001b[0;34m[\u001b[0m\u001b[0;34m\"has_index_names\"\u001b[0m\u001b[0;34m]\u001b[0m\u001b[0;34m\u001b[0m\u001b[0;34m\u001b[0m\u001b[0m\n\u001b[1;32m    894\u001b[0m \u001b[0;34m\u001b[0m\u001b[0m\n\u001b[0;32m--> 895\u001b[0;31m         \u001b[0mself\u001b[0m\u001b[0;34m.\u001b[0m\u001b[0m_make_engine\u001b[0m\u001b[0;34m(\u001b[0m\u001b[0mself\u001b[0m\u001b[0;34m.\u001b[0m\u001b[0mengine\u001b[0m\u001b[0;34m)\u001b[0m\u001b[0;34m\u001b[0m\u001b[0;34m\u001b[0m\u001b[0m\n\u001b[0m\u001b[1;32m    896\u001b[0m \u001b[0;34m\u001b[0m\u001b[0m\n\u001b[1;32m    897\u001b[0m     \u001b[0;32mdef\u001b[0m \u001b[0mclose\u001b[0m\u001b[0;34m(\u001b[0m\u001b[0mself\u001b[0m\u001b[0;34m)\u001b[0m\u001b[0;34m:\u001b[0m\u001b[0;34m\u001b[0m\u001b[0;34m\u001b[0m\u001b[0m\n",
      "\u001b[0;32m~/anaconda2/envs/jupyter/lib/python3.6/site-packages/pandas/io/parsers.py\u001b[0m in \u001b[0;36m_make_engine\u001b[0;34m(self, engine)\u001b[0m\n\u001b[1;32m   1133\u001b[0m     \u001b[0;32mdef\u001b[0m \u001b[0m_make_engine\u001b[0m\u001b[0;34m(\u001b[0m\u001b[0mself\u001b[0m\u001b[0;34m,\u001b[0m \u001b[0mengine\u001b[0m\u001b[0;34m=\u001b[0m\u001b[0;34m\"c\"\u001b[0m\u001b[0;34m)\u001b[0m\u001b[0;34m:\u001b[0m\u001b[0;34m\u001b[0m\u001b[0;34m\u001b[0m\u001b[0m\n\u001b[1;32m   1134\u001b[0m         \u001b[0;32mif\u001b[0m \u001b[0mengine\u001b[0m \u001b[0;34m==\u001b[0m \u001b[0;34m\"c\"\u001b[0m\u001b[0;34m:\u001b[0m\u001b[0;34m\u001b[0m\u001b[0;34m\u001b[0m\u001b[0m\n\u001b[0;32m-> 1135\u001b[0;31m             \u001b[0mself\u001b[0m\u001b[0;34m.\u001b[0m\u001b[0m_engine\u001b[0m \u001b[0;34m=\u001b[0m \u001b[0mCParserWrapper\u001b[0m\u001b[0;34m(\u001b[0m\u001b[0mself\u001b[0m\u001b[0;34m.\u001b[0m\u001b[0mf\u001b[0m\u001b[0;34m,\u001b[0m \u001b[0;34m**\u001b[0m\u001b[0mself\u001b[0m\u001b[0;34m.\u001b[0m\u001b[0moptions\u001b[0m\u001b[0;34m)\u001b[0m\u001b[0;34m\u001b[0m\u001b[0;34m\u001b[0m\u001b[0m\n\u001b[0m\u001b[1;32m   1136\u001b[0m         \u001b[0;32melse\u001b[0m\u001b[0;34m:\u001b[0m\u001b[0;34m\u001b[0m\u001b[0;34m\u001b[0m\u001b[0m\n\u001b[1;32m   1137\u001b[0m             \u001b[0;32mif\u001b[0m \u001b[0mengine\u001b[0m \u001b[0;34m==\u001b[0m \u001b[0;34m\"python\"\u001b[0m\u001b[0;34m:\u001b[0m\u001b[0;34m\u001b[0m\u001b[0;34m\u001b[0m\u001b[0m\n",
      "\u001b[0;32m~/anaconda2/envs/jupyter/lib/python3.6/site-packages/pandas/io/parsers.py\u001b[0m in \u001b[0;36m__init__\u001b[0;34m(self, src, **kwds)\u001b[0m\n\u001b[1;32m   1915\u001b[0m         \u001b[0mkwds\u001b[0m\u001b[0;34m[\u001b[0m\u001b[0;34m\"usecols\"\u001b[0m\u001b[0;34m]\u001b[0m \u001b[0;34m=\u001b[0m \u001b[0mself\u001b[0m\u001b[0;34m.\u001b[0m\u001b[0musecols\u001b[0m\u001b[0;34m\u001b[0m\u001b[0;34m\u001b[0m\u001b[0m\n\u001b[1;32m   1916\u001b[0m \u001b[0;34m\u001b[0m\u001b[0m\n\u001b[0;32m-> 1917\u001b[0;31m         \u001b[0mself\u001b[0m\u001b[0;34m.\u001b[0m\u001b[0m_reader\u001b[0m \u001b[0;34m=\u001b[0m \u001b[0mparsers\u001b[0m\u001b[0;34m.\u001b[0m\u001b[0mTextReader\u001b[0m\u001b[0;34m(\u001b[0m\u001b[0msrc\u001b[0m\u001b[0;34m,\u001b[0m \u001b[0;34m**\u001b[0m\u001b[0mkwds\u001b[0m\u001b[0;34m)\u001b[0m\u001b[0;34m\u001b[0m\u001b[0;34m\u001b[0m\u001b[0m\n\u001b[0m\u001b[1;32m   1918\u001b[0m         \u001b[0mself\u001b[0m\u001b[0;34m.\u001b[0m\u001b[0munnamed_cols\u001b[0m \u001b[0;34m=\u001b[0m \u001b[0mself\u001b[0m\u001b[0;34m.\u001b[0m\u001b[0m_reader\u001b[0m\u001b[0;34m.\u001b[0m\u001b[0munnamed_cols\u001b[0m\u001b[0;34m\u001b[0m\u001b[0;34m\u001b[0m\u001b[0m\n\u001b[1;32m   1919\u001b[0m \u001b[0;34m\u001b[0m\u001b[0m\n",
      "\u001b[0;32mpandas/_libs/parsers.pyx\u001b[0m in \u001b[0;36mpandas._libs.parsers.TextReader.__cinit__\u001b[0;34m()\u001b[0m\n",
      "\u001b[0;32mpandas/_libs/parsers.pyx\u001b[0m in \u001b[0;36mpandas._libs.parsers.TextReader._setup_parser_source\u001b[0;34m()\u001b[0m\n",
      "\u001b[0;31mFileNotFoundError\u001b[0m: [Errno 2] File b'' does not exist: b''"
     ]
    }
   ],
   "source": [
    "periodo_de_tiempo=\"week\"\n",
    "query = 'ambito       == \"nacional\" & nombre_gedad == \"todos\"  & nombre_sexo  == \"todos\"  '\n",
    "\n",
    "df = extraer_defunciones_anuales_por_periodo(periodo_de_tiempo,query) \n"
   ]
  },
  {
   "cell_type": "code",
   "execution_count": 15,
   "metadata": {},
   "outputs": [
    {
     "ename": "NameError",
     "evalue": "name 'pipeline_agregado_anual' is not defined",
     "output_type": "error",
     "traceback": [
      "\u001b[0;31m---------------------------------------------------------------------------\u001b[0m",
      "\u001b[0;31mNameError\u001b[0m                                 Traceback (most recent call last)",
      "\u001b[0;32m<ipython-input-15-88dc9781ab81>\u001b[0m in \u001b[0;36m<module>\u001b[0;34m\u001b[0m\n\u001b[0;32m----> 1\u001b[0;31m \u001b[0mmuertes_2021\u001b[0m \u001b[0;34m=\u001b[0m \u001b[0mpipeline_agregado_anual\u001b[0m\u001b[0;34m(\u001b[0m\u001b[0mperiodo_de_tiempo\u001b[0m\u001b[0;34m,\u001b[0m\u001b[0mdf\u001b[0m\u001b[0;34m=\u001b[0m\u001b[0mdf_basic\u001b[0m\u001b[0;34m,\u001b[0m\u001b[0myear\u001b[0m\u001b[0;34m=\u001b[0m\u001b[0;34m'2021'\u001b[0m\u001b[0;34m)\u001b[0m\u001b[0;34m\u001b[0m\u001b[0;34m\u001b[0m\u001b[0m\n\u001b[0m",
      "\u001b[0;31mNameError\u001b[0m: name 'pipeline_agregado_anual' is not defined"
     ]
    }
   ],
   "source": [
    "df = pd.read_csv('/tmp/momo.csv')\n",
    "periodo_de_tiempo=\"week\"\n",
    "year=2021\n",
    "def pipeline_agregado_anual(periodo_de_tiempo,df,year):\n",
    "    ''' Saca un dataframe de los datos agrupados por año'''\n",
    "    return (\n",
    "        df\n",
    "        .filter_on('date_year == \"'+year+'\"'  )\n",
    "        .groupby_agg( by='date_'+periodo_de_tiempo, agg='sum', agg_column_name=\"defunciones_observadas\", new_column_name=\"agregados\")\n",
    "        .rename_column( \"agregados\", year)\n",
    "        .join_apply(lambda x: x['date_'+periodo_de_tiempo]  , new_column_name=periodo_de_tiempo )\n",
    "        .set_index('date_'+periodo_de_tiempo)\n",
    "        [[periodo_de_tiempo,year]]\n",
    "        .drop_duplicates()        \n",
    "    )\n",
    "pipeline_agregado_anual)"
   ]
  },
  {
   "cell_type": "code",
   "execution_count": null,
   "metadata": {},
   "outputs": [],
   "source": []
  }
 ],
 "metadata": {
  "kernelspec": {
   "display_name": "Python 3",
   "language": "python",
   "name": "python3"
  },
  "language_info": {
   "codemirror_mode": {
    "name": "ipython",
    "version": 3
   },
   "file_extension": ".py",
   "mimetype": "text/x-python",
   "name": "python",
   "nbconvert_exporter": "python",
   "pygments_lexer": "ipython3",
   "version": "3.6.10"
  },
  "varInspector": {
   "cols": {
    "lenName": 16,
    "lenType": 16,
    "lenVar": 40
   },
   "kernels_config": {
    "python": {
     "delete_cmd_postfix": "",
     "delete_cmd_prefix": "del ",
     "library": "var_list.py",
     "varRefreshCmd": "print(var_dic_list())"
    },
    "r": {
     "delete_cmd_postfix": ") ",
     "delete_cmd_prefix": "rm(",
     "library": "var_list.r",
     "varRefreshCmd": "cat(var_dic_list()) "
    }
   },
   "types_to_exclude": [
    "module",
    "function",
    "builtin_function_or_method",
    "instance",
    "_Feature"
   ],
   "window_display": false
  }
 },
 "nbformat": 4,
 "nbformat_minor": 4
}
