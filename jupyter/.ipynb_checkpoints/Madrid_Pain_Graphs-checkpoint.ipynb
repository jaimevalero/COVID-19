{
 "cells": [
  {
   "cell_type": "code",
   "execution_count": 1,
   "metadata": {},
   "outputs": [
    {
     "name": "stdout",
     "output_type": "stream",
     "text": [
      "200505_cam_covid19.pdf:::::\n",
      "-rw-r--r-- 1 root root 556266 may  5 09:09 200505_cam_covid19.pdf\n",
      "200504_cam_covid19.pdf:::::\n",
      "-rw-r--r-- 1 root root 557086 may  3 23:41 200504_cam_covid19.pdf\n",
      "200501_cam_covid19.pdf:::::\n",
      "-rw-r--r-- 1 root root 556974 may  1 20:11 200501_cam_covid19.pdf\n",
      "200430_cam_covid19.pdf:::::\n",
      "-rw-r--r-- 1 root root 554446 abr 30 08:36 200430_cam_covid19.pdf\n",
      "200429_cam_covid19.pdf:::::\n",
      "-rw-r--r-- 1 root root 557572 abr 29 09:53 200429_cam_covid19.pdf\n",
      "200428_cam_covid19.pdf:::::\n",
      "-rw-r--r-- 1 root root 555864 abr 28 09:10 200428_cam_covid19.pdf\n",
      "200427_cam_covid19.pdf:::::\n",
      "-rw-r--r-- 1 root root 556578 abr 27 09:03 200427_cam_covid19.pdf\n",
      "200426_cam_covid19.pdf:::::\n",
      "-rw-r--r-- 1 root root 556778 abr 26 08:37 200426_cam_covid19.pdf\n",
      "200425_cam_covid19.pdf:::::\n",
      "-rw-r--r-- 1 root root 554376 abr 25 09:31 200425_cam_covid19.pdf\n",
      "200424_cam_covid19.pdf:::::\n",
      "-rw-r--r-- 1 root root 554914 abr 25 19:34 200424_cam_covid19.pdf\n",
      "200423_cam_covid19.pdf:::::\n",
      "-rw-r--r-- 1 root root 556637 abr 23 09:23 200423_cam_covid19.pdf\n",
      "200422_cam_covid19.pdf:::::\n",
      "-rw-r--r-- 1 root root 565414 abr 22 11:56 200422_cam_covid19.pdf\n",
      "-rw-r--r-- 1 root root 565414 abr 22 11:56 ../data/200422_cam_covid19.pdf\n",
      "-rw-r--r-- 1 root root 556637 abr 23 09:23 ../data/200423_cam_covid19.pdf\n",
      "-rw-r--r-- 1 root root 554376 abr 25 09:31 ../data/200425_cam_covid19.pdf\n",
      "-rw-r--r-- 1 root root 554914 abr 25 19:34 ../data/200424_cam_covid19.pdf\n",
      "-rw-r--r-- 1 root root 556778 abr 26 08:37 ../data/200426_cam_covid19.pdf\n",
      "-rw-r--r-- 1 root root 556578 abr 27 09:03 ../data/200427_cam_covid19.pdf\n",
      "-rw-r--r-- 1 root root 555864 abr 28 09:10 ../data/200428_cam_covid19.pdf\n",
      "-rw-r--r-- 1 root root 557572 abr 29 09:53 ../data/200429_cam_covid19.pdf\n",
      "-rw-r--r-- 1 root root 554446 abr 30 08:36 ../data/200430_cam_covid19.pdf\n",
      "-rw-r--r-- 1 root root 556974 may  1 20:11 ../data/200501_cam_covid19.pdf\n",
      "-rw-r--r-- 1 root root 557086 may  3 23:41 ../data/200504_cam_covid19.pdf\n",
      "-rw-r--r-- 1 root root 556266 may  5 09:09 ../data/200505_cam_covid19.pdf\n",
      "/root/scripts/COVID-19/jupyter\n"
     ]
    }
   ],
   "source": [
    "\n",
    "! cd ../data/; FILELIST=\"200505 200504 200501 200430 200429 200428 200427 200426 200425 200424 200423 200422\" ; for fecha in `echo $FILELIST`  ; do  FILE=${fecha}_cam_covid19.pdf ; echo $FILE:::::  ;  [ ! -f ../data/${FILE} ] && wget https://www.comunidad.madrid/sites/default/files/doc/sanidad/$FILE ; ls -altr $FILE ; done \n",
    "\n",
    "! ls -altr ../data/*cam*\n",
    "! pwd "
   ]
  },
  {
   "cell_type": "code",
   "execution_count": null,
   "metadata": {},
   "outputs": [],
   "source": [
    "from tabula import read_pdf\n",
    "import os \n",
    "import pandas as pd\n",
    "import glob \n",
    "\n",
    "os.environ[\"JAVA_HOME\"] = \"/usr/lib/jvm/java-1.8.0-openjdk-1.8.0.141-1.b16.el7_3.x86_64/jre\"\n",
    "\n",
    "def get_daily_data(fecha):\n",
    "    col2str = {'dtype': str}\n",
    "    kwargs = {'output_format': 'dataframe',\n",
    "              'pandas_options': col2str,\n",
    "              'stream': False}\n",
    "    df_pdf =  read_pdf('../data/'+fecha+'_cam_covid19.pdf',pages='1',multiple_tables = True,**kwargs)\n",
    "\n",
    "    \n",
    "    df = df_pdf[0]\n",
    "    #print(fecha, df.index, df.columns)\n",
    "    df = df[df['Unnamed: 0'].notna()]\n",
    "    df = df[(df['Unnamed: 0']=='HOSPITALES') | (df['Unnamed: 0'] == 'DOMICILIOS') | (df['Unnamed: 0'] == 'CENTROS SOCIOSANITARIOS') | (df['Unnamed: 0'] == 'OTROS LUGARES') | (df['Unnamed: 0'] == 'FALLECIDOS TOTALES')]\n",
    "    df = df[['Unnamed: 0','Unnamed: 2']]\n",
    "    df['Unnamed: 2'] = df['Unnamed: 2'].astype(str).str.replace(r\".\", '')\n",
    "    df = df.T\n",
    "    df.columns = df.iloc[0]\n",
    "    df = df.iloc[1:]\n",
    "\n",
    "    df['Fecha'] =  pd.to_datetime(fecha, format='%y%m%d')\n",
    "    #del df['Unnamed: 0']\n",
    "    #df = df.reset_index(drop=True)\n",
    "    df = df.rename_axis(None)\n",
    "\n",
    "    df.set_index('Fecha', inplace=True, drop=True)\n",
    "    df.index\n",
    "    df.dropna()\n",
    "    #df = df.T\n",
    "    return df\n",
    "\n",
    "def get_all_data( ): \n",
    "    BLACKLIST = [\"200429\",\"200422\"]\n",
    "    \n",
    "    df = pd.DataFrame()\n",
    "    list_df = []\n",
    " \n",
    "    pdf_list= sorted(glob.glob('../data/*_cam_covid19.pdf'), \n",
    "                     key=os.path.getmtime,\n",
    "                     reverse=True )\n",
    "    \n",
    "    for pdf_file in pdf_list:\n",
    "        # extract fecha from username , eg : ../data/2200422_cam_covid19.pdf\n",
    "        fecha = pdf_file.split('/')[2].split('_')[0]\n",
    "        if fecha not in BLACKLIST:\n",
    "            print(\"processing\", fecha)\n",
    "            df = get_daily_data(fecha) \n",
    "        list_df.append(df)\n",
    "\n",
    "    df = pd.concat(list_df)\n",
    "    df = df.astype(int)\n",
    "    df = df.drop_duplicates()\n",
    "\n",
    "    df = df.sort_values(by=['Fecha'], ascending=True)\n",
    "\n",
    "    df['HOSPITALES hoy'] = df['HOSPITALES'] - df['HOSPITALES'].shift(1)\n",
    "    df['CENTROS SOCIOSANITARIOS hoy'] = df['CENTROS SOCIOSANITARIOS'] - df['CENTROS SOCIOSANITARIOS'].shift(1)\n",
    "    df['FALLECIDOS TOTALES hoy'] = df['FALLECIDOS TOTALES'] - df['FALLECIDOS TOTALES'].shift(1)\n",
    "\n",
    "    df = df.sort_values(by=['Fecha'], ascending=False)\n",
    "\n",
    "    return df "
   ]
  },
  {
   "cell_type": "code",
   "execution_count": null,
   "metadata": {},
   "outputs": [],
   "source": [
    "total =  get_all_data()\n",
    "\n",
    "total"
   ]
  },
  {
   "cell_type": "code",
   "execution_count": null,
   "metadata": {},
   "outputs": [],
   "source": [
    "import pandas as pd\n",
    "import io\n",
    "import matplotlib.dates as mdates\n",
    "from matplotlib import pyplot as plt\n",
    "\n",
    "\n",
    "\n",
    "chart_df=total[['HOSPITALES hoy','CENTROS SOCIOSANITARIOS hoy','FALLECIDOS TOTALES hoy']]\n",
    "chart_df.plot(legend=True,figsize=(13.5,9))\n",
    "\n",
    "plt.gca().xaxis.set_major_formatter(mdates.DateFormatter('%Y-%m-%d'))\n",
    "plt.gca().xaxis.set_major_locator(mdates.DayLocator(interval=1))\n",
    "plt.show()\n",
    "\n"
   ]
  },
  {
   "cell_type": "code",
   "execution_count": null,
   "metadata": {},
   "outputs": [],
   "source": [
    "from IPython.display import display, HTML\n",
    "HTML(\"<h2>Muertes medias diarias desde que la comunidad de Madrid publica datos</h2>\")\n"
   ]
  },
  {
   "cell_type": "code",
   "execution_count": null,
   "metadata": {},
   "outputs": [],
   "source": [
    "# Calculamos los incrementos medios, desde que tenemos fechas\n",
    "df = total\n",
    "\n",
    "medias_datos = pd.DataFrame((df.head(1).max(axis=0) - df.tail(1).max(axis=0) ) / df.shape[0] ).T[['HOSPITALES','DOMICILIOS','CENTROS SOCIOSANITARIOS','OTROS LUGARES','FALLECIDOS TOTALES']]\n",
    "medias_datos"
   ]
  },
  {
   "cell_type": "code",
   "execution_count": null,
   "metadata": {},
   "outputs": [],
   "source": [
    "from IPython.display import display, HTML\n",
    "HTML(\"<h2>Muertes medias diarias desde el principio de la crisis</h2>\")\n"
   ]
  },
  {
   "cell_type": "code",
   "execution_count": null,
   "metadata": {},
   "outputs": [],
   "source": [
    "from datetime import date\n",
    "df = total\n",
    "\n",
    "inicio_crisis = pd.Timestamp('2020-03-09 00:00:00')\n",
    "dia_mas_reciente = df.index[0]\n",
    "dias_transcurridos_inicio_crisis = dia_mas_reciente - inicio_crisis\n",
    "\n",
    "medias_inicio_crisis = pd.DataFrame((df.head(1).max(axis=0)) / dias_transcurridos_inicio_crisis.days ).T[['HOSPITALES','DOMICILIOS','CENTROS SOCIOSANITARIOS','OTROS LUGARES','FALLECIDOS TOTALES']]\n",
    "medias_inicio_crisis\n",
    "                                    "
   ]
  },
  {
   "cell_type": "code",
   "execution_count": null,
   "metadata": {},
   "outputs": [],
   "source": []
  },
  {
   "cell_type": "code",
   "execution_count": null,
   "metadata": {},
   "outputs": [],
   "source": []
  }
 ],
 "metadata": {
  "kernelspec": {
   "display_name": "Python 3",
   "language": "python",
   "name": "python3"
  },
  "language_info": {
   "codemirror_mode": {
    "name": "ipython",
    "version": 3
   },
   "file_extension": ".py",
   "mimetype": "text/x-python",
   "name": "python",
   "nbconvert_exporter": "python",
   "pygments_lexer": "ipython3",
   "version": "3.6.10"
  },
  "varInspector": {
   "cols": {
    "lenName": 16,
    "lenType": 16,
    "lenVar": 40
   },
   "kernels_config": {
    "python": {
     "delete_cmd_postfix": "",
     "delete_cmd_prefix": "del ",
     "library": "var_list.py",
     "varRefreshCmd": "print(var_dic_list())"
    },
    "r": {
     "delete_cmd_postfix": ") ",
     "delete_cmd_prefix": "rm(",
     "library": "var_list.r",
     "varRefreshCmd": "cat(var_dic_list()) "
    }
   },
   "types_to_exclude": [
    "module",
    "function",
    "builtin_function_or_method",
    "instance",
    "_Feature"
   ],
   "window_display": false
  }
 },
 "nbformat": 4,
 "nbformat_minor": 4
}
