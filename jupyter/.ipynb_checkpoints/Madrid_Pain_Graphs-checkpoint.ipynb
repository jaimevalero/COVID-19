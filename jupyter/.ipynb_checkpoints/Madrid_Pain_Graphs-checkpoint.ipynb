{
 "cells": [
  {
   "cell_type": "markdown",
   "metadata": {},
   "source": [
    "# Informes de la comunidad de Madrid\n",
    "\n",
    "Actualizado diariamente, este documento se [visualiza mejor aquí](https://nbviewer.jupyter.org/github/jaimevalero/COVID-19/blob/master/jupyter/Madrid_Pain_Graphs.ipynb).\n",
    "\n",
    "Datos de la situación de la infección por coronavirus en la Comunidad de Madrid.\n",
    "\n",
    "Nos descargamos los datos, agrupamos, y calculamos :\n",
    "\n",
    "- Gráfico de seguimiento.\n",
    "\n",
    "\n",
    "- Muertes medias diarias, últimos 7 días.\n",
    "\n",
    "\n",
    "- Muertes medias diarias desde que la comunidad de Madrid publica datos.\n",
    "\n"
   ]
  },
  {
   "cell_type": "code",
   "execution_count": 1,
   "metadata": {},
   "outputs": [
    {
     "name": "stdout",
     "output_type": "stream",
     "text": [
      "201004_cam_covid19.pdf:::::\n",
      "201003_cam_covid19.pdf:::::\n",
      "200927_cam_covid19.pdf:::::\n",
      "201005cam_covid19.pdf:::::\n",
      "201004cam_covid19.pdf:::::\n",
      "201003cam_covid19.pdf:::::\n",
      "201002cam_covid19.pdf:::::\n",
      "201001cam_covid19.pdf:::::\n",
      "200930cam_covid19.pdf:::::\n",
      "200929cam_covid19.pdf:::::\n",
      "200928cam_covid19.pdf:::::\n",
      "200927cam_covid19.pdf:::::\n",
      "20201005_cam_covid19.pdf:::::\n",
      "20201004_cam_covid19.pdf:::::\n",
      "20201003_cam_covid19.pdf:::::\n",
      "20201002_cam_covid19.pdf:::::\n",
      "20201001_cam_covid19.pdf:::::\n",
      "20200930_cam_covid19.pdf:::::\n",
      "20200929_cam_covid19.pdf:::::\n",
      "20200928_cam_covid19.pdf:::::\n",
      "20200927_cam_covid19.pdf:::::\n",
      "201004_cam_covid19.pdf:::::\n",
      "201003_cam_covid19.pdf:::::\n",
      "200927_cam_covid19.pdf:::::\n"
     ]
    }
   ],
   "source": [
    "# Miramos si hay nuevos datos a descargar.\n",
    "\n",
    "!# cd ../data/; FILELIST=\" 200509 200508 200507 200506 200505 200504 200503 200502 200501 200430 200429 200428 200427 200426 200425 200424 200423 200422 200510 200511 200512 200513 200514 200515 200516 200517 200518 200519 200520 200521 200522 200523 200524 200525 200526 200527 200528 200529 200530 200609 200608 200607 200606 200605 200604 200603 200602 200601 200610 200611 200612 200613 200614 200615 200616 200617 200618 200619 200620 200621 200622 200623 200624 200625 200626 200627 200628 200629 200630 \" ; for fecha in `echo $FILELIST`  ; do  FILE=${fecha}_cam_covid19.pdf ;  [ ! -f ../data/${FILE} ] && echo $FILE:::::    && wget https://www.comunidad.madrid/sites/default/files/doc/sanidad/$FILE 1>/dev/null  2>/dev/null && ls -altr $FILE ; done \n",
    "\n",
    "# Miramos solo hoy y los ultimos diez dias\n",
    "! cd ../data/; FILELIST=`seq -w 0 8 | while read i ; do date +%y%m%d -d \"$i day ago\" ; done` ; for fecha in `echo $FILELIST`  ; do  FILE=${fecha}_cam_covid19.pdf ;  [ ! -f ../data/${FILE} ] && echo $FILE:::::    && wget https://www.comunidad.madrid/sites/default/files/doc/sanidad/$FILE 1>/dev/null  2>/dev/null && ls -altr $FILE ; done \n",
    "! cd ../data/; FILELIST=`seq -w 0 8 | while read i ; do date +%y%m%d -d \"$i day ago\" ; done` ; for fecha in `echo $FILELIST`  ; do  FILE=${fecha}cam_covid19.pdf ;  [ ! -f ../data/${FILE} ] && echo $FILE:::::    && wget https://www.comunidad.madrid/sites/default/files/doc/sanidad/$FILE 1>/dev/null  2>/dev/null && ls -altr $FILE ; done \n",
    "! cd ../data/; FILELIST=`seq -w 0 8 | while read i ; do date +%Y%m%d -d \"$i day ago\" ; done` ; for fecha in `echo $FILELIST`  ; do  FILE=${fecha}_cam_covid19.pdf ;  [ ! -f ../data/${FILE} ] && echo $FILE:::::    && wget https://www.comunidad.madrid/sites/default/files/doc/sanidad/$FILE 1>/dev/null  2>/dev/null && ls -altr $FILE ; done \n",
    "! cd ../data/; FILELIST=`seq -w 0 8 | while read i ; do date +%y%m%d -d \"$i day ago\" ; done` ; for fecha in `echo $FILELIST`  ; do  FILE=${fecha}_cam_covid19.pdf ;  [ ! -f ../data/${FILE} ] && echo $FILE:::::    && wget https://www.comunidad.madrid/sites/default/files/$FILE 1>/dev/null  2>/dev/null && ls -altr $FILE ; done \n",
    "#200902_cam_covid19.pdf"
   ]
  },
  {
   "cell_type": "code",
   "execution_count": 9,
   "metadata": {
    "scrolled": true
   },
   "outputs": [
    {
     "data": {
      "application/vnd.jupyter.widget-view+json": {
       "model_id": "26e8bd30906a44ce96696382c78032f9",
       "version_major": 2,
       "version_minor": 0
      },
      "text/plain": [
       "HBox(children=(FloatProgress(value=0.0, description='Procesando pdfs diarios', max=139.0, style=ProgressStyle(…"
      ]
     },
     "metadata": {},
     "output_type": "display_data"
    },
    {
     "name": "stderr",
     "output_type": "stream",
     "text": [
      "Got stderr: oct 05, 2020 7:45:49 PM org.apache.pdfbox.pdmodel.font.PDTrueTypeFont <init>\n",
      "ADVERTENCIA: Using fallback font 'LiberationSans' for 'Arial,Bold'\n",
      "\n",
      "Got stderr: oct 05, 2020 7:45:51 PM org.apache.pdfbox.pdmodel.font.PDTrueTypeFont <init>\n",
      "ADVERTENCIA: Using fallback font 'LiberationSans' for 'Arial,Bold'\n",
      "\n",
      "Got stderr: oct 05, 2020 7:45:52 PM org.apache.pdfbox.pdmodel.font.PDTrueTypeFont <init>\n",
      "ADVERTENCIA: Using fallback font 'LiberationSans' for 'Arial,Bold'\n",
      "\n",
      "Got stderr: oct 05, 2020 7:45:53 PM org.apache.pdfbox.pdmodel.font.PDTrueTypeFont <init>\n",
      "ADVERTENCIA: Using fallback font 'LiberationSans' for 'Arial,Bold'\n",
      "\n",
      "Got stderr: oct 05, 2020 7:45:54 PM org.apache.pdfbox.pdmodel.font.PDTrueTypeFont <init>\n",
      "ADVERTENCIA: Using fallback font 'LiberationSans' for 'Arial,Bold'\n",
      "\n",
      "Got stderr: oct 05, 2020 7:45:55 PM org.apache.pdfbox.pdmodel.font.PDTrueTypeFont <init>\n",
      "ADVERTENCIA: Using fallback font 'LiberationSans' for 'Arial,Bold'\n",
      "\n",
      "Got stderr: oct 05, 2020 7:45:56 PM org.apache.pdfbox.pdmodel.font.PDTrueTypeFont <init>\n",
      "ADVERTENCIA: Using fallback font 'LiberationSans' for 'Arial,Bold'\n",
      "\n",
      "Got stderr: oct 05, 2020 7:45:58 PM org.apache.pdfbox.pdmodel.font.PDTrueTypeFont <init>\n",
      "ADVERTENCIA: Using fallback font 'LiberationSans' for 'Arial,Bold'\n",
      "\n",
      "Got stderr: oct 05, 2020 7:45:59 PM org.apache.pdfbox.pdmodel.font.PDTrueTypeFont <init>\n",
      "ADVERTENCIA: Using fallback font 'LiberationSans' for 'Arial,Bold'\n",
      "\n",
      "Got stderr: oct 05, 2020 7:46:00 PM org.apache.pdfbox.pdmodel.font.PDTrueTypeFont <init>\n",
      "ADVERTENCIA: Using fallback font 'LiberationSans' for 'Arial,Bold'\n",
      "\n"
     ]
    },
    {
     "name": "stdout",
     "output_type": "stream",
     "text": [
      "200519 mal parseada: index 1 is out of bounds for axis 0 with size 1\n",
      "200518 mal parseada: index 1 is out of bounds for axis 0 with size 1\n",
      "200517 mal parseada: index 1 is out of bounds for axis 0 with size 1\n",
      "200516 mal parseada: index 1 is out of bounds for axis 0 with size 1\n",
      "200515 mal parseada: index 1 is out of bounds for axis 0 with size 1\n",
      "200514 mal parseada: index 1 is out of bounds for axis 0 with size 1\n",
      "200513 mal parseada: index 1 is out of bounds for axis 0 with size 1\n"
     ]
    },
    {
     "name": "stderr",
     "output_type": "stream",
     "text": [
      "Got stderr: oct 05, 2020 7:50:05 PM org.apache.pdfbox.pdmodel.font.PDCIDFontType2 <init>\n",
      "INFORMACIÓN: OpenType Layout tables used in font CIDFont+F1 are not implemented in PDFBox and will be ignored\n",
      "oct 05, 2020 7:50:05 PM org.apache.pdfbox.pdmodel.font.PDCIDFontType2 <init>\n",
      "INFORMACIÓN: OpenType Layout tables used in font CIDFont+F2 are not implemented in PDFBox and will be ignored\n",
      "oct 05, 2020 7:50:05 PM org.apache.pdfbox.pdmodel.font.PDCIDFontType2 <init>\n",
      "INFORMACIÓN: OpenType Layout tables used in font CIDFont+F3 are not implemented in PDFBox and will be ignored\n",
      "oct 05, 2020 7:50:05 PM org.apache.pdfbox.pdmodel.font.PDCIDFontType2 <init>\n",
      "INFORMACIÓN: OpenType Layout tables used in font CIDFont+F1 are not implemented in PDFBox and will be ignored\n",
      "oct 05, 2020 7:50:06 PM org.apache.pdfbox.pdmodel.font.PDCIDFontType2 <init>\n",
      "INFORMACIÓN: OpenType Layout tables used in font CIDFont+F2 are not implemented in PDFBox and will be ignored\n",
      "oct 05, 2020 7:50:06 PM org.apache.pdfbox.pdmodel.font.PDCIDFontType2 <init>\n",
      "INFORMACIÓN: OpenType Layout tables used in font CIDFont+F3 are not implemented in PDFBox and will be ignored\n",
      "oct 05, 2020 7:50:06 PM org.apache.pdfbox.pdmodel.font.PDCIDFontType2 <init>\n",
      "INFORMACIÓN: OpenType Layout tables used in font CIDFont+F1 are not implemented in PDFBox and will be ignored\n",
      "oct 05, 2020 7:50:06 PM org.apache.pdfbox.pdmodel.font.PDCIDFontType2 <init>\n",
      "INFORMACIÓN: OpenType Layout tables used in font CIDFont+F2 are not implemented in PDFBox and will be ignored\n",
      "oct 05, 2020 7:50:06 PM org.apache.pdfbox.pdmodel.font.PDCIDFontType2 <init>\n",
      "INFORMACIÓN: OpenType Layout tables used in font CIDFont+F3 are not implemented in PDFBox and will be ignored\n",
      "\n"
     ]
    },
    {
     "name": "stdout",
     "output_type": "stream",
     "text": [
      "\n"
     ]
    },
    {
     "ename": "ValueError",
     "evalue": "cannot convert float NaN to integer",
     "output_type": "error",
     "traceback": [
      "\u001b[0;31m---------------------------------------------------------------------------\u001b[0m",
      "\u001b[0;31mValueError\u001b[0m                                Traceback (most recent call last)",
      "\u001b[0;32m<ipython-input-9-c964703d1f87>\u001b[0m in \u001b[0;36m<module>\u001b[0;34m\u001b[0m\n\u001b[1;32m    162\u001b[0m     \u001b[0;32mreturn\u001b[0m \u001b[0mdf\u001b[0m\u001b[0;34m\u001b[0m\u001b[0;34m\u001b[0m\u001b[0m\n\u001b[1;32m    163\u001b[0m \u001b[0;34m\u001b[0m\u001b[0m\n\u001b[0;32m--> 164\u001b[0;31m \u001b[0mtotal\u001b[0m \u001b[0;34m=\u001b[0m  \u001b[0mget_all_data\u001b[0m\u001b[0;34m(\u001b[0m\u001b[0;34m)\u001b[0m\u001b[0;34m\u001b[0m\u001b[0;34m\u001b[0m\u001b[0m\n\u001b[0m\u001b[1;32m    165\u001b[0m \u001b[0mtotal\u001b[0m\u001b[0;34m.\u001b[0m\u001b[0mto_csv\u001b[0m\u001b[0;34m(\u001b[0m\u001b[0;34m'/root/kaggle/covid19-madrid/madrid_results.csv'\u001b[0m\u001b[0;34m)\u001b[0m\u001b[0;34m\u001b[0m\u001b[0;34m\u001b[0m\u001b[0m\n",
      "\u001b[0;32m<ipython-input-9-c964703d1f87>\u001b[0m in \u001b[0;36mget_all_data\u001b[0;34m()\u001b[0m\n\u001b[1;32m    149\u001b[0m \u001b[0;34m\u001b[0m\u001b[0m\n\u001b[1;32m    150\u001b[0m     \u001b[0mdf\u001b[0m \u001b[0;34m=\u001b[0m \u001b[0mpd\u001b[0m\u001b[0;34m.\u001b[0m\u001b[0mconcat\u001b[0m\u001b[0;34m(\u001b[0m\u001b[0mlist_df\u001b[0m\u001b[0;34m)\u001b[0m\u001b[0;34m\u001b[0m\u001b[0;34m\u001b[0m\u001b[0m\n\u001b[0;32m--> 151\u001b[0;31m     \u001b[0mdf\u001b[0m \u001b[0;34m=\u001b[0m \u001b[0mdf\u001b[0m\u001b[0;34m.\u001b[0m\u001b[0mastype\u001b[0m\u001b[0;34m(\u001b[0m\u001b[0mint\u001b[0m\u001b[0;34m)\u001b[0m\u001b[0;34m\u001b[0m\u001b[0;34m\u001b[0m\u001b[0m\n\u001b[0m\u001b[1;32m    152\u001b[0m     \u001b[0mdf\u001b[0m \u001b[0;34m=\u001b[0m \u001b[0mdf\u001b[0m\u001b[0;34m.\u001b[0m\u001b[0mdrop_duplicates\u001b[0m\u001b[0;34m(\u001b[0m\u001b[0;34m)\u001b[0m\u001b[0;34m\u001b[0m\u001b[0;34m\u001b[0m\u001b[0m\n\u001b[1;32m    153\u001b[0m \u001b[0;34m\u001b[0m\u001b[0m\n",
      "\u001b[0;32m~/anaconda2/envs/jupyter/lib/python3.6/site-packages/pandas/core/generic.py\u001b[0m in \u001b[0;36mastype\u001b[0;34m(self, dtype, copy, errors, **kwargs)\u001b[0m\n\u001b[1;32m   5880\u001b[0m             \u001b[0;31m# else, only a single dtype is given\u001b[0m\u001b[0;34m\u001b[0m\u001b[0;34m\u001b[0m\u001b[0;34m\u001b[0m\u001b[0m\n\u001b[1;32m   5881\u001b[0m             new_data = self._data.astype(\n\u001b[0;32m-> 5882\u001b[0;31m                 \u001b[0mdtype\u001b[0m\u001b[0;34m=\u001b[0m\u001b[0mdtype\u001b[0m\u001b[0;34m,\u001b[0m \u001b[0mcopy\u001b[0m\u001b[0;34m=\u001b[0m\u001b[0mcopy\u001b[0m\u001b[0;34m,\u001b[0m \u001b[0merrors\u001b[0m\u001b[0;34m=\u001b[0m\u001b[0merrors\u001b[0m\u001b[0;34m,\u001b[0m \u001b[0;34m**\u001b[0m\u001b[0mkwargs\u001b[0m\u001b[0;34m\u001b[0m\u001b[0;34m\u001b[0m\u001b[0m\n\u001b[0m\u001b[1;32m   5883\u001b[0m             )\n\u001b[1;32m   5884\u001b[0m             \u001b[0;32mreturn\u001b[0m \u001b[0mself\u001b[0m\u001b[0;34m.\u001b[0m\u001b[0m_constructor\u001b[0m\u001b[0;34m(\u001b[0m\u001b[0mnew_data\u001b[0m\u001b[0;34m)\u001b[0m\u001b[0;34m.\u001b[0m\u001b[0m__finalize__\u001b[0m\u001b[0;34m(\u001b[0m\u001b[0mself\u001b[0m\u001b[0;34m)\u001b[0m\u001b[0;34m\u001b[0m\u001b[0;34m\u001b[0m\u001b[0m\n",
      "\u001b[0;32m~/anaconda2/envs/jupyter/lib/python3.6/site-packages/pandas/core/internals/managers.py\u001b[0m in \u001b[0;36mastype\u001b[0;34m(self, dtype, **kwargs)\u001b[0m\n\u001b[1;32m    579\u001b[0m \u001b[0;34m\u001b[0m\u001b[0m\n\u001b[1;32m    580\u001b[0m     \u001b[0;32mdef\u001b[0m \u001b[0mastype\u001b[0m\u001b[0;34m(\u001b[0m\u001b[0mself\u001b[0m\u001b[0;34m,\u001b[0m \u001b[0mdtype\u001b[0m\u001b[0;34m,\u001b[0m \u001b[0;34m**\u001b[0m\u001b[0mkwargs\u001b[0m\u001b[0;34m)\u001b[0m\u001b[0;34m:\u001b[0m\u001b[0;34m\u001b[0m\u001b[0;34m\u001b[0m\u001b[0m\n\u001b[0;32m--> 581\u001b[0;31m         \u001b[0;32mreturn\u001b[0m \u001b[0mself\u001b[0m\u001b[0;34m.\u001b[0m\u001b[0mapply\u001b[0m\u001b[0;34m(\u001b[0m\u001b[0;34m\"astype\"\u001b[0m\u001b[0;34m,\u001b[0m \u001b[0mdtype\u001b[0m\u001b[0;34m=\u001b[0m\u001b[0mdtype\u001b[0m\u001b[0;34m,\u001b[0m \u001b[0;34m**\u001b[0m\u001b[0mkwargs\u001b[0m\u001b[0;34m)\u001b[0m\u001b[0;34m\u001b[0m\u001b[0;34m\u001b[0m\u001b[0m\n\u001b[0m\u001b[1;32m    582\u001b[0m \u001b[0;34m\u001b[0m\u001b[0m\n\u001b[1;32m    583\u001b[0m     \u001b[0;32mdef\u001b[0m \u001b[0mconvert\u001b[0m\u001b[0;34m(\u001b[0m\u001b[0mself\u001b[0m\u001b[0;34m,\u001b[0m \u001b[0;34m**\u001b[0m\u001b[0mkwargs\u001b[0m\u001b[0;34m)\u001b[0m\u001b[0;34m:\u001b[0m\u001b[0;34m\u001b[0m\u001b[0;34m\u001b[0m\u001b[0m\n",
      "\u001b[0;32m~/anaconda2/envs/jupyter/lib/python3.6/site-packages/pandas/core/internals/managers.py\u001b[0m in \u001b[0;36mapply\u001b[0;34m(self, f, axes, filter, do_integrity_check, consolidate, **kwargs)\u001b[0m\n\u001b[1;32m    436\u001b[0m                     \u001b[0mkwargs\u001b[0m\u001b[0;34m[\u001b[0m\u001b[0mk\u001b[0m\u001b[0;34m]\u001b[0m \u001b[0;34m=\u001b[0m \u001b[0mobj\u001b[0m\u001b[0;34m.\u001b[0m\u001b[0mreindex\u001b[0m\u001b[0;34m(\u001b[0m\u001b[0mb_items\u001b[0m\u001b[0;34m,\u001b[0m \u001b[0maxis\u001b[0m\u001b[0;34m=\u001b[0m\u001b[0maxis\u001b[0m\u001b[0;34m,\u001b[0m \u001b[0mcopy\u001b[0m\u001b[0;34m=\u001b[0m\u001b[0malign_copy\u001b[0m\u001b[0;34m)\u001b[0m\u001b[0;34m\u001b[0m\u001b[0;34m\u001b[0m\u001b[0m\n\u001b[1;32m    437\u001b[0m \u001b[0;34m\u001b[0m\u001b[0m\n\u001b[0;32m--> 438\u001b[0;31m             \u001b[0mapplied\u001b[0m \u001b[0;34m=\u001b[0m \u001b[0mgetattr\u001b[0m\u001b[0;34m(\u001b[0m\u001b[0mb\u001b[0m\u001b[0;34m,\u001b[0m \u001b[0mf\u001b[0m\u001b[0;34m)\u001b[0m\u001b[0;34m(\u001b[0m\u001b[0;34m**\u001b[0m\u001b[0mkwargs\u001b[0m\u001b[0;34m)\u001b[0m\u001b[0;34m\u001b[0m\u001b[0;34m\u001b[0m\u001b[0m\n\u001b[0m\u001b[1;32m    439\u001b[0m             \u001b[0mresult_blocks\u001b[0m \u001b[0;34m=\u001b[0m \u001b[0m_extend_blocks\u001b[0m\u001b[0;34m(\u001b[0m\u001b[0mapplied\u001b[0m\u001b[0;34m,\u001b[0m \u001b[0mresult_blocks\u001b[0m\u001b[0;34m)\u001b[0m\u001b[0;34m\u001b[0m\u001b[0;34m\u001b[0m\u001b[0m\n\u001b[1;32m    440\u001b[0m \u001b[0;34m\u001b[0m\u001b[0m\n",
      "\u001b[0;32m~/anaconda2/envs/jupyter/lib/python3.6/site-packages/pandas/core/internals/blocks.py\u001b[0m in \u001b[0;36mastype\u001b[0;34m(self, dtype, copy, errors, values, **kwargs)\u001b[0m\n\u001b[1;32m    557\u001b[0m \u001b[0;34m\u001b[0m\u001b[0m\n\u001b[1;32m    558\u001b[0m     \u001b[0;32mdef\u001b[0m \u001b[0mastype\u001b[0m\u001b[0;34m(\u001b[0m\u001b[0mself\u001b[0m\u001b[0;34m,\u001b[0m \u001b[0mdtype\u001b[0m\u001b[0;34m,\u001b[0m \u001b[0mcopy\u001b[0m\u001b[0;34m=\u001b[0m\u001b[0;32mFalse\u001b[0m\u001b[0;34m,\u001b[0m \u001b[0merrors\u001b[0m\u001b[0;34m=\u001b[0m\u001b[0;34m\"raise\"\u001b[0m\u001b[0;34m,\u001b[0m \u001b[0mvalues\u001b[0m\u001b[0;34m=\u001b[0m\u001b[0;32mNone\u001b[0m\u001b[0;34m,\u001b[0m \u001b[0;34m**\u001b[0m\u001b[0mkwargs\u001b[0m\u001b[0;34m)\u001b[0m\u001b[0;34m:\u001b[0m\u001b[0;34m\u001b[0m\u001b[0;34m\u001b[0m\u001b[0m\n\u001b[0;32m--> 559\u001b[0;31m         \u001b[0;32mreturn\u001b[0m \u001b[0mself\u001b[0m\u001b[0;34m.\u001b[0m\u001b[0m_astype\u001b[0m\u001b[0;34m(\u001b[0m\u001b[0mdtype\u001b[0m\u001b[0;34m,\u001b[0m \u001b[0mcopy\u001b[0m\u001b[0;34m=\u001b[0m\u001b[0mcopy\u001b[0m\u001b[0;34m,\u001b[0m \u001b[0merrors\u001b[0m\u001b[0;34m=\u001b[0m\u001b[0merrors\u001b[0m\u001b[0;34m,\u001b[0m \u001b[0mvalues\u001b[0m\u001b[0;34m=\u001b[0m\u001b[0mvalues\u001b[0m\u001b[0;34m,\u001b[0m \u001b[0;34m**\u001b[0m\u001b[0mkwargs\u001b[0m\u001b[0;34m)\u001b[0m\u001b[0;34m\u001b[0m\u001b[0;34m\u001b[0m\u001b[0m\n\u001b[0m\u001b[1;32m    560\u001b[0m \u001b[0;34m\u001b[0m\u001b[0m\n\u001b[1;32m    561\u001b[0m     \u001b[0;32mdef\u001b[0m \u001b[0m_astype\u001b[0m\u001b[0;34m(\u001b[0m\u001b[0mself\u001b[0m\u001b[0;34m,\u001b[0m \u001b[0mdtype\u001b[0m\u001b[0;34m,\u001b[0m \u001b[0mcopy\u001b[0m\u001b[0;34m=\u001b[0m\u001b[0;32mFalse\u001b[0m\u001b[0;34m,\u001b[0m \u001b[0merrors\u001b[0m\u001b[0;34m=\u001b[0m\u001b[0;34m\"raise\"\u001b[0m\u001b[0;34m,\u001b[0m \u001b[0mvalues\u001b[0m\u001b[0;34m=\u001b[0m\u001b[0;32mNone\u001b[0m\u001b[0;34m,\u001b[0m \u001b[0;34m**\u001b[0m\u001b[0mkwargs\u001b[0m\u001b[0;34m)\u001b[0m\u001b[0;34m:\u001b[0m\u001b[0;34m\u001b[0m\u001b[0;34m\u001b[0m\u001b[0m\n",
      "\u001b[0;32m~/anaconda2/envs/jupyter/lib/python3.6/site-packages/pandas/core/internals/blocks.py\u001b[0m in \u001b[0;36m_astype\u001b[0;34m(self, dtype, copy, errors, values, **kwargs)\u001b[0m\n\u001b[1;32m    641\u001b[0m                     \u001b[0;31m# _astype_nansafe works fine with 1-d only\u001b[0m\u001b[0;34m\u001b[0m\u001b[0;34m\u001b[0m\u001b[0;34m\u001b[0m\u001b[0m\n\u001b[1;32m    642\u001b[0m                     \u001b[0mvals1d\u001b[0m \u001b[0;34m=\u001b[0m \u001b[0mvalues\u001b[0m\u001b[0;34m.\u001b[0m\u001b[0mravel\u001b[0m\u001b[0;34m(\u001b[0m\u001b[0;34m)\u001b[0m\u001b[0;34m\u001b[0m\u001b[0;34m\u001b[0m\u001b[0m\n\u001b[0;32m--> 643\u001b[0;31m                     \u001b[0mvalues\u001b[0m \u001b[0;34m=\u001b[0m \u001b[0mastype_nansafe\u001b[0m\u001b[0;34m(\u001b[0m\u001b[0mvals1d\u001b[0m\u001b[0;34m,\u001b[0m \u001b[0mdtype\u001b[0m\u001b[0;34m,\u001b[0m \u001b[0mcopy\u001b[0m\u001b[0;34m=\u001b[0m\u001b[0;32mTrue\u001b[0m\u001b[0;34m,\u001b[0m \u001b[0;34m**\u001b[0m\u001b[0mkwargs\u001b[0m\u001b[0;34m)\u001b[0m\u001b[0;34m\u001b[0m\u001b[0;34m\u001b[0m\u001b[0m\n\u001b[0m\u001b[1;32m    644\u001b[0m \u001b[0;34m\u001b[0m\u001b[0m\n\u001b[1;32m    645\u001b[0m                 \u001b[0;31m# TODO(extension)\u001b[0m\u001b[0;34m\u001b[0m\u001b[0;34m\u001b[0m\u001b[0;34m\u001b[0m\u001b[0m\n",
      "\u001b[0;32m~/anaconda2/envs/jupyter/lib/python3.6/site-packages/pandas/core/dtypes/cast.py\u001b[0m in \u001b[0;36mastype_nansafe\u001b[0;34m(arr, dtype, copy, skipna)\u001b[0m\n\u001b[1;32m    705\u001b[0m         \u001b[0;31m# work around NumPy brokenness, #1987\u001b[0m\u001b[0;34m\u001b[0m\u001b[0;34m\u001b[0m\u001b[0;34m\u001b[0m\u001b[0m\n\u001b[1;32m    706\u001b[0m         \u001b[0;32mif\u001b[0m \u001b[0mnp\u001b[0m\u001b[0;34m.\u001b[0m\u001b[0missubdtype\u001b[0m\u001b[0;34m(\u001b[0m\u001b[0mdtype\u001b[0m\u001b[0;34m.\u001b[0m\u001b[0mtype\u001b[0m\u001b[0;34m,\u001b[0m \u001b[0mnp\u001b[0m\u001b[0;34m.\u001b[0m\u001b[0minteger\u001b[0m\u001b[0;34m)\u001b[0m\u001b[0;34m:\u001b[0m\u001b[0;34m\u001b[0m\u001b[0;34m\u001b[0m\u001b[0m\n\u001b[0;32m--> 707\u001b[0;31m             \u001b[0;32mreturn\u001b[0m \u001b[0mlib\u001b[0m\u001b[0;34m.\u001b[0m\u001b[0mastype_intsafe\u001b[0m\u001b[0;34m(\u001b[0m\u001b[0marr\u001b[0m\u001b[0;34m.\u001b[0m\u001b[0mravel\u001b[0m\u001b[0;34m(\u001b[0m\u001b[0;34m)\u001b[0m\u001b[0;34m,\u001b[0m \u001b[0mdtype\u001b[0m\u001b[0;34m)\u001b[0m\u001b[0;34m.\u001b[0m\u001b[0mreshape\u001b[0m\u001b[0;34m(\u001b[0m\u001b[0marr\u001b[0m\u001b[0;34m.\u001b[0m\u001b[0mshape\u001b[0m\u001b[0;34m)\u001b[0m\u001b[0;34m\u001b[0m\u001b[0;34m\u001b[0m\u001b[0m\n\u001b[0m\u001b[1;32m    708\u001b[0m \u001b[0;34m\u001b[0m\u001b[0m\n\u001b[1;32m    709\u001b[0m         \u001b[0;31m# if we have a datetime/timedelta array of objects\u001b[0m\u001b[0;34m\u001b[0m\u001b[0;34m\u001b[0m\u001b[0;34m\u001b[0m\u001b[0m\n",
      "\u001b[0;32mpandas/_libs/lib.pyx\u001b[0m in \u001b[0;36mpandas._libs.lib.astype_intsafe\u001b[0;34m()\u001b[0m\n",
      "\u001b[0;31mValueError\u001b[0m: cannot convert float NaN to integer"
     ]
    }
   ],
   "source": [
    "from tabula import read_pdf\n",
    "from IPython.display import display, HTML\n",
    "import os \n",
    "import pandas as pd\n",
    "import glob \n",
    "import re \n",
    "from tqdm.notebook import tqdm\n",
    "import warnings\n",
    "import os.path\n",
    "\n",
    "warnings.filterwarnings('ignore')\n",
    "\n",
    "\n",
    "os.environ[\"JAVA_HOME\"] = \"/usr/lib/jvm/java-1.8.0-openjdk-1.8.0.141-1.b16.el7_3.x86_64/jre\"\n",
    "\n",
    "# Auxiliary functions\n",
    "from datetime import datetime, date, time, timedelta\n",
    "\n",
    "\"\"\" Rellenar dias vacios con interpolacion\"\"\"\n",
    "def interpolate_dataframe(df,freq):\n",
    "    if freq == 'H':\n",
    "        rng = pd.date_range(df.index.min(), df.index.max() + pd.Timedelta(23, 'H'), freq='H')\n",
    "    elif freq == 'D' :  \n",
    "        rng = pd.date_range(\n",
    "                        datetime.strptime(str(df.index.min())[:10]+' 00:00:00', \"%Y-%m-%d %H:%M:%S\") ,\n",
    "                        datetime.strptime(str(df.index.max())[:10]+' 00:00:00', \"%Y-%m-%d %H:%M:%S\"), \n",
    "                        freq='D')\n",
    "        df.index = pd.to_datetime(df.index)  \n",
    "    df2 = df.reindex(rng)\n",
    "    df = df2\n",
    "    for column in df.columns :\n",
    "        s = pd.Series(df[column])\n",
    "        s.interpolate(method=\"quadratic\", inplace =True)\n",
    "        df[column] = pd.DataFrame([s]).T\n",
    "    return df\n",
    "\n",
    "def get_daily_date_new_format(fecha): \n",
    "    \n",
    "    file_path = '../data/'+fecha+'_cam_covid19.pdf'\n",
    "    if not os.path.isfile(file_path):\n",
    "        file_path = '../data/'+fecha+'cam_covid19.pdf'\n",
    "    #print(\"Analizando:\" + file_path)\n",
    "    df_pdf =  read_pdf(file_path,area=(000, 600, 400, 800) , pages='1')\n",
    "      \n",
    "    #print(\"1 get_daily_date_new_format \",fecha)\n",
    "\n",
    "    df = df_pdf[0]\n",
    "    df = df['Unnamed: 0'].astype(str).str.replace(r\".\", '').replace(\"(\", ' ')\n",
    "    df = df.T\n",
    "    df.columns = df.iloc[0]\n",
    "    df = df.iloc[1:]\n",
    "\n",
    "    #print(\"2 get_daily_date_new_format\")\n",
    "\n",
    "    df = pd.DataFrame(data=df)\n",
    "    df    \n",
    "\n",
    "    dict = {}\n",
    "    try:\n",
    "        df2_pdf =  read_pdf(file_path,area=(300, 100, 800, 400) , pages='1')\n",
    "        dict['PACIENTES_UCI_DIA']       = df2_pdf[0].loc[3:3].values[0][1].replace(\".\",'')\n",
    "        dict['PACIENTES_UCI_ACUMULADOS']= df2_pdf[0].loc[6:6].values[0][1].replace(\".\",'')\n",
    "    except Exception as e:\n",
    "        print(f\"{fecha} mal parseada: {e}\")\n",
    "        \n",
    "    dict['HOSPITALES'] = df[df['Unnamed: 0'].str.contains('Hospitales')].iloc[0]['Unnamed: 0'].split(' ')[0]\n",
    "    dict['DOMICILIOS'] = df[df['Unnamed: 0'].str.contains('Domicilios')].iloc[0]['Unnamed: 0'].split(' ')[0]\n",
    "    dict['CENTROS SOCIOSANITARIOS'] = df[df['Unnamed: 0'].str.contains('Centros')].iloc[0]['Unnamed: 0'].split(' ')[0]\n",
    "    dict['OTROS LUGARES'] = df[df['Unnamed: 0'].str.contains('otros')].iloc[0]['Unnamed: 0'].split(' ')[0]\n",
    "    #print(\"3 get_daily_date_new_format\")\n",
    "\n",
    "    cadena_a_parsear = df[df['Unnamed: 0'].str.contains('otal')].iloc[0]['Unnamed: 0']\n",
    "\n",
    "    dict['FALLECIDOS TOTALES'] = re.search(r'(\\d+)', cadena_a_parsear)[0]\n",
    "\n",
    "    #print(\"4 get_daily_date_new_format\")\n",
    "    df = pd.DataFrame.from_dict(dict, orient='index').T\n",
    "    #print(\"4.5 get_daily_date_new_format\")\n",
    "    \n",
    "    try:\n",
    "        df['Fecha'] =  pd.to_datetime(fecha, format='%y%m%d')\n",
    "    except :\n",
    "        df['Fecha'] =  pd.to_datetime(fecha, format='%Y%m%d')\n",
    "    \n",
    "    #print(\"5 get_daily_date_new_format\")\n",
    "\n",
    "    df.set_index('Fecha', inplace=True, drop=True)\n",
    "    return df\n",
    "\n",
    "\n",
    "def get_daily_data(fecha):\n",
    "    #print(f\"\"\"get_daily_data: {fecha}\"\"\")\n",
    "    #print(f\"\"\"../data/{fecha}_cam_covid19.pdf\"\"\")\n",
    "\n",
    "    if fecha > '200512' : \n",
    "        return get_daily_date_new_format(fecha)\n",
    "    \n",
    "    col2str = {'dtype': str}\n",
    "    kwargs = {'output_format': 'dataframe',\n",
    "              'pandas_options': col2str,\n",
    "              'stream': True}\n",
    "\n",
    "    df_pdf =  read_pdf('../data/'+fecha+'_cam_covid19.pdf',pages='1',multiple_tables = True,**kwargs)\n",
    "\n",
    "    \n",
    "    df = df_pdf[0]\n",
    "\n",
    "    df = df[df['Unnamed: 0'].notna()]\n",
    "    df = df[(df['Unnamed: 0']=='HOSPITALES') | (df['Unnamed: 0'] == 'DOMICILIOS') | (df['Unnamed: 0'] == 'CENTROS SOCIOSANITARIOS') | (df['Unnamed: 0'] == 'OTROS LUGARES') | (df['Unnamed: 0'] == 'FALLECIDOS TOTALES')]\n",
    "    df = df[['Unnamed: 0','Unnamed: 2']]\n",
    "    df['Unnamed: 2'] = df['Unnamed: 2'].astype(str).str.replace(r\".\", '')\n",
    "    df = df.T\n",
    "    df.columns = df.iloc[0]\n",
    "    df = df.iloc[1:]\n",
    "\n",
    "    df['Fecha'] =  pd.to_datetime(fecha, format='%y%m%d')\n",
    "    df = df.rename_axis(None)\n",
    "\n",
    "    df.set_index('Fecha', inplace=True, drop=True)\n",
    "    df.index\n",
    "    df.dropna()\n",
    "    #df = df.T\n",
    "    return df\n",
    "\n",
    "def get_all_data( ): \n",
    "    #BLACKLIST = [\"200429\",\"200422\"]\n",
    "    #BLACKLIST = [\"200514\",]\n",
    "    BLACKLIST = []\n",
    "    df = pd.DataFrame()\n",
    "    list_df = []\n",
    " \n",
    "    pdf_list= sorted(glob.glob('../data/*_covid19.pdf'), \n",
    "                     key=os.path.getmtime,\n",
    "                     reverse=True )\n",
    "    \n",
    "        \n",
    "    for pdf_file in tqdm(pdf_list, \n",
    "                         desc=\"Procesando pdfs diarios\"):   \n",
    "        # extract fecha from username , eg : ../data/2200422_cam_covid19.pdf\n",
    "        fecha = pdf_file.split('/')[2].split('_')[0].replace('cam_','').replace('_cam_','').replace('cam','')\n",
    "        if fecha not in BLACKLIST:\n",
    "            #print(\"processing\", fecha)\n",
    "            df = get_daily_data(fecha) \n",
    "        list_df.append(df)\n",
    "\n",
    "    df = pd.concat(list_df)\n",
    "    df = df.astype(int)\n",
    "    df = df.drop_duplicates()\n",
    "\n",
    "    df = df.sort_values(by=['Fecha'], ascending=True)\n",
    "\n",
    "    df['HOSPITALES hoy'] = df['HOSPITALES'] - df['HOSPITALES'].shift(1)\n",
    "    df['CENTROS SOCIOSANITARIOS hoy'] = df['CENTROS SOCIOSANITARIOS'] - df['CENTROS SOCIOSANITARIOS'].shift(1)\n",
    "    df['FALLECIDOS TOTALES hoy'] = df['FALLECIDOS TOTALES'] - df['FALLECIDOS TOTALES'].shift(1)\n",
    "\n",
    "    df = df.sort_values(by=['Fecha'], ascending=False)\n",
    "\n",
    "    return df \n",
    "\n",
    "total =  get_all_data()\n",
    "total.to_csv('/root/kaggle/covid19-madrid/madrid_results.csv')"
   ]
  },
  {
   "cell_type": "code",
   "execution_count": null,
   "metadata": {},
   "outputs": [],
   "source": [
    "interpolate_dataframe(total,'D')"
   ]
  },
  {
   "cell_type": "code",
   "execution_count": null,
   "metadata": {},
   "outputs": [],
   "source": [
    "total"
   ]
  },
  {
   "cell_type": "code",
   "execution_count": null,
   "metadata": {
    "scrolled": false
   },
   "outputs": [],
   "source": [
    "total \n",
    "VENTANA_MEDIA_MOVIL=7\n",
    "df = interpolate_dataframe(total,'D')\n",
    "df.index.name = 'Fecha'\n",
    "df = df.sort_values(by=['Fecha'], ascending=True)\n",
    "df['HOSPITALES hoy'] = df['HOSPITALES'] - df['HOSPITALES'].shift(1)\n",
    "df['CENTROS SOCIOSANITARIOS hoy'] = df['CENTROS SOCIOSANITARIOS'] - df['CENTROS SOCIOSANITARIOS'].shift(1)\n",
    "df['FALLECIDOS TOTALES hoy'] = df['FALLECIDOS TOTALES'] - df['FALLECIDOS TOTALES'].shift(1)\n",
    "\n",
    "\n",
    "df['MA CENTROS SOCIOSANITARIOS hoy'] = df['CENTROS SOCIOSANITARIOS hoy'].rolling(window=VENTANA_MEDIA_MOVIL).mean()\n",
    "df['MA HOSPITALES hoy'] = df['HOSPITALES hoy'].rolling(window=VENTANA_MEDIA_MOVIL).mean()\n",
    "df['MA FALLECIDOS TOTALES hoy'] = df['FALLECIDOS TOTALES hoy'].rolling(window=VENTANA_MEDIA_MOVIL).mean()\n",
    "\n",
    "df = df.sort_index(ascending=False)\n",
    "df_master = df.copy()\n",
    "\n"
   ]
  },
  {
   "cell_type": "code",
   "execution_count": null,
   "metadata": {},
   "outputs": [],
   "source": [
    "total.head()"
   ]
  },
  {
   "cell_type": "code",
   "execution_count": null,
   "metadata": {},
   "outputs": [],
   "source": [
    "# Hacemos lo contrario\n",
    "# En lugar de sacar el nº de muertos dado el nº de infectados, como lo primero lo sabemos (en madrid), sacamos lo segundo y extrapolamos al conjunto de españa\n",
    "df = df_master\n",
    "\n",
    "R0_estimada = df['FALLECIDOS TOTALES hoy'].values[0:7].sum()  / df['FALLECIDOS TOTALES hoy'].values[7:14].sum() \n",
    "print(df['FALLECIDOS TOTALES hoy'].values[0:7].sum(), df['FALLECIDOS TOTALES hoy'].values[7:14].sum() )\n",
    "print(f\"\"\"R0_estimada = {R0_estimada}\"\"\")\n",
    "PROPORCION_ENFERMOS_MUERTOS=750000/15000 # Esta es la proporcion enfermos muertos (15.000 muertos para 750.000 afectados)\n",
    "RATIO_NO_HEMOS_COLAPSADO=2 # La mitad de los muertos se ha calculado del colapso. Como ahora no hemos colapsado\n",
    "PESO_MADRID_MUERTES_TOTALES=1/3\n",
    "casos_españa_estimados =  df['FALLECIDOS TOTALES hoy'].values[0:5].sum() * PROPORCION_ENFERMOS_MUERTOS * RATIO_NO_HEMOS_COLAPSADO / PESO_MADRID_MUERTES_TOTALES\n",
    "print(f\"\"\"casos_españa_estimados = {casos_españa_estimados}\"\"\")\n",
    "\n"
   ]
  },
  {
   "cell_type": "markdown",
   "metadata": {},
   "source": [
    "## Gráfico estimacion R0\n",
    "\n",
    "Considerando solo los datos de Madrid, estimamos el R0 a partir del nº de muertos (considerando que el nº de muertos es una combinacion lineal del nº de enfermos), por lo que es posible calcular el ratio igual.\n",
    "\n",
    "\n",
    "Para calcular el R0, sacamos la suma de muertos de la última semana, entre la suma de muertos de la semana anterior.\n"
   ]
  },
  {
   "cell_type": "code",
   "execution_count": null,
   "metadata": {
    "scrolled": false
   },
   "outputs": [],
   "source": [
    "from datetime import datetime, timedelta\n",
    "import seaborn as sns\n",
    "from matplotlib import pyplot as plt\n",
    "import matplotlib.dates as mdates\n",
    "\n",
    "df = df_master\n",
    "\n",
    "def calcular_estimaciones_R0(df):\n",
    "    def calcular_R0_dia(dia,df):\n",
    "        dia_semana_anterior = dia - timedelta(days=7)\n",
    "        return dia,df.loc[dia:dia - timedelta(days=6)]['FALLECIDOS TOTALES hoy'].sum() / df.loc[dia- timedelta(days=7):dia - timedelta(days=13)]['FALLECIDOS TOTALES hoy'].sum() \n",
    "\n",
    "    VENTANA_MEDIA_MOVIL=7\n",
    "    \n",
    "    df_R0_estimada = pd.DataFrame([calcular_R0_dia(dia,df) for dia in df.index[0:50]],columns=['Fecha','R0_estimada'])\n",
    "    \n",
    "    df_R0_estimada = df_R0_estimada.sort_values(by=['Fecha'], ascending=True)\n",
    "    df_R0_estimada['MA R0_estimada'] = df_R0_estimada['R0_estimada'].rolling(window=VENTANA_MEDIA_MOVIL).mean()\n",
    "    df_R0_estimada = df_R0_estimada.sort_values(by=['Fecha'], ascending=False)\n",
    "    df_R0_estimada.set_index('Fecha', inplace=True, drop=True)\n",
    "    return df_R0_estimada\n",
    "\n",
    "df= calcular_estimaciones_R0(df_master)\n",
    "#df=df[['R0_estimada']]\n",
    "df\n",
    "\n",
    "chart_df=df[df.columns[-3:]]\n",
    "chart_df.plot(legend=True,figsize=(13.5,9), marker='o')\n",
    "\n",
    "plt.gca().xaxis.set_major_formatter(mdates.DateFormatter('%m-%d'))\n",
    "plt.gca().xaxis.set_major_locator(mdates.DayLocator(interval=1))\n",
    "plt.xticks(rotation=45)\n",
    "\n",
    "ax = plt.gca()\n",
    "ax.axhline(1, color='r',linestyle =  ':' ) \n",
    "\n",
    "\n",
    "ax.set_title(\"Estimacion R0 Comunidad de Madrid\")\n",
    "ax.set_ylim(ymin=0)\n",
    "\n",
    "plt.show()\n",
    "\n",
    "df.style.format ({ c : \"{:20,.3f}\" for c in df.columns }).background_gradient(cmap='Wistia', )\n",
    "\n"
   ]
  },
  {
   "cell_type": "code",
   "execution_count": null,
   "metadata": {},
   "outputs": [],
   "source": [
    "R0_estimada * 1.2"
   ]
  },
  {
   "cell_type": "code",
   "execution_count": null,
   "metadata": {},
   "outputs": [],
   "source": [
    "HTML(\"<h2>Gráfico muertes diarias en Madrid, según Comunidad de Madrid </h2>\")    \n"
   ]
  },
  {
   "cell_type": "code",
   "execution_count": null,
   "metadata": {},
   "outputs": [],
   "source": [
    "import pandas as pd\n",
    "import io\n",
    "import matplotlib.dates as mdates\n",
    "from matplotlib import pyplot as plt\n",
    "\n",
    "df = df_master\n",
    "chart_df=df[df.columns[-3:]].head(60)\n",
    "chart_df.plot(legend=True,figsize=(13.5,9), marker='o')\n",
    "\n",
    "\n",
    "plt.gca().xaxis.set_major_formatter(mdates.DateFormatter('%b-%d'))\n",
    "plt.gca().xaxis.set_major_locator(mdates.DayLocator(interval=7))\n",
    "plt.xticks(rotation=45)\n",
    "\n",
    "ax = plt.gca()\n",
    "plt.setp(ax.get_xminorticklabels(), visible=False)\n",
    "\n",
    "ax.set_title(\"Muertes diarias COVID 19, media movil \"+str(VENTANA_MEDIA_MOVIL)+\" dias. Fuente: Comunidad de Madrid\")\n",
    "ax.set_ylim(ymin=0)\n",
    "\n",
    "plt.show()\n",
    "\n"
   ]
  },
  {
   "cell_type": "code",
   "execution_count": null,
   "metadata": {},
   "outputs": [],
   "source": [
    " from IPython.display import display, HTML\n",
    "HTML(\"<h2>Comparamos los datos de hoy, de hace una semana y de un mes </h2>\")    "
   ]
  },
  {
   "cell_type": "code",
   "execution_count": null,
   "metadata": {
    "scrolled": false
   },
   "outputs": [],
   "source": [
    "\n",
    "\n",
    "from matplotlib import colors\n",
    "\n",
    "def background_gradient(s, m, M, cmap='PuBu', low=0, high=0):\n",
    "    rng = M - m\n",
    "    norm = colors.Normalize(m - (rng * low),\n",
    "                            M + (rng * high))\n",
    "    normed = norm(s.values)\n",
    "    c = [colors.rgb2hex(x) for x in plt.cm.get_cmap(cmap)(normed)]\n",
    "    return ['background-color: %s' % color for color in c]\n",
    "\n",
    "df = df_master\n",
    "\n",
    "df.style.format ({ c : \"{:20,.0f}\" for c in df.columns }).background_gradient(cmap='Wistia', subset= df.columns[-3:] )\n",
    "\n"
   ]
  },
  {
   "cell_type": "code",
   "execution_count": null,
   "metadata": {},
   "outputs": [],
   "source": [
    "df = df_master\n",
    "pd.concat([df.head(1).tail(1) , df.head(8).tail(1) , df.head(30).tail(1)]).astype(int)[['MA HOSPITALES hoy','MA CENTROS SOCIOSANITARIOS hoy','MA FALLECIDOS TOTALES hoy']].style.format ({ c : \"{:20,.0f}\" for c in df.columns }).background_gradient(cmap='Wistia', subset= df.columns[-3:] )"
   ]
  },
  {
   "cell_type": "code",
   "execution_count": null,
   "metadata": {},
   "outputs": [],
   "source": [
    "from IPython.display import display, HTML\n",
    "HTML(\"<h2>Muertes medias diarias, últimos 7 días, con datos</h2>\")"
   ]
  },
  {
   "cell_type": "code",
   "execution_count": null,
   "metadata": {},
   "outputs": [],
   "source": [
    "\n",
    "from datetime import date\n",
    "\n",
    "df = df_master\n",
    "inicio_crisis = df.head(7).index[6]\n",
    "df=df.head(7)\n",
    "dia_mas_reciente = df.index[0]\n",
    "dias_transcurridos_inicio_crisis = dia_mas_reciente - inicio_crisis\n",
    "df = pd.DataFrame((df.head(1).max(axis=0) - df.tail(1).max(axis=0) ) /  dias_transcurridos_inicio_crisis.days  ).T[['HOSPITALES','DOMICILIOS','CENTROS SOCIOSANITARIOS','OTROS LUGARES','FALLECIDOS TOTALES']]\n",
    "df.style.format ({ c : \"{:20,.0f}\" for c in df.columns }).background_gradient(cmap='Wistia'  )\n",
    "  \n"
   ]
  },
  {
   "cell_type": "code",
   "execution_count": null,
   "metadata": {},
   "outputs": [],
   "source": [
    "HTML(\"<h2>Muertes medias diarias desde que la comunidad de Madrid publica datos</h2>\")"
   ]
  },
  {
   "cell_type": "code",
   "execution_count": null,
   "metadata": {},
   "outputs": [],
   "source": [
    "# Calculamos los incrementos medios, desde que tenemos fechas\n",
    "df = df_master\n",
    "df = pd.DataFrame((df.head(1).max(axis=0) - df.tail(1).max(axis=0) ) / df.shape[0] ).T[['HOSPITALES','DOMICILIOS','CENTROS SOCIOSANITARIOS','OTROS LUGARES','FALLECIDOS TOTALES']]\n",
    "df.style.format ({ c : \"{:20,.0f}\" for c in df.columns }).background_gradient(cmap='Wistia'  )"
   ]
  },
  {
   "cell_type": "code",
   "execution_count": null,
   "metadata": {},
   "outputs": [],
   "source": []
  },
  {
   "cell_type": "code",
   "execution_count": null,
   "metadata": {},
   "outputs": [],
   "source": [
    "from tabula import read_pdf\n",
    "from IPython.display import display, HTML\n",
    "import os \n",
    "import pandas as pd\n",
    "import glob \n",
    "import re \n",
    "from tqdm.notebook import tqdm\n",
    "import warnings\n",
    "import os.path\n",
    "fecha=\"201005\"\n",
    "import os\n",
    "file_path = '../data/'+fecha+'_cam_covid19.pdf'\n",
    "if not os.path.isfile(file_path):\n",
    "    file_path = '../data/'+fecha+'cam_covid19.pdf'\n",
    "#print(\"Analizando:\" + file_path)\n"
   ]
  },
  {
   "cell_type": "code",
   "execution_count": null,
   "metadata": {},
   "outputs": [],
   "source": [
    "df_pdf =  read_pdf(file_path,area=(300, 100, 800, 400) , pages='1')\n",
    "df_pdf"
   ]
  },
  {
   "cell_type": "code",
   "execution_count": null,
   "metadata": {},
   "outputs": [],
   "source": [
    "for x,y in enumerate(df_pdf):\n",
    "    print(x,\"::\",y)\n",
    "    \n",
    "pd.DataFrame(df_pdf)    "
   ]
  },
  {
   "cell_type": "code",
   "execution_count": null,
   "metadata": {},
   "outputs": [],
   "source": [
    "type(df_pdf)"
   ]
  },
  {
   "cell_type": "code",
   "execution_count": null,
   "metadata": {},
   "outputs": [],
   "source": [
    "type(df_pdf[0])"
   ]
  },
  {
   "cell_type": "code",
   "execution_count": 10,
   "metadata": {},
   "outputs": [
    {
     "ename": "NameError",
     "evalue": "name 'total' is not defined",
     "output_type": "error",
     "traceback": [
      "\u001b[0;31m---------------------------------------------------------------------------\u001b[0m",
      "\u001b[0;31mNameError\u001b[0m                                 Traceback (most recent call last)",
      "\u001b[0;32m<ipython-input-10-f5f7acea0338>\u001b[0m in \u001b[0;36m<module>\u001b[0;34m\u001b[0m\n\u001b[0;32m----> 1\u001b[0;31m \u001b[0mtotal\u001b[0m\u001b[0;34m\u001b[0m\u001b[0;34m\u001b[0m\u001b[0m\n\u001b[0m",
      "\u001b[0;31mNameError\u001b[0m: name 'total' is not defined"
     ]
    }
   ],
   "source": [
    "total"
   ]
  },
  {
   "cell_type": "code",
   "execution_count": 11,
   "metadata": {},
   "outputs": [
    {
     "name": "stderr",
     "output_type": "stream",
     "text": [
      "Got stderr: oct 05, 2020 7:55:33 PM org.apache.pdfbox.pdmodel.font.PDTrueTypeFont <init>\n",
      "ADVERTENCIA: Using fallback font 'LiberationSans' for 'Arial,Bold'\n",
      "\n",
      "Got stderr: oct 05, 2020 7:55:34 PM org.apache.pdfbox.pdmodel.font.PDTrueTypeFont <init>\n",
      "ADVERTENCIA: Using fallback font 'LiberationSans' for 'Arial,Bold'\n",
      "\n"
     ]
    },
    {
     "data": {
      "text/html": [
       "<div>\n",
       "<style scoped>\n",
       "    .dataframe tbody tr th:only-of-type {\n",
       "        vertical-align: middle;\n",
       "    }\n",
       "\n",
       "    .dataframe tbody tr th {\n",
       "        vertical-align: top;\n",
       "    }\n",
       "\n",
       "    .dataframe thead th {\n",
       "        text-align: right;\n",
       "    }\n",
       "</style>\n",
       "<table border=\"1\" class=\"dataframe\">\n",
       "  <thead>\n",
       "    <tr style=\"text-align: right;\">\n",
       "      <th></th>\n",
       "      <th>PACIENTES_UCI_DIA</th>\n",
       "      <th>PACIENTES_UCI_ACUMULADOS</th>\n",
       "      <th>HOSPITALES</th>\n",
       "      <th>DOMICILIOS</th>\n",
       "      <th>CENTROS SOCIOSANITARIOS</th>\n",
       "      <th>OTROS LUGARES</th>\n",
       "      <th>FALLECIDOS TOTALES</th>\n",
       "    </tr>\n",
       "    <tr>\n",
       "      <th>Fecha</th>\n",
       "      <th></th>\n",
       "      <th></th>\n",
       "      <th></th>\n",
       "      <th></th>\n",
       "      <th></th>\n",
       "      <th></th>\n",
       "      <th></th>\n",
       "    </tr>\n",
       "  </thead>\n",
       "  <tbody>\n",
       "    <tr>\n",
       "      <th>2020-10-05</th>\n",
       "      <td>501</td>\n",
       "      <td>5234</td>\n",
       "      <td>10803</td>\n",
       "      <td>1035</td>\n",
       "      <td>4874</td>\n",
       "      <td>30</td>\n",
       "      <td>16742</td>\n",
       "    </tr>\n",
       "  </tbody>\n",
       "</table>\n",
       "</div>"
      ],
      "text/plain": [
       "           PACIENTES_UCI_DIA PACIENTES_UCI_ACUMULADOS HOSPITALES DOMICILIOS  \\\n",
       "Fecha                                                                         \n",
       "2020-10-05               501                     5234      10803       1035   \n",
       "\n",
       "           CENTROS SOCIOSANITARIOS OTROS LUGARES FALLECIDOS TOTALES  \n",
       "Fecha                                                                \n",
       "2020-10-05                    4874            30              16742  "
      ]
     },
     "execution_count": 11,
     "metadata": {},
     "output_type": "execute_result"
    }
   ],
   "source": [
    "\n",
    "\n",
    "get_daily_date_new_format(\"201005\")"
   ]
  },
  {
   "cell_type": "code",
   "execution_count": 12,
   "metadata": {},
   "outputs": [
    {
     "ename": "NameError",
     "evalue": "name 'total' is not defined",
     "output_type": "error",
     "traceback": [
      "\u001b[0;31m---------------------------------------------------------------------------\u001b[0m",
      "\u001b[0;31mNameError\u001b[0m                                 Traceback (most recent call last)",
      "\u001b[0;32m<ipython-input-12-f5f7acea0338>\u001b[0m in \u001b[0;36m<module>\u001b[0;34m\u001b[0m\n\u001b[0;32m----> 1\u001b[0;31m \u001b[0mtotal\u001b[0m\u001b[0;34m\u001b[0m\u001b[0;34m\u001b[0m\u001b[0m\n\u001b[0m",
      "\u001b[0;31mNameError\u001b[0m: name 'total' is not defined"
     ]
    }
   ],
   "source": [
    "total"
   ]
  },
  {
   "cell_type": "code",
   "execution_count": null,
   "metadata": {},
   "outputs": [],
   "source": []
  }
 ],
 "metadata": {
  "kernelspec": {
   "display_name": "Python 3",
   "language": "python",
   "name": "python3"
  },
  "language_info": {
   "codemirror_mode": {
    "name": "ipython",
    "version": 3
   },
   "file_extension": ".py",
   "mimetype": "text/x-python",
   "name": "python",
   "nbconvert_exporter": "python",
   "pygments_lexer": "ipython3",
   "version": "3.6.10"
  },
  "varInspector": {
   "cols": {
    "lenName": 16,
    "lenType": 16,
    "lenVar": 40
   },
   "kernels_config": {
    "python": {
     "delete_cmd_postfix": "",
     "delete_cmd_prefix": "del ",
     "library": "var_list.py",
     "varRefreshCmd": "print(var_dic_list())"
    },
    "r": {
     "delete_cmd_postfix": ") ",
     "delete_cmd_prefix": "rm(",
     "library": "var_list.r",
     "varRefreshCmd": "cat(var_dic_list()) "
    }
   },
   "types_to_exclude": [
    "module",
    "function",
    "builtin_function_or_method",
    "instance",
    "_Feature"
   ],
   "window_display": false
  },
  "widgets": {
   "application/vnd.jupyter.widget-state+json": {
    "state": {
     "033694f6a62440168508645d9cd0dadd": {
      "model_module": "@jupyter-widgets/controls",
      "model_module_version": "1.5.0",
      "model_name": "FloatProgressModel",
      "state": {
       "_dom_classes": [],
       "_model_module": "@jupyter-widgets/controls",
       "_model_module_version": "1.5.0",
       "_model_name": "FloatProgressModel",
       "_view_count": null,
       "_view_module": "@jupyter-widgets/controls",
       "_view_module_version": "1.5.0",
       "_view_name": "ProgressView",
       "bar_style": "success",
       "description": "Procesando pdfs diarios: 100%",
       "description_tooltip": null,
       "layout": "IPY_MODEL_25d5df93d7054060bfda781c950faff7",
       "max": 139,
       "min": 0,
       "orientation": "horizontal",
       "style": "IPY_MODEL_95e41cb7ba2b47859897a97d36c38a6a",
       "value": 139
      }
     },
     "25d5df93d7054060bfda781c950faff7": {
      "model_module": "@jupyter-widgets/base",
      "model_module_version": "1.2.0",
      "model_name": "LayoutModel",
      "state": {
       "_model_module": "@jupyter-widgets/base",
       "_model_module_version": "1.2.0",
       "_model_name": "LayoutModel",
       "_view_count": null,
       "_view_module": "@jupyter-widgets/base",
       "_view_module_version": "1.2.0",
       "_view_name": "LayoutView",
       "align_content": null,
       "align_items": null,
       "align_self": null,
       "border": null,
       "bottom": null,
       "display": null,
       "flex": null,
       "flex_flow": null,
       "grid_area": null,
       "grid_auto_columns": null,
       "grid_auto_flow": null,
       "grid_auto_rows": null,
       "grid_column": null,
       "grid_gap": null,
       "grid_row": null,
       "grid_template_areas": null,
       "grid_template_columns": null,
       "grid_template_rows": null,
       "height": null,
       "justify_content": null,
       "justify_items": null,
       "left": null,
       "margin": null,
       "max_height": null,
       "max_width": null,
       "min_height": null,
       "min_width": null,
       "object_fit": null,
       "object_position": null,
       "order": null,
       "overflow": null,
       "overflow_x": null,
       "overflow_y": null,
       "padding": null,
       "right": null,
       "top": null,
       "visibility": null,
       "width": null
      }
     },
     "2bd44a5d9b664e16a5166a18af667e4e": {
      "model_module": "@jupyter-widgets/controls",
      "model_module_version": "1.5.0",
      "model_name": "DescriptionStyleModel",
      "state": {
       "_model_module": "@jupyter-widgets/controls",
       "_model_module_version": "1.5.0",
       "_model_name": "DescriptionStyleModel",
       "_view_count": null,
       "_view_module": "@jupyter-widgets/base",
       "_view_module_version": "1.2.0",
       "_view_name": "StyleView",
       "description_width": ""
      }
     },
     "95e41cb7ba2b47859897a97d36c38a6a": {
      "model_module": "@jupyter-widgets/controls",
      "model_module_version": "1.5.0",
      "model_name": "ProgressStyleModel",
      "state": {
       "_model_module": "@jupyter-widgets/controls",
       "_model_module_version": "1.5.0",
       "_model_name": "ProgressStyleModel",
       "_view_count": null,
       "_view_module": "@jupyter-widgets/base",
       "_view_module_version": "1.2.0",
       "_view_name": "StyleView",
       "bar_color": null,
       "description_width": "initial"
      }
     },
     "a95ccc2ff8594f2d9449ff7e3afc768c": {
      "model_module": "@jupyter-widgets/base",
      "model_module_version": "1.2.0",
      "model_name": "LayoutModel",
      "state": {
       "_model_module": "@jupyter-widgets/base",
       "_model_module_version": "1.2.0",
       "_model_name": "LayoutModel",
       "_view_count": null,
       "_view_module": "@jupyter-widgets/base",
       "_view_module_version": "1.2.0",
       "_view_name": "LayoutView",
       "align_content": null,
       "align_items": null,
       "align_self": null,
       "border": null,
       "bottom": null,
       "display": null,
       "flex": null,
       "flex_flow": null,
       "grid_area": null,
       "grid_auto_columns": null,
       "grid_auto_flow": null,
       "grid_auto_rows": null,
       "grid_column": null,
       "grid_gap": null,
       "grid_row": null,
       "grid_template_areas": null,
       "grid_template_columns": null,
       "grid_template_rows": null,
       "height": null,
       "justify_content": null,
       "justify_items": null,
       "left": null,
       "margin": null,
       "max_height": null,
       "max_width": null,
       "min_height": null,
       "min_width": null,
       "object_fit": null,
       "object_position": null,
       "order": null,
       "overflow": null,
       "overflow_x": null,
       "overflow_y": null,
       "padding": null,
       "right": null,
       "top": null,
       "visibility": null,
       "width": null
      }
     },
     "c6dccfa8ef7b40cb8011c9de740b233b": {
      "model_module": "@jupyter-widgets/base",
      "model_module_version": "1.2.0",
      "model_name": "LayoutModel",
      "state": {
       "_model_module": "@jupyter-widgets/base",
       "_model_module_version": "1.2.0",
       "_model_name": "LayoutModel",
       "_view_count": null,
       "_view_module": "@jupyter-widgets/base",
       "_view_module_version": "1.2.0",
       "_view_name": "LayoutView",
       "align_content": null,
       "align_items": null,
       "align_self": null,
       "border": null,
       "bottom": null,
       "display": null,
       "flex": null,
       "flex_flow": null,
       "grid_area": null,
       "grid_auto_columns": null,
       "grid_auto_flow": null,
       "grid_auto_rows": null,
       "grid_column": null,
       "grid_gap": null,
       "grid_row": null,
       "grid_template_areas": null,
       "grid_template_columns": null,
       "grid_template_rows": null,
       "height": null,
       "justify_content": null,
       "justify_items": null,
       "left": null,
       "margin": null,
       "max_height": null,
       "max_width": null,
       "min_height": null,
       "min_width": null,
       "object_fit": null,
       "object_position": null,
       "order": null,
       "overflow": null,
       "overflow_x": null,
       "overflow_y": null,
       "padding": null,
       "right": null,
       "top": null,
       "visibility": null,
       "width": null
      }
     },
     "c83c0938d74244ceae039d6cc46fe758": {
      "model_module": "@jupyter-widgets/controls",
      "model_module_version": "1.5.0",
      "model_name": "HTMLModel",
      "state": {
       "_dom_classes": [],
       "_model_module": "@jupyter-widgets/controls",
       "_model_module_version": "1.5.0",
       "_model_name": "HTMLModel",
       "_view_count": null,
       "_view_module": "@jupyter-widgets/controls",
       "_view_module_version": "1.5.0",
       "_view_name": "HTMLView",
       "description": "",
       "description_tooltip": null,
       "layout": "IPY_MODEL_a95ccc2ff8594f2d9449ff7e3afc768c",
       "placeholder": "​",
       "style": "IPY_MODEL_2bd44a5d9b664e16a5166a18af667e4e",
       "value": " 139/139 [02:29&lt;00:00,  1.08s/it]"
      }
     },
     "fbced7f86bbc45189017427e21730f39": {
      "model_module": "@jupyter-widgets/controls",
      "model_module_version": "1.5.0",
      "model_name": "HBoxModel",
      "state": {
       "_dom_classes": [],
       "_model_module": "@jupyter-widgets/controls",
       "_model_module_version": "1.5.0",
       "_model_name": "HBoxModel",
       "_view_count": null,
       "_view_module": "@jupyter-widgets/controls",
       "_view_module_version": "1.5.0",
       "_view_name": "HBoxView",
       "box_style": "",
       "children": [
        "IPY_MODEL_033694f6a62440168508645d9cd0dadd",
        "IPY_MODEL_c83c0938d74244ceae039d6cc46fe758"
       ],
       "layout": "IPY_MODEL_c6dccfa8ef7b40cb8011c9de740b233b"
      }
     }
    },
    "version_major": 2,
    "version_minor": 0
   }
  }
 },
 "nbformat": 4,
 "nbformat_minor": 4
}
