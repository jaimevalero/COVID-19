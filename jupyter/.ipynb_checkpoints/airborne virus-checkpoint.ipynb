{
 "cells": [
  {
   "cell_type": "code",
   "execution_count": 4,
   "metadata": {},
   "outputs": [
    {
     "data": {
      "text/plain": [
       "[6]"
      ]
     },
     "execution_count": 4,
     "metadata": {},
     "output_type": "execute_result"
    }
   ],
   "source": [
    "import sympy\n",
    "from sympy import symbols , solve\n",
    "\n",
    "x    = symbols('x')\n",
    "expr = x -4 - 2\n",
    "sol = solve(expr)\n",
    "sol"
   ]
  },
  {
   "cell_type": "code",
   "execution_count": 8,
   "metadata": {},
   "outputs": [
    {
     "data": {
      "text/latex": [
       "$\\displaystyle 6$"
      ],
      "text/plain": [
       "6"
      ]
     },
     "execution_count": 8,
     "metadata": {},
     "output_type": "execute_result"
    }
   ],
   "source": [
    "num=sol[0]\n",
    "num"
   ]
  },
  {
   "cell_type": "code",
   "execution_count": 12,
   "metadata": {},
   "outputs": [
    {
     "data": {
      "text/plain": [
       "[-11]"
      ]
     },
     "execution_count": 12,
     "metadata": {},
     "output_type": "execute_result"
    }
   ],
   "source": [
    "from sympy import symbols , solve, Eq\n",
    "y    = symbols('y')\n",
    "\n",
    "eq1 = Eq(y + 3 + 8, 0)\n",
    "sol = solve(eq1)\n",
    "sol\n"
   ]
  },
  {
   "cell_type": "code",
   "execution_count": 26,
   "metadata": {},
   "outputs": [
    {
     "data": {
      "text/plain": [
       "[{x: 5/6 - sqrt(47)*I/6}, {x: 5/6 + sqrt(47)*I/6}]"
      ]
     },
     "execution_count": 26,
     "metadata": {},
     "output_type": "execute_result"
    }
   ],
   "source": [
    "y    = symbols('x')\n",
    "eq1  = Eq(3*x**2 - 5*x + 6, 0)\n",
    "sol = solve(eq1,dict=True)\n",
    "sol"
   ]
  },
  {
   "cell_type": "code",
   "execution_count": 51,
   "metadata": {},
   "outputs": [
    {
     "name": "stdout",
     "output_type": "stream",
     "text": [
      "5078 3304 4672\n",
      "5039 3198 9678\n",
      "5000 3092 14684\n",
      "4961 2986 19690\n",
      "4922 2880 24696\n",
      "4883 2774 29702\n",
      "4844 2668 34708\n",
      "4805 2562 39714\n",
      "4766 2456 44720\n",
      "4727 2350 49726\n",
      "4688 2244 54732\n",
      "4649 2138 59738\n",
      "4610 2032 64744\n",
      "4571 1926 69750\n",
      "4532 1820 74756\n",
      "4493 1714 79762\n",
      "4454 1608 84768\n",
      "4415 1502 89774\n",
      "4376 1396 94780\n",
      "4337 1290 99786\n",
      "4298 1184 104792\n",
      "4259 1078 109798\n",
      "4220 972 114804\n",
      "4181 866 119810\n",
      "4142 760 124816\n",
      "4103 654 129822\n",
      "4064 548 134828\n",
      "4025 442 139834\n",
      "3986 336 144840\n",
      "3947 230 149846\n",
      "3908 124 154852\n",
      "3869 18 159858\n",
      "3830 -88 164864\n",
      "3791 -194 169870\n",
      "3752 -300 174876\n",
      "3713 -406 179882\n",
      "3674 -512 184888\n",
      "3635 -618 189894\n",
      "3596 -724 194900\n",
      "3557 -830 199906\n",
      "3518 -936 204912\n",
      "3479 -1042 209918\n",
      "3440 -1148 214924\n",
      "3401 -1254 219930\n",
      "3362 -1360 224936\n",
      "3323 -1466 229942\n",
      "3284 -1572 234948\n",
      "3245 -1678 239954\n",
      "3206 -1784 244960\n",
      "3167 -1890 249966\n",
      "3128 -1996 254972\n",
      "3089 -2102 259978\n",
      "3050 -2208 264984\n",
      "3011 -2314 269990\n",
      "2972 -2420 274996\n",
      "2933 -2526 280002\n",
      "2894 -2632 285008\n",
      "2855 -2738 290014\n",
      "2816 -2844 295020\n",
      "2777 -2950 300026\n",
      "0.961599054745963\n",
      "0.839588377723971\n"
     ]
    },
    {
     "data": {
      "text/plain": [
       "6.357448630136986"
      ]
     },
     "execution_count": 51,
     "metadata": {},
     "output_type": "execute_result"
    }
   ],
   "source": [
    "from sympy import limit\n",
    "\n",
    "for x in range(0,60):\n",
    "    fx_nyc_stay_at_home  = limit(-39*x+5078,x,y)\n",
    "    fx_nyc_face_covering = limit(-106*x+3304,x,y)\n",
    "    fx_italy_normal      = limit(5006*x+4672,x,y)\n",
    "    print(fx_nyc_stay_at_home,\n",
    "          fx_nyc_face_covering,\n",
    "          fx_italy_normal )\n",
    "    \n",
    "stay_at_home = 5078 / 4883\n",
    "print(1/stay_at_home)\n",
    "print(2774/3304)\n",
    "\n",
    "stay_at_home  = 0.961599054745963\n",
    "face_covering = 0.839588377723971\n",
    "italy_normal = 6.35\n",
    "italy_normal"
   ]
  },
  {
   "cell_type": "code",
   "execution_count": null,
   "metadata": {},
   "outputs": [],
   "source": [
    "\n",
    "\n",
    "mascarillas_porcentaje = 1\n",
    "normal_porcentaje = 1-  mascarillas_porcentaje\n",
    "\n"
   ]
  },
  {
   "cell_type": "code",
   "execution_count": 91,
   "metadata": {},
   "outputs": [
    {
     "name": "stdout",
     "output_type": "stream",
     "text": [
      "0.0 3.59 3.59\n",
      "0.1 2.93 3.27\n",
      "0.2 2.37 2.96\n",
      "0.3 1.92 2.64\n",
      "0.4 1.55 2.33\n",
      "0.5 1.25 2.01\n",
      "0.6 1.02 1.70\n",
      "0.7 0.83 1.38\n",
      "0.8 0.68 1.07\n",
      "0.9 0.55 0.76\n",
      "1.0 0.44 0.44\n"
     ]
    },
    {
     "data": {
      "text/html": [
       "<div>\n",
       "<style scoped>\n",
       "    .dataframe tbody tr th:only-of-type {\n",
       "        vertical-align: middle;\n",
       "    }\n",
       "\n",
       "    .dataframe tbody tr th {\n",
       "        vertical-align: top;\n",
       "    }\n",
       "\n",
       "    .dataframe thead th {\n",
       "        text-align: right;\n",
       "    }\n",
       "</style>\n",
       "<table border=\"1\" class=\"dataframe\">\n",
       "  <thead>\n",
       "    <tr style=\"text-align: right;\">\n",
       "      <th></th>\n",
       "      <th>calcul1</th>\n",
       "      <th>calcul2</th>\n",
       "    </tr>\n",
       "    <tr>\n",
       "      <th>porcentaje_uso_mascarillas</th>\n",
       "      <th></th>\n",
       "      <th></th>\n",
       "    </tr>\n",
       "  </thead>\n",
       "  <tbody>\n",
       "    <tr>\n",
       "      <th>0.0</th>\n",
       "      <td>3.59000</td>\n",
       "      <td>3.5900</td>\n",
       "    </tr>\n",
       "    <tr>\n",
       "      <th>0.1</th>\n",
       "      <td>2.93036</td>\n",
       "      <td>3.2756</td>\n",
       "    </tr>\n",
       "    <tr>\n",
       "      <th>0.2</th>\n",
       "      <td>2.37944</td>\n",
       "      <td>2.9612</td>\n",
       "    </tr>\n",
       "    <tr>\n",
       "      <th>0.3</th>\n",
       "      <td>1.92524</td>\n",
       "      <td>2.6468</td>\n",
       "    </tr>\n",
       "    <tr>\n",
       "      <th>0.4</th>\n",
       "      <td>1.55576</td>\n",
       "      <td>2.3324</td>\n",
       "    </tr>\n",
       "    <tr>\n",
       "      <th>0.5</th>\n",
       "      <td>1.25900</td>\n",
       "      <td>2.0180</td>\n",
       "    </tr>\n",
       "    <tr>\n",
       "      <th>0.6</th>\n",
       "      <td>1.02296</td>\n",
       "      <td>1.7036</td>\n",
       "    </tr>\n",
       "    <tr>\n",
       "      <th>0.7</th>\n",
       "      <td>0.83564</td>\n",
       "      <td>1.3892</td>\n",
       "    </tr>\n",
       "    <tr>\n",
       "      <th>0.8</th>\n",
       "      <td>0.68504</td>\n",
       "      <td>1.0748</td>\n",
       "    </tr>\n",
       "    <tr>\n",
       "      <th>0.9</th>\n",
       "      <td>0.55916</td>\n",
       "      <td>0.7604</td>\n",
       "    </tr>\n",
       "    <tr>\n",
       "      <th>1.0</th>\n",
       "      <td>0.44600</td>\n",
       "      <td>0.4460</td>\n",
       "    </tr>\n",
       "  </tbody>\n",
       "</table>\n",
       "</div>"
      ],
      "text/plain": [
       "                            calcul1  calcul2\n",
       "porcentaje_uso_mascarillas                  \n",
       "0.0                         3.59000   3.5900\n",
       "0.1                         2.93036   3.2756\n",
       "0.2                         2.37944   2.9612\n",
       "0.3                         1.92524   2.6468\n",
       "0.4                         1.55576   2.3324\n",
       "0.5                         1.25900   2.0180\n",
       "0.6                         1.02296   1.7036\n",
       "0.7                         0.83564   1.3892\n",
       "0.8                         0.68504   1.0748\n",
       "0.9                         0.55916   0.7604\n",
       "1.0                         0.44600   0.4460"
      ]
     },
     "execution_count": 91,
     "metadata": {},
     "output_type": "execute_result"
    }
   ],
   "source": [
    "import pandas as pd\n",
    "R0_face_covering = 0.839588377723971\n",
    "R0_face_covering = 0.446\n",
    "R0_mascarillas = R0_face_covering\n",
    "\n",
    "R0_italy_normal  = 6.35\n",
    "R0_italy_normal  = 3.590\n",
    "R0_normal = R0_italy_normal \n",
    "\n",
    "R0_mixto         = (face_covering + italy_normal / 2)\n",
    "\n",
    "#4 posibilidades\n",
    "\n",
    "#normal a mascarilla \n",
    "#mascarilla a mascarilla\n",
    "#mascarilla a normal\n",
    "#mascarilla a mascarilla\n",
    "\n",
    "array =[]\n",
    "for porcentaje_uso_mascarillas in np.arange(0,1.1,.1) :  \n",
    "    mascarillas_porcentaje = porcentaje_uso_mascarillas\n",
    "    normal_porcentaje      = 1-  mascarillas_porcentaje\n",
    "    value = ( (normal_porcentaje*normal_porcentaje*R0_italy_normal) + \n",
    "             (mascarillas_porcentaje * normal_porcentaje * (mascarillas_porcentaje )) + \n",
    "             (mascarillas_porcentaje * normal_porcentaje * (mascarillas_porcentaje)) + \n",
    "             (mascarillas_porcentaje*mascarillas_porcentaje*R0_face_covering) ) \n",
    "\n",
    "    value2 = (porcentaje_uso_mascarillas*R0_mascarillas) + ((1-porcentaje_uso_mascarillas)*R0_normal)\n",
    "    dict_values = {'porcentaje_uso_mascarillas' : porcentaje_uso_mascarillas, 'calcul1' : value ,     'calcul2' : value2 } \n",
    "    array.append(dict_values)\n",
    "    print(str(porcentaje_uso_mascarillas)[:3],str(value)[:4],str(value2)[:4])\n",
    "\n",
    "\n",
    "    #( (normal_porcentaje * R0_normal ) + ((1-normal_porcentaje) * R0_mascarillas))/2 + \n",
    "df = pd.DataFrame(array)\n",
    "df = df.set_index('porcentaje_uso_mascarillas')\n",
    "df\n"
   ]
  },
  {
   "cell_type": "code",
   "execution_count": 92,
   "metadata": {},
   "outputs": [
    {
     "ename": "NameError",
     "evalue": "name 'mdates' is not defined",
     "output_type": "error",
     "traceback": [
      "\u001b[0;31m---------------------------------------------------------------------------\u001b[0m",
      "\u001b[0;31mNameError\u001b[0m                                 Traceback (most recent call last)",
      "\u001b[0;32m<ipython-input-92-106c11321002>\u001b[0m in \u001b[0;36m<module>\u001b[0;34m\u001b[0m\n\u001b[1;32m     14\u001b[0m     \u001b[0mplt\u001b[0m\u001b[0;34m.\u001b[0m\u001b[0mxticks\u001b[0m\u001b[0;34m(\u001b[0m\u001b[0mrotation\u001b[0m\u001b[0;34m=\u001b[0m\u001b[0;36m45\u001b[0m\u001b[0;34m)\u001b[0m\u001b[0;34m\u001b[0m\u001b[0;34m\u001b[0m\u001b[0m\n\u001b[1;32m     15\u001b[0m     \u001b[0;32mreturn\u001b[0m \u001b[0mplt\u001b[0m\u001b[0;34m\u001b[0m\u001b[0;34m\u001b[0m\u001b[0m\n\u001b[0;32m---> 16\u001b[0;31m \u001b[0mGet_Chart\u001b[0m\u001b[0;34m(\u001b[0m\u001b[0mdf\u001b[0m\u001b[0;34m)\u001b[0m\u001b[0;34m\u001b[0m\u001b[0;34m\u001b[0m\u001b[0m\n\u001b[0m",
      "\u001b[0;32m<ipython-input-92-106c11321002>\u001b[0m in \u001b[0;36mGet_Chart\u001b[0;34m(df, title)\u001b[0m\n\u001b[1;32m     10\u001b[0m         \u001b[0mplt\u001b[0m\u001b[0;34m.\u001b[0m\u001b[0mlegend\u001b[0m\u001b[0;34m(\u001b[0m\u001b[0mdf\u001b[0m\u001b[0;34m.\u001b[0m\u001b[0mcolumns\u001b[0m\u001b[0;34m)\u001b[0m\u001b[0;34m\u001b[0m\u001b[0;34m\u001b[0m\u001b[0m\n\u001b[1;32m     11\u001b[0m         \u001b[0mfig\u001b[0m\u001b[0;34m.\u001b[0m\u001b[0msuptitle\u001b[0m\u001b[0;34m(\u001b[0m\u001b[0mtitle\u001b[0m\u001b[0;34m,\u001b[0m \u001b[0mfontsize\u001b[0m\u001b[0;34m=\u001b[0m\u001b[0;36m20\u001b[0m\u001b[0;34m)\u001b[0m\u001b[0;34m\u001b[0m\u001b[0;34m\u001b[0m\u001b[0m\n\u001b[0;32m---> 12\u001b[0;31m     \u001b[0mplt\u001b[0m\u001b[0;34m.\u001b[0m\u001b[0mgca\u001b[0m\u001b[0;34m(\u001b[0m\u001b[0;34m)\u001b[0m\u001b[0;34m.\u001b[0m\u001b[0mxaxis\u001b[0m\u001b[0;34m.\u001b[0m\u001b[0mset_major_formatter\u001b[0m\u001b[0;34m(\u001b[0m\u001b[0mmdates\u001b[0m\u001b[0;34m.\u001b[0m\u001b[0mDateFormatter\u001b[0m\u001b[0;34m(\u001b[0m\u001b[0;34m'%b-%d'\u001b[0m\u001b[0;34m)\u001b[0m\u001b[0;34m)\u001b[0m\u001b[0;34m\u001b[0m\u001b[0;34m\u001b[0m\u001b[0m\n\u001b[0m\u001b[1;32m     13\u001b[0m     \u001b[0mplt\u001b[0m\u001b[0;34m.\u001b[0m\u001b[0mgca\u001b[0m\u001b[0;34m(\u001b[0m\u001b[0;34m)\u001b[0m\u001b[0;34m.\u001b[0m\u001b[0mxaxis\u001b[0m\u001b[0;34m.\u001b[0m\u001b[0mset_major_locator\u001b[0m\u001b[0;34m(\u001b[0m\u001b[0mmdates\u001b[0m\u001b[0;34m.\u001b[0m\u001b[0mDayLocator\u001b[0m\u001b[0;34m(\u001b[0m\u001b[0minterval\u001b[0m\u001b[0;34m=\u001b[0m\u001b[0;36m7\u001b[0m\u001b[0;34m)\u001b[0m\u001b[0;34m)\u001b[0m\u001b[0;34m\u001b[0m\u001b[0;34m\u001b[0m\u001b[0m\n\u001b[1;32m     14\u001b[0m     \u001b[0mplt\u001b[0m\u001b[0;34m.\u001b[0m\u001b[0mxticks\u001b[0m\u001b[0;34m(\u001b[0m\u001b[0mrotation\u001b[0m\u001b[0;34m=\u001b[0m\u001b[0;36m45\u001b[0m\u001b[0;34m)\u001b[0m\u001b[0;34m\u001b[0m\u001b[0;34m\u001b[0m\u001b[0m\n",
      "\u001b[0;31mNameError\u001b[0m: name 'mdates' is not defined"
     ]
    },
    {
     "data": {
      "image/png": "[encoded data removed]",
      "text/plain": [
       "<Figure size 640x480 with 1 Axes>"
      ]
     },
     "metadata": {
      "needs_background": "light"
     },
     "output_type": "display_data"
    }
   ],
   "source": [
    "from matplotlib import pyplot as plt    \n",
    "import pandas as pd\n",
    "import numpy as np\n",
    "\n",
    "def Get_Chart(df, title=\"default\"):\n",
    "    fig = plt.figure(figsize=(8, 6), dpi=80)\n",
    "\n",
    "    for ca in df.columns:\n",
    "        plt.plot(df[ca])\n",
    "        plt.legend(df.columns)\n",
    "        fig.suptitle(title, fontsize=20)\n",
    "    plt.gca().xaxis.set_major_formatter(mdates.DateFormatter('%b-%d'))\n",
    "    plt.gca().xaxis.set_major_locator(mdates.DayLocator(interval=7))\n",
    "    plt.xticks(rotation=45)\n",
    "    return plt\n",
    "Get_Chart(df)"
   ]
  },
  {
   "cell_type": "code",
   "execution_count": 89,
   "metadata": {},
   "outputs": [
    {
     "data": {
      "text/plain": [
       "'\\n0.0 3.59\\n0.1 3.2826729539951573\\n0.2 2.989774140435836\\n0.30000000000000004 2.705303559322034\\n0.4 2.4232612106537528\\n0.5 2.1376470944309927\\n0.6000000000000001 1.8424612106537528\\n0.7000000000000001 1.5317035593220336\\n0.8 1.1993741404358353\\n0.9 0.8394729539951573\\n1.0 0.446\\n'"
      ]
     },
     "execution_count": 89,
     "metadata": {},
     "output_type": "execute_result"
    }
   ],
   "source": [
    "\"\"\"\n",
    "0.0 3.59\n",
    "0.1 3.2826729539951573\n",
    "0.2 2.989774140435836\n",
    "0.30000000000000004 2.705303559322034\n",
    "0.4 2.4232612106537528\n",
    "0.5 2.1376470944309927\n",
    "0.6000000000000001 1.8424612106537528\n",
    "0.7000000000000001 1.5317035593220336\n",
    "0.8 1.1993741404358353\n",
    "0.9 0.8394729539951573\n",
    "1.0 0.446\n",
    "\"\"\""
   ]
  },
  {
   "cell_type": "code",
   "execution_count": null,
   "metadata": {},
   "outputs": [],
   "source": []
  }
 ],
 "metadata": {
  "kernelspec": {
   "display_name": "Python 3",
   "language": "python",
   "name": "python3"
  },
  "language_info": {
   "codemirror_mode": {
    "name": "ipython",
    "version": 3
   },
   "file_extension": ".py",
   "mimetype": "text/x-python",
   "name": "python",
   "nbconvert_exporter": "python",
   "pygments_lexer": "ipython3",
   "version": "3.8.1"
  },
  "varInspector": {
   "cols": {
    "lenName": 16,
    "lenType": 16,
    "lenVar": 40
   },
   "kernels_config": {
    "python": {
     "delete_cmd_postfix": "",
     "delete_cmd_prefix": "del ",
     "library": "var_list.py",
     "varRefreshCmd": "print(var_dic_list())"
    },
    "r": {
     "delete_cmd_postfix": ") ",
     "delete_cmd_prefix": "rm(",
     "library": "var_list.r",
     "varRefreshCmd": "cat(var_dic_list()) "
    }
   },
   "types_to_exclude": [
    "module",
    "function",
    "builtin_function_or_method",
    "instance",
    "_Feature"
   ],
   "window_display": false
  }
 },
 "nbformat": 4,
 "nbformat_minor": 4
}
