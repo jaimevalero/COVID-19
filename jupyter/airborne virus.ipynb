{
 "cells": [
  {
   "cell_type": "code",
   "execution_count": 1,
   "metadata": {},
   "outputs": [
    {
     "data": {
      "text/plain": [
       "[6]"
      ]
     },
     "execution_count": 1,
     "metadata": {},
     "output_type": "execute_result"
    }
   ],
   "source": [
    "import sympy\n",
    "from sympy import symbols , solve\n",
    "\n",
    "x    = symbols('x')\n",
    "expr = x -4 - 2\n",
    "sol = solve(expr)\n",
    "sol"
   ]
  },
  {
   "cell_type": "code",
   "execution_count": 2,
   "metadata": {},
   "outputs": [
    {
     "data": {
      "text/latex": [
       "$\\displaystyle 6$"
      ],
      "text/plain": [
       "6"
      ]
     },
     "execution_count": 2,
     "metadata": {},
     "output_type": "execute_result"
    }
   ],
   "source": [
    "num=sol[0]\n",
    "num"
   ]
  },
  {
   "cell_type": "code",
   "execution_count": 3,
   "metadata": {},
   "outputs": [
    {
     "data": {
      "text/plain": [
       "[-11]"
      ]
     },
     "execution_count": 3,
     "metadata": {},
     "output_type": "execute_result"
    }
   ],
   "source": [
    "from sympy import symbols , solve, Eq\n",
    "y    = symbols('y')\n",
    "\n",
    "eq1 = Eq(y + 3 + 8, 0)\n",
    "sol = solve(eq1)\n",
    "sol\n"
   ]
  },
  {
   "cell_type": "code",
   "execution_count": 4,
   "metadata": {},
   "outputs": [
    {
     "data": {
      "text/plain": [
       "[{x: 5/6 - sqrt(47)*I/6}, {x: 5/6 + sqrt(47)*I/6}]"
      ]
     },
     "execution_count": 4,
     "metadata": {},
     "output_type": "execute_result"
    }
   ],
   "source": [
    "y    = symbols('x')\n",
    "eq1  = Eq(3*x**2 - 5*x + 6, 0)\n",
    "sol = solve(eq1,dict=True)\n",
    "sol"
   ]
  },
  {
   "cell_type": "code",
   "execution_count": 5,
   "metadata": {},
   "outputs": [
    {
     "name": "stdout",
     "output_type": "stream",
     "text": [
      "5078 3304 4672\n",
      "5039 3198 9678\n",
      "5000 3092 14684\n",
      "4961 2986 19690\n",
      "4922 2880 24696\n",
      "4883 2774 29702\n",
      "4844 2668 34708\n",
      "4805 2562 39714\n",
      "4766 2456 44720\n",
      "4727 2350 49726\n",
      "4688 2244 54732\n",
      "4649 2138 59738\n",
      "4610 2032 64744\n",
      "4571 1926 69750\n",
      "4532 1820 74756\n",
      "4493 1714 79762\n",
      "4454 1608 84768\n",
      "4415 1502 89774\n",
      "4376 1396 94780\n",
      "4337 1290 99786\n",
      "4298 1184 104792\n",
      "4259 1078 109798\n",
      "4220 972 114804\n",
      "4181 866 119810\n",
      "4142 760 124816\n",
      "4103 654 129822\n",
      "4064 548 134828\n",
      "4025 442 139834\n",
      "3986 336 144840\n",
      "3947 230 149846\n",
      "3908 124 154852\n",
      "3869 18 159858\n",
      "3830 -88 164864\n",
      "3791 -194 169870\n",
      "3752 -300 174876\n",
      "3713 -406 179882\n",
      "3674 -512 184888\n",
      "3635 -618 189894\n",
      "3596 -724 194900\n",
      "3557 -830 199906\n",
      "3518 -936 204912\n",
      "3479 -1042 209918\n",
      "3440 -1148 214924\n",
      "3401 -1254 219930\n",
      "3362 -1360 224936\n",
      "3323 -1466 229942\n",
      "3284 -1572 234948\n",
      "3245 -1678 239954\n",
      "3206 -1784 244960\n",
      "3167 -1890 249966\n",
      "3128 -1996 254972\n",
      "3089 -2102 259978\n",
      "3050 -2208 264984\n",
      "3011 -2314 269990\n",
      "2972 -2420 274996\n",
      "2933 -2526 280002\n",
      "2894 -2632 285008\n",
      "2855 -2738 290014\n",
      "2816 -2844 295020\n",
      "2777 -2950 300026\n",
      "0.961599054745963\n",
      "0.839588377723971\n"
     ]
    },
    {
     "data": {
      "text/plain": [
       "6.35"
      ]
     },
     "execution_count": 5,
     "metadata": {},
     "output_type": "execute_result"
    }
   ],
   "source": [
    "from sympy import limit\n",
    "\n",
    "for x in range(0,60):\n",
    "    fx_nyc_stay_at_home  = limit(-39*x+5078,x,y)\n",
    "    fx_nyc_face_covering = limit(-106*x+3304,x,y)\n",
    "    fx_italy_normal      = limit(5006*x+4672,x,y)\n",
    "    print(fx_nyc_stay_at_home,\n",
    "          fx_nyc_face_covering,\n",
    "          fx_italy_normal )\n",
    "    \n",
    "stay_at_home = 5078 / 4883\n",
    "print(1/stay_at_home)\n",
    "print(2774/3304)\n",
    "\n",
    "stay_at_home  = 0.961599054745963\n",
    "face_covering = 0.839588377723971\n",
    "italy_normal = 6.35\n",
    "italy_normal"
   ]
  },
  {
   "cell_type": "code",
   "execution_count": 6,
   "metadata": {},
   "outputs": [],
   "source": [
    "\n",
    "\n",
    "mascarillas_porcentaje = 1\n",
    "normal_porcentaje = 1-  mascarillas_porcentaje\n",
    "\n"
   ]
  },
  {
   "cell_type": "code",
   "execution_count": 8,
   "metadata": {},
   "outputs": [
    {
     "name": "stdout",
     "output_type": "stream",
     "text": [
      "0.0 3.59 3.59\n",
      "0.01 3.51 3.56\n",
      "0.02 3.44 3.53\n",
      "0.03 3.38 3.50\n",
      "0.04 3.31 3.47\n",
      "0.05 3.24 3.45\n",
      "0.06 3.18 3.42\n",
      "0.07 3.11 3.39\n",
      "0.08 3.05 3.36\n",
      "0.09 2.99 3.34\n",
      "0.1 2.93 3.31\n",
      "0.11 2.87 3.28\n",
      "0.12 2.81 3.25\n",
      "0.13 2.76 3.23\n",
      "0.14 2.70 3.20\n",
      "0.15 2.65 3.17\n",
      "0.16 2.59 3.14\n",
      "0.17 2.54 3.12\n",
      "0.18 2.49 3.09\n",
      "0.19 2.44 3.06\n",
      "0.2 2.39 3.03\n",
      "0.21 2.34 3.01\n",
      "0.22 2.30 2.98\n",
      "0.23 2.25 2.95\n",
      "0.24 2.20 2.92\n",
      "0.25 2.16 2.90\n",
      "0.26 2.12 2.87\n",
      "0.27 2.08 2.84\n",
      "0.28 2.03 2.81\n",
      "0.29 1.99 2.79\n",
      "0.3 1.96 2.76\n",
      "0.31 1.92 2.73\n",
      "0.32 1.88 2.70\n",
      "0.33 1.84 2.68\n",
      "0.34 1.81 2.65\n",
      "0.35 1.77 2.62\n",
      "0.36 1.74 2.59\n",
      "0.37 1.71 2.57\n",
      "0.38 1.68 2.54\n",
      "0.39 1.64 2.51\n",
      "0.4 1.61 2.48\n",
      "0.41 1.58 2.46\n",
      "0.42 1.56 2.43\n",
      "0.43 1.53 2.40\n",
      "0.44 1.50 2.37\n",
      "0.45 1.47 2.35\n",
      "0.46 1.45 2.32\n",
      "0.47 1.42 2.29\n",
      "0.48 1.40 2.26\n",
      "0.49 1.38 2.24\n",
      "0.5 1.35 2.21\n",
      "0.51 1.33 2.18\n",
      "0.52 1.31 2.15\n",
      "0.53 1.29 2.13\n",
      "0.54 1.27 2.10\n",
      "0.55 1.25 2.07\n",
      "0.56 1.23 2.04\n",
      "0.57 1.21 2.02\n",
      "0.58 1.19 1.99\n",
      "0.59 1.18 1.96\n",
      "0.6 1.16 1.93\n",
      "0.61 1.14 1.91\n",
      "0.62 1.13 1.88\n",
      "0.63 1.11 1.85\n",
      "0.64 1.10 1.82\n",
      "0.65 1.09 1.80\n",
      "0.66 1.07 1.77\n",
      "0.67 1.06 1.74\n",
      "0.68 1.05 1.71\n",
      "0.69 1.03 1.69\n",
      "0.70 1.02 1.66\n",
      "0.71 1.01 1.63\n",
      "0.72 1.00 1.60\n",
      "0.73 0.99 1.58\n",
      "0.74 0.98 1.55\n",
      "0.75 0.97 1.52\n",
      "0.76 0.96 1.49\n",
      "0.77 0.96 1.47\n",
      "0.78 0.95 1.44\n",
      "0.79 0.94 1.41\n",
      "0.8 0.93 1.38\n",
      "0.81 0.92 1.36\n",
      "0.82 0.92 1.33\n",
      "0.83 0.91 1.30\n",
      "0.84 0.91 1.27\n",
      "0.85 0.90 1.25\n",
      "0.86 0.89 1.22\n",
      "0.87 0.89 1.19\n",
      "0.88 0.88 1.16\n",
      "0.89 0.88 1.14\n",
      "0.9 0.87 1.11\n",
      "0.91 0.87 1.08\n",
      "0.92 0.86 1.05\n",
      "0.93 0.86 1.03\n",
      "0.94 0.86 1.00\n",
      "0.95 0.85 0.97\n",
      "0.96 0.85 0.94\n",
      "0.97 0.84 0.92\n",
      "0.98 0.84 0.89\n",
      "0.99 0.84 0.86\n",
      "1.0 0.83 0.83\n",
      "1.01 0.83 0.81\n",
      "1.02 0.83 0.78\n",
      "1.03 0.83 0.75\n",
      "1.04 0.82 0.72\n",
      "1.05 0.82 0.70\n",
      "1.06 0.82 0.67\n",
      "1.07 0.81 0.64\n",
      "1.08 0.81 0.61\n",
      "1.09 0.81 0.59\n"
     ]
    },
    {
     "data": {
      "text/html": [
       "<div>\n",
       "<style scoped>\n",
       "    .dataframe tbody tr th:only-of-type {\n",
       "        vertical-align: middle;\n",
       "    }\n",
       "\n",
       "    .dataframe tbody tr th {\n",
       "        vertical-align: top;\n",
       "    }\n",
       "\n",
       "    .dataframe thead th {\n",
       "        text-align: right;\n",
       "    }\n",
       "</style>\n",
       "<table border=\"1\" class=\"dataframe\">\n",
       "  <thead>\n",
       "    <tr style=\"text-align: right;\">\n",
       "      <th></th>\n",
       "      <th>calcul1</th>\n",
       "      <th>calcul2</th>\n",
       "    </tr>\n",
       "    <tr>\n",
       "      <th>porcentaje_uso_mascarillas</th>\n",
       "      <th></th>\n",
       "      <th></th>\n",
       "    </tr>\n",
       "  </thead>\n",
       "  <tbody>\n",
       "    <tr>\n",
       "      <th>0.00</th>\n",
       "      <td>3.590000</td>\n",
       "      <td>3.590000</td>\n",
       "    </tr>\n",
       "    <tr>\n",
       "      <th>0.01</th>\n",
       "      <td>3.518841</td>\n",
       "      <td>3.562496</td>\n",
       "    </tr>\n",
       "    <tr>\n",
       "      <th>0.02</th>\n",
       "      <td>3.448956</td>\n",
       "      <td>3.534992</td>\n",
       "    </tr>\n",
       "    <tr>\n",
       "      <th>0.03</th>\n",
       "      <td>3.380333</td>\n",
       "      <td>3.507488</td>\n",
       "    </tr>\n",
       "    <tr>\n",
       "      <th>0.04</th>\n",
       "      <td>3.312959</td>\n",
       "      <td>3.479984</td>\n",
       "    </tr>\n",
       "    <tr>\n",
       "      <th>...</th>\n",
       "      <td>...</td>\n",
       "      <td>...</td>\n",
       "    </tr>\n",
       "    <tr>\n",
       "      <th>1.05</th>\n",
       "      <td>0.824371</td>\n",
       "      <td>0.702068</td>\n",
       "    </tr>\n",
       "    <tr>\n",
       "      <th>1.06</th>\n",
       "      <td>0.821454</td>\n",
       "      <td>0.674564</td>\n",
       "    </tr>\n",
       "    <tr>\n",
       "      <th>1.07</th>\n",
       "      <td>0.818550</td>\n",
       "      <td>0.647060</td>\n",
       "    </tr>\n",
       "    <tr>\n",
       "      <th>1.08</th>\n",
       "      <td>0.815648</td>\n",
       "      <td>0.619555</td>\n",
       "    </tr>\n",
       "    <tr>\n",
       "      <th>1.09</th>\n",
       "      <td>0.812736</td>\n",
       "      <td>0.592051</td>\n",
       "    </tr>\n",
       "  </tbody>\n",
       "</table>\n",
       "<p>110 rows × 2 columns</p>\n",
       "</div>"
      ],
      "text/plain": [
       "                             calcul1   calcul2\n",
       "porcentaje_uso_mascarillas                    \n",
       "0.00                        3.590000  3.590000\n",
       "0.01                        3.518841  3.562496\n",
       "0.02                        3.448956  3.534992\n",
       "0.03                        3.380333  3.507488\n",
       "0.04                        3.312959  3.479984\n",
       "...                              ...       ...\n",
       "1.05                        0.824371  0.702068\n",
       "1.06                        0.821454  0.674564\n",
       "1.07                        0.818550  0.647060\n",
       "1.08                        0.815648  0.619555\n",
       "1.09                        0.812736  0.592051\n",
       "\n",
       "[110 rows x 2 columns]"
      ]
     },
     "execution_count": 8,
     "metadata": {},
     "output_type": "execute_result"
    }
   ],
   "source": [
    "import pandas as pd\n",
    "import numpy as np\n",
    "R0_face_covering = 0.839588377723971\n",
    "#R0_face_covering = 0.446\n",
    "R0_mascarillas = R0_face_covering\n",
    "\n",
    "#R0_italy_normal  = 6.35\n",
    "R0_italy_normal  = 3.590\n",
    "R0_normal = R0_italy_normal \n",
    "\n",
    "R0_mixto         = (face_covering + italy_normal / 2)\n",
    "\n",
    "#4 posibilidades\n",
    "\n",
    "#normal a mascarilla \n",
    "#mascarilla a mascarilla\n",
    "#mascarilla a normal\n",
    "#mascarilla a mascarilla\n",
    "\n",
    "array =[]\n",
    "for porcentaje_uso_mascarillas in np.arange(0,1.1,.01) :  \n",
    "    mascarillas_porcentaje = porcentaje_uso_mascarillas\n",
    "    normal_porcentaje      = 1-  mascarillas_porcentaje\n",
    "    value = ( (normal_porcentaje*normal_porcentaje*R0_italy_normal) + \n",
    "             (mascarillas_porcentaje * normal_porcentaje * (mascarillas_porcentaje )) + \n",
    "             (mascarillas_porcentaje * normal_porcentaje * (mascarillas_porcentaje)) + \n",
    "             (mascarillas_porcentaje*mascarillas_porcentaje*R0_face_covering) ) \n",
    "\n",
    "    value2 = (porcentaje_uso_mascarillas*R0_mascarillas) + ((1-porcentaje_uso_mascarillas)*R0_normal)\n",
    "    dict_values = {'porcentaje_uso_mascarillas' : porcentaje_uso_mascarillas, 'calcul1' : value ,     'calcul2' : value2 } \n",
    "    array.append(dict_values)\n",
    "    print(str(porcentaje_uso_mascarillas)[:4],str(value)[:4],str(value2)[:4])\n",
    "\n",
    "\n",
    "    #( (normal_porcentaje * R0_normal ) + ((1-normal_porcentaje) * R0_mascarillas))/2 + \n",
    "df = pd.DataFrame(array)\n",
    "df = df.set_index('porcentaje_uso_mascarillas')\n",
    "df\n"
   ]
  },
  {
   "cell_type": "code",
   "execution_count": 9,
   "metadata": {},
   "outputs": [
    {
     "ename": "SyntaxError",
     "evalue": "invalid syntax (<ipython-input-9-304a45cecadc>, line 1)",
     "output_type": "error",
     "traceback": [
      "\u001b[0;36m  File \u001b[0;32m\"<ipython-input-9-304a45cecadc>\"\u001b[0;36m, line \u001b[0;32m1\u001b[0m\n\u001b[0;31m    distanciamiento s/n mascarilla s/n\u001b[0m\n\u001b[0m                    ^\u001b[0m\n\u001b[0;31mSyntaxError\u001b[0m\u001b[0;31m:\u001b[0m invalid syntax\n"
     ]
    }
   ],
   "source": [
    "\n",
    "distanciamiento s/n mascarilla s/n\n",
    "\n",
    "cabrones (ni distanciamiento ni mascarilla)      : 6.35\n",
    "vergonzosos (si distanciamiento, no mascarillas) : 3.590 \n",
    "por_cumplir (no distancimianto, si mascarilla)   : \n",
    "responsable( si mascarillas, si responsable)     : 0.75\n",
    "\n"
   ]
  },
  {
   "cell_type": "code",
   "execution_count": 10,
   "metadata": {},
   "outputs": [
    {
     "ename": "NameError",
     "evalue": "name 'mdates' is not defined",
     "output_type": "error",
     "traceback": [
      "\u001b[0;31m---------------------------------------------------------------------------\u001b[0m",
      "\u001b[0;31mNameError\u001b[0m                                 Traceback (most recent call last)",
      "\u001b[0;32m<ipython-input-10-106c11321002>\u001b[0m in \u001b[0;36m<module>\u001b[0;34m\u001b[0m\n\u001b[1;32m     14\u001b[0m     \u001b[0mplt\u001b[0m\u001b[0;34m.\u001b[0m\u001b[0mxticks\u001b[0m\u001b[0;34m(\u001b[0m\u001b[0mrotation\u001b[0m\u001b[0;34m=\u001b[0m\u001b[0;36m45\u001b[0m\u001b[0;34m)\u001b[0m\u001b[0;34m\u001b[0m\u001b[0;34m\u001b[0m\u001b[0m\n\u001b[1;32m     15\u001b[0m     \u001b[0;32mreturn\u001b[0m \u001b[0mplt\u001b[0m\u001b[0;34m\u001b[0m\u001b[0;34m\u001b[0m\u001b[0m\n\u001b[0;32m---> 16\u001b[0;31m \u001b[0mGet_Chart\u001b[0m\u001b[0;34m(\u001b[0m\u001b[0mdf\u001b[0m\u001b[0;34m)\u001b[0m\u001b[0;34m\u001b[0m\u001b[0;34m\u001b[0m\u001b[0m\n\u001b[0m",
      "\u001b[0;32m<ipython-input-10-106c11321002>\u001b[0m in \u001b[0;36mGet_Chart\u001b[0;34m(df, title)\u001b[0m\n\u001b[1;32m     10\u001b[0m         \u001b[0mplt\u001b[0m\u001b[0;34m.\u001b[0m\u001b[0mlegend\u001b[0m\u001b[0;34m(\u001b[0m\u001b[0mdf\u001b[0m\u001b[0;34m.\u001b[0m\u001b[0mcolumns\u001b[0m\u001b[0;34m)\u001b[0m\u001b[0;34m\u001b[0m\u001b[0;34m\u001b[0m\u001b[0m\n\u001b[1;32m     11\u001b[0m         \u001b[0mfig\u001b[0m\u001b[0;34m.\u001b[0m\u001b[0msuptitle\u001b[0m\u001b[0;34m(\u001b[0m\u001b[0mtitle\u001b[0m\u001b[0;34m,\u001b[0m \u001b[0mfontsize\u001b[0m\u001b[0;34m=\u001b[0m\u001b[0;36m20\u001b[0m\u001b[0;34m)\u001b[0m\u001b[0;34m\u001b[0m\u001b[0;34m\u001b[0m\u001b[0m\n\u001b[0;32m---> 12\u001b[0;31m     \u001b[0mplt\u001b[0m\u001b[0;34m.\u001b[0m\u001b[0mgca\u001b[0m\u001b[0;34m(\u001b[0m\u001b[0;34m)\u001b[0m\u001b[0;34m.\u001b[0m\u001b[0mxaxis\u001b[0m\u001b[0;34m.\u001b[0m\u001b[0mset_major_formatter\u001b[0m\u001b[0;34m(\u001b[0m\u001b[0mmdates\u001b[0m\u001b[0;34m.\u001b[0m\u001b[0mDateFormatter\u001b[0m\u001b[0;34m(\u001b[0m\u001b[0;34m'%b-%d'\u001b[0m\u001b[0;34m)\u001b[0m\u001b[0;34m)\u001b[0m\u001b[0;34m\u001b[0m\u001b[0;34m\u001b[0m\u001b[0m\n\u001b[0m\u001b[1;32m     13\u001b[0m     \u001b[0mplt\u001b[0m\u001b[0;34m.\u001b[0m\u001b[0mgca\u001b[0m\u001b[0;34m(\u001b[0m\u001b[0;34m)\u001b[0m\u001b[0;34m.\u001b[0m\u001b[0mxaxis\u001b[0m\u001b[0;34m.\u001b[0m\u001b[0mset_major_locator\u001b[0m\u001b[0;34m(\u001b[0m\u001b[0mmdates\u001b[0m\u001b[0;34m.\u001b[0m\u001b[0mDayLocator\u001b[0m\u001b[0;34m(\u001b[0m\u001b[0minterval\u001b[0m\u001b[0;34m=\u001b[0m\u001b[0;36m7\u001b[0m\u001b[0;34m)\u001b[0m\u001b[0;34m)\u001b[0m\u001b[0;34m\u001b[0m\u001b[0;34m\u001b[0m\u001b[0m\n\u001b[1;32m     14\u001b[0m     \u001b[0mplt\u001b[0m\u001b[0;34m.\u001b[0m\u001b[0mxticks\u001b[0m\u001b[0;34m(\u001b[0m\u001b[0mrotation\u001b[0m\u001b[0;34m=\u001b[0m\u001b[0;36m45\u001b[0m\u001b[0;34m)\u001b[0m\u001b[0;34m\u001b[0m\u001b[0;34m\u001b[0m\u001b[0m\n",
      "\u001b[0;31mNameError\u001b[0m: name 'mdates' is not defined"
     ]
    },
    {
     "data": {
      "image/png": "[encoded data removed]",
      "text/plain": [
       "<Figure size 640x480 with 1 Axes>"
      ]
     },
     "metadata": {
      "needs_background": "light"
     },
     "output_type": "display_data"
    }
   ],
   "source": [
    "from matplotlib import pyplot as plt    \n",
    "import pandas as pd\n",
    "import numpy as np\n",
    "\n",
    "def Get_Chart(df, title=\"default\"):\n",
    "    fig = plt.figure(figsize=(8, 6), dpi=80)\n",
    "\n",
    "    for ca in df.columns:\n",
    "        plt.plot(df[ca])\n",
    "        plt.legend(df.columns)\n",
    "        fig.suptitle(title, fontsize=20)\n",
    "    plt.gca().xaxis.set_major_formatter(mdates.DateFormatter('%b-%d'))\n",
    "    plt.gca().xaxis.set_major_locator(mdates.DayLocator(interval=7))\n",
    "    plt.xticks(rotation=45)\n",
    "    return plt\n",
    "Get_Chart(df)"
   ]
  },
  {
   "cell_type": "code",
   "execution_count": null,
   "metadata": {},
   "outputs": [],
   "source": [
    "\"\"\"\n",
    "0.0 3.59\n",
    "0.1 3.2826729539951573\n",
    "0.2 2.989774140435836\n",
    "0.30000000000000004 2.705303559322034\n",
    "0.4 2.4232612106537528\n",
    "0.5 2.1376470944309927\n",
    "0.6000000000000001 1.8424612106537528\n",
    "0.7000000000000001 1.5317035593220336\n",
    "0.8 1.1993741404358353\n",
    "0.9 0.8394729539951573\n",
    "1.0 0.446\n",
    "\"\"\""
   ]
  },
  {
   "cell_type": "code",
   "execution_count": null,
   "metadata": {},
   "outputs": [],
   "source": []
  }
 ],
 "metadata": {
  "kernelspec": {
   "display_name": "Python 3",
   "language": "python",
   "name": "python3"
  },
  "language_info": {
   "codemirror_mode": {
    "name": "ipython",
    "version": 3
   },
   "file_extension": ".py",
   "mimetype": "text/x-python",
   "name": "python",
   "nbconvert_exporter": "python",
   "pygments_lexer": "ipython3",
   "version": "3.8.1"
  },
  "varInspector": {
   "cols": {
    "lenName": 16,
    "lenType": 16,
    "lenVar": 40
   },
   "kernels_config": {
    "python": {
     "delete_cmd_postfix": "",
     "delete_cmd_prefix": "del ",
     "library": "var_list.py",
     "varRefreshCmd": "print(var_dic_list())"
    },
    "r": {
     "delete_cmd_postfix": ") ",
     "delete_cmd_prefix": "rm(",
     "library": "var_list.r",
     "varRefreshCmd": "cat(var_dic_list()) "
    }
   },
   "types_to_exclude": [
    "module",
    "function",
    "builtin_function_or_method",
    "instance",
    "_Feature"
   ],
   "window_display": false
  }
 },
 "nbformat": 4,
 "nbformat_minor": 4
}
