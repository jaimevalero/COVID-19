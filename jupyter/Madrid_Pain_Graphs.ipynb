{
 "cells": [
  {
   "cell_type": "code",
   "execution_count": 1,
   "metadata": {},
   "outputs": [
    {
     "name": "stdout",
     "output_type": "stream",
     "text": [
      "200505_cam_covid19.pdf:::::\r\n",
      "-rw-r--r-- 1 root root 556266 may  5 09:09 200505_cam_covid19.pdf\r\n",
      "200504_cam_covid19.pdf:::::\r\n",
      "-rw-r--r-- 1 root root 557086 may  3 23:41 200504_cam_covid19.pdf\r\n",
      "200503_cam_covid19.pdf:::::\r\n",
      "-rw-r--r-- 1 root root 557075 may  2 23:22 200503_cam_covid19.pdf\r\n",
      "200502_cam_covid19.pdf:::::\r\n",
      "-rw-r--r-- 1 root root 557127 may  2 09:29 200502_cam_covid19.pdf\r\n",
      "200501_cam_covid19.pdf:::::\r\n",
      "-rw-r--r-- 1 root root 556974 may  1 20:11 200501_cam_covid19.pdf\r\n",
      "200430_cam_covid19.pdf:::::\r\n",
      "-rw-r--r-- 1 root root 554446 abr 30 08:36 200430_cam_covid19.pdf\r\n",
      "200429_cam_covid19.pdf:::::\r\n",
      "-rw-r--r-- 1 root root 557572 abr 29 09:53 200429_cam_covid19.pdf\r\n",
      "200428_cam_covid19.pdf:::::\r\n",
      "-rw-r--r-- 1 root root 555864 abr 28 09:10 200428_cam_covid19.pdf\r\n",
      "200427_cam_covid19.pdf:::::\r\n",
      "-rw-r--r-- 1 root root 556578 abr 27 09:03 200427_cam_covid19.pdf\r\n",
      "200426_cam_covid19.pdf:::::\r\n",
      "-rw-r--r-- 1 root root 556778 abr 26 08:37 200426_cam_covid19.pdf\r\n",
      "200425_cam_covid19.pdf:::::\r\n",
      "-rw-r--r-- 1 root root 554376 abr 25 09:31 200425_cam_covid19.pdf\r\n",
      "200424_cam_covid19.pdf:::::\r\n",
      "-rw-r--r-- 1 root root 554914 abr 25 19:34 200424_cam_covid19.pdf\r\n",
      "200423_cam_covid19.pdf:::::\r\n",
      "-rw-r--r-- 1 root root 556637 abr 23 09:23 200423_cam_covid19.pdf\r\n",
      "200422_cam_covid19.pdf:::::\r\n",
      "-rw-r--r-- 1 root root 565414 abr 22 11:56 200422_cam_covid19.pdf\r\n",
      "-rw-r--r-- 1 root root 565414 abr 22 11:56 ../data/200422_cam_covid19.pdf\r\n",
      "-rw-r--r-- 1 root root 556637 abr 23 09:23 ../data/200423_cam_covid19.pdf\r\n",
      "-rw-r--r-- 1 root root 554376 abr 25 09:31 ../data/200425_cam_covid19.pdf\r\n",
      "-rw-r--r-- 1 root root 554914 abr 25 19:34 ../data/200424_cam_covid19.pdf\r\n",
      "-rw-r--r-- 1 root root 556778 abr 26 08:37 ../data/200426_cam_covid19.pdf\r\n",
      "-rw-r--r-- 1 root root 556578 abr 27 09:03 ../data/200427_cam_covid19.pdf\r\n",
      "-rw-r--r-- 1 root root 555864 abr 28 09:10 ../data/200428_cam_covid19.pdf\r\n",
      "-rw-r--r-- 1 root root 557572 abr 29 09:53 ../data/200429_cam_covid19.pdf\r\n",
      "-rw-r--r-- 1 root root 554446 abr 30 08:36 ../data/200430_cam_covid19.pdf\r\n",
      "-rw-r--r-- 1 root root 556974 may  1 20:11 ../data/200501_cam_covid19.pdf\r\n",
      "-rw-r--r-- 1 root root 557127 may  2 09:29 ../data/200502_cam_covid19.pdf\r\n",
      "-rw-r--r-- 1 root root 557075 may  2 23:22 ../data/200503_cam_covid19.pdf\r\n",
      "-rw-r--r-- 1 root root 557086 may  3 23:41 ../data/200504_cam_covid19.pdf\r\n",
      "-rw-r--r-- 1 root root 556266 may  5 09:09 ../data/200505_cam_covid19.pdf\r\n",
      "/root/scripts/COVID-19/jupyter\r\n"
     ]
    }
   ],
   "source": [
    "\n",
    "! cd ../data/; FILELIST=\"200505 200504 200503 200502 200501 200430 200429 200428 200427 200426 200425 200424 200423 200422\" ; for fecha in `echo $FILELIST`  ; do  FILE=${fecha}_cam_covid19.pdf ; echo $FILE:::::  ;  [ ! -f ../data/${FILE} ] && wget https://www.comunidad.madrid/sites/default/files/doc/sanidad/$FILE ; ls -altr $FILE ; done \n",
    "\n",
    "! ls -altr ../data/*cam*\n",
    "! pwd "
   ]
  },
  {
   "cell_type": "code",
   "execution_count": 2,
   "metadata": {},
   "outputs": [],
   "source": [
    "from tabula import read_pdf\n",
    "import os \n",
    "import pandas as pd\n",
    "import glob \n",
    "\n",
    "os.environ[\"JAVA_HOME\"] = \"/usr/lib/jvm/java-1.8.0-openjdk-1.8.0.141-1.b16.el7_3.x86_64/jre\"\n",
    "\n",
    "def get_daily_data(fecha):\n",
    "    col2str = {'dtype': str}\n",
    "    kwargs = {'output_format': 'dataframe',\n",
    "              'pandas_options': col2str,\n",
    "              'stream': True}\n",
    "    df_pdf =  read_pdf('../data/'+fecha+'_cam_covid19.pdf',pages='1',multiple_tables = True,**kwargs)\n",
    "\n",
    "    \n",
    "    df = df_pdf[0]\n",
    "\n",
    "    df = df[df['Unnamed: 0'].notna()]\n",
    "    df = df[(df['Unnamed: 0']=='HOSPITALES') | (df['Unnamed: 0'] == 'DOMICILIOS') | (df['Unnamed: 0'] == 'CENTROS SOCIOSANITARIOS') | (df['Unnamed: 0'] == 'OTROS LUGARES') | (df['Unnamed: 0'] == 'FALLECIDOS TOTALES')]\n",
    "    df = df[['Unnamed: 0','Unnamed: 2']]\n",
    "    df['Unnamed: 2'] = df['Unnamed: 2'].astype(str).str.replace(r\".\", '')\n",
    "    df = df.T\n",
    "    df.columns = df.iloc[0]\n",
    "    df = df.iloc[1:]\n",
    "\n",
    "    df['Fecha'] =  pd.to_datetime(fecha, format='%y%m%d')\n",
    "    df = df.rename_axis(None)\n",
    "\n",
    "    df.set_index('Fecha', inplace=True, drop=True)\n",
    "    df.index\n",
    "    df.dropna()\n",
    "    #df = df.T\n",
    "    return df\n",
    "\n",
    "def get_all_data( ): \n",
    "    #BLACKLIST = [\"200429\",\"200422\"]\n",
    "    BLACKLIST = []\n",
    "    df = pd.DataFrame()\n",
    "    list_df = []\n",
    " \n",
    "    pdf_list= sorted(glob.glob('../data/*_cam_covid19.pdf'), \n",
    "                     key=os.path.getmtime,\n",
    "                     reverse=True )\n",
    "    \n",
    "    for pdf_file in pdf_list:\n",
    "        # extract fecha from username , eg : ../data/2200422_cam_covid19.pdf\n",
    "        fecha = pdf_file.split('/')[2].split('_')[0]\n",
    "        if fecha not in BLACKLIST:\n",
    "            print(\"processing\", fecha)\n",
    "            df = get_daily_data(fecha) \n",
    "        list_df.append(df)\n",
    "\n",
    "    df = pd.concat(list_df)\n",
    "    df = df.astype(int)\n",
    "    df = df.drop_duplicates()\n",
    "\n",
    "    df = df.sort_values(by=['Fecha'], ascending=True)\n",
    "\n",
    "    df['HOSPITALES hoy'] = df['HOSPITALES'] - df['HOSPITALES'].shift(1)\n",
    "    df['CENTROS SOCIOSANITARIOS hoy'] = df['CENTROS SOCIOSANITARIOS'] - df['CENTROS SOCIOSANITARIOS'].shift(1)\n",
    "    df['FALLECIDOS TOTALES hoy'] = df['FALLECIDOS TOTALES'] - df['FALLECIDOS TOTALES'].shift(1)\n",
    "\n",
    "    df = df.sort_values(by=['Fecha'], ascending=False)\n",
    "\n",
    "    return df "
   ]
  },
  {
   "cell_type": "code",
   "execution_count": 3,
   "metadata": {},
   "outputs": [
    {
     "name": "stdout",
     "output_type": "stream",
     "text": [
      "processing 200505\n",
      "processing 200504\n",
      "processing 200503\n",
      "processing 200502\n",
      "processing 200501\n",
      "processing 200430\n",
      "processing 200429\n",
      "processing 200428\n",
      "processing 200427\n",
      "processing 200426\n",
      "processing 200424\n",
      "processing 200425\n",
      "processing 200423\n",
      "processing 200422\n"
     ]
    },
    {
     "name": "stderr",
     "output_type": "stream",
     "text": [
      "Got stderr: may 09, 2020 12:44:12 PM org.apache.pdfbox.pdmodel.font.PDCIDFontType2 <init>\n",
      "INFORMACIÓN: OpenType Layout tables used in font CIDFont+F1 are not implemented in PDFBox and will be ignored\n",
      "may 09, 2020 12:44:12 PM org.apache.pdfbox.pdmodel.font.PDCIDFontType2 <init>\n",
      "INFORMACIÓN: OpenType Layout tables used in font CIDFont+F2 are not implemented in PDFBox and will be ignored\n",
      "may 09, 2020 12:44:12 PM org.apache.pdfbox.pdmodel.font.PDCIDFontType2 <init>\n",
      "INFORMACIÓN: OpenType Layout tables used in font CIDFont+F3 are not implemented in PDFBox and will be ignored\n",
      "may 09, 2020 12:44:12 PM org.apache.pdfbox.pdmodel.font.PDCIDFontType2 <init>\n",
      "INFORMACIÓN: OpenType Layout tables used in font CIDFont+F1 are not implemented in PDFBox and will be ignored\n",
      "may 09, 2020 12:44:13 PM org.apache.pdfbox.pdmodel.font.PDCIDFontType2 <init>\n",
      "INFORMACIÓN: OpenType Layout tables used in font CIDFont+F2 are not implemented in PDFBox and will be ignored\n",
      "may 09, 2020 12:44:13 PM org.apache.pdfbox.pdmodel.font.PDCIDFontType2 <init>\n",
      "INFORMACIÓN: OpenType Layout tables used in font CIDFont+F3 are not implemented in PDFBox and will be ignored\n",
      "may 09, 2020 12:44:13 PM org.apache.pdfbox.pdmodel.font.PDCIDFontType2 <init>\n",
      "INFORMACIÓN: OpenType Layout tables used in font CIDFont+F1 are not implemented in PDFBox and will be ignored\n",
      "may 09, 2020 12:44:13 PM org.apache.pdfbox.pdmodel.font.PDCIDFontType2 <init>\n",
      "INFORMACIÓN: OpenType Layout tables used in font CIDFont+F2 are not implemented in PDFBox and will be ignored\n",
      "may 09, 2020 12:44:13 PM org.apache.pdfbox.pdmodel.font.PDCIDFontType2 <init>\n",
      "INFORMACIÓN: OpenType Layout tables used in font CIDFont+F3 are not implemented in PDFBox and will be ignored\n",
      "\n"
     ]
    },
    {
     "data": {
      "text/html": [
       "<div>\n",
       "<style scoped>\n",
       "    .dataframe tbody tr th:only-of-type {\n",
       "        vertical-align: middle;\n",
       "    }\n",
       "\n",
       "    .dataframe tbody tr th {\n",
       "        vertical-align: top;\n",
       "    }\n",
       "\n",
       "    .dataframe thead th {\n",
       "        text-align: right;\n",
       "    }\n",
       "</style>\n",
       "<table border=\"1\" class=\"dataframe\">\n",
       "  <thead>\n",
       "    <tr style=\"text-align: right;\">\n",
       "      <th>Unnamed: 0</th>\n",
       "      <th>HOSPITALES</th>\n",
       "      <th>DOMICILIOS</th>\n",
       "      <th>CENTROS SOCIOSANITARIOS</th>\n",
       "      <th>OTROS LUGARES</th>\n",
       "      <th>FALLECIDOS TOTALES</th>\n",
       "      <th>HOSPITALES hoy</th>\n",
       "      <th>CENTROS SOCIOSANITARIOS hoy</th>\n",
       "      <th>FALLECIDOS TOTALES hoy</th>\n",
       "    </tr>\n",
       "    <tr>\n",
       "      <th>Fecha</th>\n",
       "      <th></th>\n",
       "      <th></th>\n",
       "      <th></th>\n",
       "      <th></th>\n",
       "      <th></th>\n",
       "      <th></th>\n",
       "      <th></th>\n",
       "      <th></th>\n",
       "    </tr>\n",
       "  </thead>\n",
       "  <tbody>\n",
       "    <tr>\n",
       "      <th>2020-05-05</th>\n",
       "      <td>8266</td>\n",
       "      <td>834</td>\n",
       "      <td>4377</td>\n",
       "      <td>24</td>\n",
       "      <td>13501</td>\n",
       "      <td>63.0</td>\n",
       "      <td>22.0</td>\n",
       "      <td>92.0</td>\n",
       "    </tr>\n",
       "    <tr>\n",
       "      <th>2020-05-04</th>\n",
       "      <td>8203</td>\n",
       "      <td>827</td>\n",
       "      <td>4355</td>\n",
       "      <td>24</td>\n",
       "      <td>13409</td>\n",
       "      <td>67.0</td>\n",
       "      <td>17.0</td>\n",
       "      <td>88.0</td>\n",
       "    </tr>\n",
       "    <tr>\n",
       "      <th>2020-04-30</th>\n",
       "      <td>8136</td>\n",
       "      <td>823</td>\n",
       "      <td>4338</td>\n",
       "      <td>24</td>\n",
       "      <td>13321</td>\n",
       "      <td>178.0</td>\n",
       "      <td>43.0</td>\n",
       "      <td>241.0</td>\n",
       "    </tr>\n",
       "    <tr>\n",
       "      <th>2020-04-29</th>\n",
       "      <td>7958</td>\n",
       "      <td>806</td>\n",
       "      <td>4295</td>\n",
       "      <td>21</td>\n",
       "      <td>13080</td>\n",
       "      <td>77.0</td>\n",
       "      <td>22.0</td>\n",
       "      <td>104.0</td>\n",
       "    </tr>\n",
       "    <tr>\n",
       "      <th>2020-04-27</th>\n",
       "      <td>7881</td>\n",
       "      <td>801</td>\n",
       "      <td>4273</td>\n",
       "      <td>21</td>\n",
       "      <td>12976</td>\n",
       "      <td>81.0</td>\n",
       "      <td>37.0</td>\n",
       "      <td>121.0</td>\n",
       "    </tr>\n",
       "    <tr>\n",
       "      <th>2020-04-26</th>\n",
       "      <td>7800</td>\n",
       "      <td>798</td>\n",
       "      <td>4236</td>\n",
       "      <td>21</td>\n",
       "      <td>12855</td>\n",
       "      <td>167.0</td>\n",
       "      <td>66.0</td>\n",
       "      <td>243.0</td>\n",
       "    </tr>\n",
       "    <tr>\n",
       "      <th>2020-04-25</th>\n",
       "      <td>7633</td>\n",
       "      <td>788</td>\n",
       "      <td>4170</td>\n",
       "      <td>21</td>\n",
       "      <td>12612</td>\n",
       "      <td>245.0</td>\n",
       "      <td>102.0</td>\n",
       "      <td>360.0</td>\n",
       "    </tr>\n",
       "    <tr>\n",
       "      <th>2020-04-24</th>\n",
       "      <td>7388</td>\n",
       "      <td>775</td>\n",
       "      <td>4068</td>\n",
       "      <td>21</td>\n",
       "      <td>12252</td>\n",
       "      <td>117.0</td>\n",
       "      <td>72.0</td>\n",
       "      <td>196.0</td>\n",
       "    </tr>\n",
       "    <tr>\n",
       "      <th>2020-04-23</th>\n",
       "      <td>7271</td>\n",
       "      <td>769</td>\n",
       "      <td>3996</td>\n",
       "      <td>20</td>\n",
       "      <td>12056</td>\n",
       "      <td>127.0</td>\n",
       "      <td>64.0</td>\n",
       "      <td>204.0</td>\n",
       "    </tr>\n",
       "    <tr>\n",
       "      <th>2020-04-22</th>\n",
       "      <td>7144</td>\n",
       "      <td>761</td>\n",
       "      <td>3932</td>\n",
       "      <td>15</td>\n",
       "      <td>11852</td>\n",
       "      <td>NaN</td>\n",
       "      <td>NaN</td>\n",
       "      <td>NaN</td>\n",
       "    </tr>\n",
       "  </tbody>\n",
       "</table>\n",
       "</div>"
      ],
      "text/plain": [
       "Unnamed: 0  HOSPITALES  DOMICILIOS  CENTROS SOCIOSANITARIOS  OTROS LUGARES  \\\n",
       "Fecha                                                                        \n",
       "2020-05-05        8266         834                     4377             24   \n",
       "2020-05-04        8203         827                     4355             24   \n",
       "2020-04-30        8136         823                     4338             24   \n",
       "2020-04-29        7958         806                     4295             21   \n",
       "2020-04-27        7881         801                     4273             21   \n",
       "2020-04-26        7800         798                     4236             21   \n",
       "2020-04-25        7633         788                     4170             21   \n",
       "2020-04-24        7388         775                     4068             21   \n",
       "2020-04-23        7271         769                     3996             20   \n",
       "2020-04-22        7144         761                     3932             15   \n",
       "\n",
       "Unnamed: 0  FALLECIDOS TOTALES  HOSPITALES hoy  CENTROS SOCIOSANITARIOS hoy  \\\n",
       "Fecha                                                                         \n",
       "2020-05-05               13501            63.0                         22.0   \n",
       "2020-05-04               13409            67.0                         17.0   \n",
       "2020-04-30               13321           178.0                         43.0   \n",
       "2020-04-29               13080            77.0                         22.0   \n",
       "2020-04-27               12976            81.0                         37.0   \n",
       "2020-04-26               12855           167.0                         66.0   \n",
       "2020-04-25               12612           245.0                        102.0   \n",
       "2020-04-24               12252           117.0                         72.0   \n",
       "2020-04-23               12056           127.0                         64.0   \n",
       "2020-04-22               11852             NaN                          NaN   \n",
       "\n",
       "Unnamed: 0  FALLECIDOS TOTALES hoy  \n",
       "Fecha                               \n",
       "2020-05-05                    92.0  \n",
       "2020-05-04                    88.0  \n",
       "2020-04-30                   241.0  \n",
       "2020-04-29                   104.0  \n",
       "2020-04-27                   121.0  \n",
       "2020-04-26                   243.0  \n",
       "2020-04-25                   360.0  \n",
       "2020-04-24                   196.0  \n",
       "2020-04-23                   204.0  \n",
       "2020-04-22                     NaN  "
      ]
     },
     "execution_count": 3,
     "metadata": {},
     "output_type": "execute_result"
    }
   ],
   "source": [
    "total =  get_all_data()\n",
    "\n",
    "total"
   ]
  },
  {
   "cell_type": "code",
   "execution_count": 4,
   "metadata": {},
   "outputs": [
    {
     "data": {
      "image/png": "[encoded data removed]",
      "text/plain": [
       "<Figure size 972x648 with 1 Axes>"
      ]
     },
     "metadata": {
      "needs_background": "light"
     },
     "output_type": "display_data"
    }
   ],
   "source": [
    "import pandas as pd\n",
    "import io\n",
    "import matplotlib.dates as mdates\n",
    "from matplotlib import pyplot as plt\n",
    "\n",
    "\n",
    "\n",
    "chart_df=total[['HOSPITALES hoy','CENTROS SOCIOSANITARIOS hoy','FALLECIDOS TOTALES hoy']]\n",
    "chart_df.plot(legend=True,figsize=(13.5,9))\n",
    "\n",
    "plt.gca().xaxis.set_major_formatter(mdates.DateFormatter('%Y-%m-%d'))\n",
    "plt.gca().xaxis.set_major_locator(mdates.DayLocator(interval=1))\n",
    "plt.show()\n",
    "\n"
   ]
  },
  {
   "cell_type": "code",
   "execution_count": 5,
   "metadata": {},
   "outputs": [
    {
     "data": {
      "text/html": [
       "<h2>Muertes medias diarias desde que la comunidad de Madrid publica datos</h2>"
      ],
      "text/plain": [
       "<IPython.core.display.HTML object>"
      ]
     },
     "execution_count": 5,
     "metadata": {},
     "output_type": "execute_result"
    }
   ],
   "source": [
    "from IPython.display import display, HTML\n",
    "HTML(\"<h2>Muertes medias diarias desde que la comunidad de Madrid publica datos</h2>\")\n"
   ]
  },
  {
   "cell_type": "code",
   "execution_count": 6,
   "metadata": {},
   "outputs": [
    {
     "data": {
      "text/html": [
       "<div>\n",
       "<style scoped>\n",
       "    .dataframe tbody tr th:only-of-type {\n",
       "        vertical-align: middle;\n",
       "    }\n",
       "\n",
       "    .dataframe tbody tr th {\n",
       "        vertical-align: top;\n",
       "    }\n",
       "\n",
       "    .dataframe thead th {\n",
       "        text-align: right;\n",
       "    }\n",
       "</style>\n",
       "<table border=\"1\" class=\"dataframe\">\n",
       "  <thead>\n",
       "    <tr style=\"text-align: right;\">\n",
       "      <th>Unnamed: 0</th>\n",
       "      <th>HOSPITALES</th>\n",
       "      <th>DOMICILIOS</th>\n",
       "      <th>CENTROS SOCIOSANITARIOS</th>\n",
       "      <th>OTROS LUGARES</th>\n",
       "      <th>FALLECIDOS TOTALES</th>\n",
       "    </tr>\n",
       "  </thead>\n",
       "  <tbody>\n",
       "    <tr>\n",
       "      <th>0</th>\n",
       "      <td>112.2</td>\n",
       "      <td>7.3</td>\n",
       "      <td>44.5</td>\n",
       "      <td>0.9</td>\n",
       "      <td>164.9</td>\n",
       "    </tr>\n",
       "  </tbody>\n",
       "</table>\n",
       "</div>"
      ],
      "text/plain": [
       "Unnamed: 0  HOSPITALES  DOMICILIOS  CENTROS SOCIOSANITARIOS  OTROS LUGARES  \\\n",
       "0                112.2         7.3                     44.5            0.9   \n",
       "\n",
       "Unnamed: 0  FALLECIDOS TOTALES  \n",
       "0                        164.9  "
      ]
     },
     "execution_count": 6,
     "metadata": {},
     "output_type": "execute_result"
    }
   ],
   "source": [
    "# Calculamos los incrementos medios, desde que tenemos fechas\n",
    "df = total\n",
    "\n",
    "medias_datos = pd.DataFrame((df.head(1).max(axis=0) - df.tail(1).max(axis=0) ) / df.shape[0] ).T[['HOSPITALES','DOMICILIOS','CENTROS SOCIOSANITARIOS','OTROS LUGARES','FALLECIDOS TOTALES']]\n",
    "medias_datos"
   ]
  },
  {
   "cell_type": "code",
   "execution_count": 7,
   "metadata": {},
   "outputs": [
    {
     "data": {
      "text/html": [
       "<h2>Muertes medias diarias desde el principio de la crisis</h2>"
      ],
      "text/plain": [
       "<IPython.core.display.HTML object>"
      ]
     },
     "execution_count": 7,
     "metadata": {},
     "output_type": "execute_result"
    }
   ],
   "source": [
    "from IPython.display import display, HTML\n",
    "HTML(\"<h2>Muertes medias diarias desde el principio de la crisis</h2>\")\n"
   ]
  },
  {
   "cell_type": "code",
   "execution_count": 8,
   "metadata": {},
   "outputs": [
    {
     "data": {
      "text/html": [
       "<div>\n",
       "<style scoped>\n",
       "    .dataframe tbody tr th:only-of-type {\n",
       "        vertical-align: middle;\n",
       "    }\n",
       "\n",
       "    .dataframe tbody tr th {\n",
       "        vertical-align: top;\n",
       "    }\n",
       "\n",
       "    .dataframe thead th {\n",
       "        text-align: right;\n",
       "    }\n",
       "</style>\n",
       "<table border=\"1\" class=\"dataframe\">\n",
       "  <thead>\n",
       "    <tr style=\"text-align: right;\">\n",
       "      <th>Unnamed: 0</th>\n",
       "      <th>HOSPITALES</th>\n",
       "      <th>DOMICILIOS</th>\n",
       "      <th>CENTROS SOCIOSANITARIOS</th>\n",
       "      <th>OTROS LUGARES</th>\n",
       "      <th>FALLECIDOS TOTALES</th>\n",
       "    </tr>\n",
       "  </thead>\n",
       "  <tbody>\n",
       "    <tr>\n",
       "      <th>0</th>\n",
       "      <td>145.017544</td>\n",
       "      <td>14.631579</td>\n",
       "      <td>76.789474</td>\n",
       "      <td>0.421053</td>\n",
       "      <td>236.859649</td>\n",
       "    </tr>\n",
       "  </tbody>\n",
       "</table>\n",
       "</div>"
      ],
      "text/plain": [
       "Unnamed: 0  HOSPITALES  DOMICILIOS  CENTROS SOCIOSANITARIOS  OTROS LUGARES  \\\n",
       "0           145.017544   14.631579                76.789474       0.421053   \n",
       "\n",
       "Unnamed: 0  FALLECIDOS TOTALES  \n",
       "0                   236.859649  "
      ]
     },
     "execution_count": 8,
     "metadata": {},
     "output_type": "execute_result"
    }
   ],
   "source": [
    "from datetime import date\n",
    "df = total\n",
    "\n",
    "inicio_crisis = pd.Timestamp('2020-03-09 00:00:00')\n",
    "dia_mas_reciente = df.index[0]\n",
    "dias_transcurridos_inicio_crisis = dia_mas_reciente - inicio_crisis\n",
    "\n",
    "medias_inicio_crisis = pd.DataFrame((df.head(1).max(axis=0)) / dias_transcurridos_inicio_crisis.days ).T[['HOSPITALES','DOMICILIOS','CENTROS SOCIOSANITARIOS','OTROS LUGARES','FALLECIDOS TOTALES']]\n",
    "medias_inicio_crisis\n",
    "                                    "
   ]
  },
  {
   "cell_type": "code",
   "execution_count": 9,
   "metadata": {},
   "outputs": [],
   "source": [
    "from tabula import read_pdf\n",
    "import os \n",
    "import pandas as pd\n",
    "import glob \n"
   ]
  },
  {
   "cell_type": "code",
   "execution_count": 10,
   "metadata": {},
   "outputs": [],
   "source": [
    "fecha = '200505'\n",
    "col2str = {'dtype': str}\n",
    "kwargs = {'output_format': 'dataframe',\n",
    "          'pandas_options': col2str,\n",
    "          'stream': True}\n",
    "df_pdf =  read_pdf('../data/'+fecha+'_cam_covid19.pdf',pages='1',multiple_tables = True,**kwargs)\n"
   ]
  },
  {
   "cell_type": "code",
   "execution_count": null,
   "metadata": {},
   "outputs": [],
   "source": []
  }
 ],
 "metadata": {
  "kernelspec": {
   "display_name": "Python 3",
   "language": "python",
   "name": "python3"
  },
  "language_info": {
   "codemirror_mode": {
    "name": "ipython",
    "version": 3
   },
   "file_extension": ".py",
   "mimetype": "text/x-python",
   "name": "python",
   "nbconvert_exporter": "python",
   "pygments_lexer": "ipython3",
   "version": "3.6.10"
  },
  "varInspector": {
   "cols": {
    "lenName": 16,
    "lenType": 16,
    "lenVar": 40
   },
   "kernels_config": {
    "python": {
     "delete_cmd_postfix": "",
     "delete_cmd_prefix": "del ",
     "library": "var_list.py",
     "varRefreshCmd": "print(var_dic_list())"
    },
    "r": {
     "delete_cmd_postfix": ") ",
     "delete_cmd_prefix": "rm(",
     "library": "var_list.r",
     "varRefreshCmd": "cat(var_dic_list()) "
    }
   },
   "types_to_exclude": [
    "module",
    "function",
    "builtin_function_or_method",
    "instance",
    "_Feature"
   ],
   "window_display": false
  }
 },
 "nbformat": 4,
 "nbformat_minor": 4
}
