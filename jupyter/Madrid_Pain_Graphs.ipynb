{
 "cells": [
  {
   "cell_type": "code",
   "execution_count": 1,
   "metadata": {},
   "outputs": [
    {
     "name": "stdout",
     "output_type": "stream",
     "text": [
      "200505_cam_covid19.pdf:::::\n",
      "-rw-r--r-- 1 root root 556266 may  5 09:09 200505_cam_covid19.pdf\n",
      "200504_cam_covid19.pdf:::::\n",
      "-rw-r--r-- 1 root root 557086 may  3 23:41 200504_cam_covid19.pdf\n",
      "200501_cam_covid19.pdf:::::\n",
      "-rw-r--r-- 1 root root 556974 may  1 20:11 200501_cam_covid19.pdf\n",
      "200430_cam_covid19.pdf:::::\n",
      "-rw-r--r-- 1 root root 554446 abr 30 08:36 200430_cam_covid19.pdf\n",
      "200429_cam_covid19.pdf:::::\n",
      "-rw-r--r-- 1 root root 557572 abr 29 09:53 200429_cam_covid19.pdf\n",
      "200428_cam_covid19.pdf:::::\n",
      "-rw-r--r-- 1 root root 555864 abr 28 09:10 200428_cam_covid19.pdf\n",
      "200427_cam_covid19.pdf:::::\n",
      "-rw-r--r-- 1 root root 556578 abr 27 09:03 200427_cam_covid19.pdf\n",
      "200426_cam_covid19.pdf:::::\n",
      "-rw-r--r-- 1 root root 556778 abr 26 08:37 200426_cam_covid19.pdf\n",
      "200425_cam_covid19.pdf:::::\n",
      "-rw-r--r-- 1 root root 554376 abr 25 09:31 200425_cam_covid19.pdf\n",
      "200424_cam_covid19.pdf:::::\n",
      "-rw-r--r-- 1 root root 554914 abr 25 19:34 200424_cam_covid19.pdf\n",
      "200423_cam_covid19.pdf:::::\n",
      "-rw-r--r-- 1 root root 556637 abr 23 09:23 200423_cam_covid19.pdf\n",
      "200422_cam_covid19.pdf:::::\n",
      "-rw-r--r-- 1 root root 565414 abr 22 11:56 200422_cam_covid19.pdf\n",
      "-rw-r--r-- 1 root root 565414 abr 22 11:56 ../data/200422_cam_covid19.pdf\n",
      "-rw-r--r-- 1 root root 556637 abr 23 09:23 ../data/200423_cam_covid19.pdf\n",
      "-rw-r--r-- 1 root root 554376 abr 25 09:31 ../data/200425_cam_covid19.pdf\n",
      "-rw-r--r-- 1 root root 554914 abr 25 19:34 ../data/200424_cam_covid19.pdf\n",
      "-rw-r--r-- 1 root root 556778 abr 26 08:37 ../data/200426_cam_covid19.pdf\n",
      "-rw-r--r-- 1 root root 556578 abr 27 09:03 ../data/200427_cam_covid19.pdf\n",
      "-rw-r--r-- 1 root root 555864 abr 28 09:10 ../data/200428_cam_covid19.pdf\n",
      "-rw-r--r-- 1 root root 557572 abr 29 09:53 ../data/200429_cam_covid19.pdf\n",
      "-rw-r--r-- 1 root root 554446 abr 30 08:36 ../data/200430_cam_covid19.pdf\n",
      "-rw-r--r-- 1 root root 556974 may  1 20:11 ../data/200501_cam_covid19.pdf\n",
      "-rw-r--r-- 1 root root 557086 may  3 23:41 ../data/200504_cam_covid19.pdf\n",
      "-rw-r--r-- 1 root root 556266 may  5 09:09 ../data/200505_cam_covid19.pdf\n",
      "/root/scripts/COVID-19/jupyter\n"
     ]
    }
   ],
   "source": [
    "\n",
    "! cd ../data/; FILELIST=\"200505 200504 200501 200430 200429 200428 200427 200426 200425 200424 200423 200422\" ; for fecha in `echo $FILELIST`  ; do  FILE=${fecha}_cam_covid19.pdf ; echo $FILE:::::  ;  [ ! -f ../data/${FILE} ] && wget https://www.comunidad.madrid/sites/default/files/doc/sanidad/$FILE ; ls -altr $FILE ; done \n",
    "\n",
    "! ls -altr ../data/*cam*\n",
    "! pwd "
   ]
  },
  {
   "cell_type": "code",
   "execution_count": 2,
   "metadata": {},
   "outputs": [],
   "source": [
    "from tabula import read_pdf\n",
    "import os \n",
    "import pandas as pd\n",
    "import glob \n",
    "\n",
    "os.environ[\"JAVA_HOME\"] = \"/usr/lib/jvm/java-1.8.0-openjdk-1.8.0.141-1.b16.el7_3.x86_64/jre\"\n",
    "\n",
    "def get_daily_data(fecha):\n",
    "    col2str = {'dtype': str}\n",
    "    kwargs = {'output_format': 'dataframe',\n",
    "              'pandas_options': col2str,\n",
    "              'stream': False}\n",
    "    df_pdf =  read_pdf('../data/'+fecha+'_cam_covid19.pdf',pages='1',multiple_tables = True,**kwargs)\n",
    "\n",
    "    \n",
    "    df = df_pdf[0]\n",
    "    #print(fecha, df.index, df.columns)\n",
    "    df = df[df['Unnamed: 0'].notna()]\n",
    "    df = df[(df['Unnamed: 0']=='HOSPITALES') | (df['Unnamed: 0'] == 'DOMICILIOS') | (df['Unnamed: 0'] == 'CENTROS SOCIOSANITARIOS') | (df['Unnamed: 0'] == 'OTROS LUGARES') | (df['Unnamed: 0'] == 'FALLECIDOS TOTALES')]\n",
    "    df = df[['Unnamed: 0','Unnamed: 2']]\n",
    "    df['Unnamed: 2'] = df['Unnamed: 2'].astype(str).str.replace(r\".\", '')\n",
    "    df = df.T\n",
    "    df.columns = df.iloc[0]\n",
    "    df = df.iloc[1:]\n",
    "\n",
    "    df['Fecha'] =  pd.to_datetime(fecha, format='%y%m%d')\n",
    "    #del df['Unnamed: 0']\n",
    "    #df = df.reset_index(drop=True)\n",
    "    df = df.rename_axis(None)\n",
    "\n",
    "    df.set_index('Fecha', inplace=True, drop=True)\n",
    "    df.index\n",
    "    df.dropna()\n",
    "    #df = df.T\n",
    "    return df\n",
    "\n",
    "def get_all_data( ): \n",
    "    BLACKLIST = [\"200429\",\"200422\"]\n",
    "    \n",
    "    df = pd.DataFrame()\n",
    "    list_df = []\n",
    " \n",
    "    pdf_list= sorted(glob.glob('../data/*_cam_covid19.pdf'), \n",
    "                     key=os.path.getmtime,\n",
    "                     reverse=True )\n",
    "    \n",
    "    for pdf_file in pdf_list:\n",
    "        # extract fecha from username , eg : ../data/2200422_cam_covid19.pdf\n",
    "        fecha = pdf_file.split('/')[2].split('_')[0]\n",
    "        if fecha not in BLACKLIST:\n",
    "            print(\"processing\", fecha)\n",
    "            df = get_daily_data(fecha) \n",
    "        list_df.append(df)\n",
    "\n",
    "    df = pd.concat(list_df)\n",
    "    df = df.astype(int)\n",
    "    df = df.drop_duplicates()\n",
    "\n",
    "    df = df.sort_values(by=['Fecha'], ascending=True)\n",
    "\n",
    "    df['HOSPITALES hoy'] = df['HOSPITALES'] - df['HOSPITALES'].shift(1)\n",
    "    df['CENTROS SOCIOSANITARIOS hoy'] = df['CENTROS SOCIOSANITARIOS'] - df['CENTROS SOCIOSANITARIOS'].shift(1)\n",
    "    df['FALLECIDOS TOTALES hoy'] = df['FALLECIDOS TOTALES'] - df['FALLECIDOS TOTALES'].shift(1)\n",
    "\n",
    "    df = df.sort_values(by=['Fecha'], ascending=False)\n",
    "\n",
    "    return df "
   ]
  },
  {
   "cell_type": "code",
   "execution_count": 3,
   "metadata": {},
   "outputs": [
    {
     "name": "stdout",
     "output_type": "stream",
     "text": [
      "processing 200505\n"
     ]
    },
    {
     "ename": "CSVParseError",
     "evalue": "Error failed to create DataFrame with different column tables.\nTry to set `multiple_tables=True`or set `names` option for `pandas_options`. \n, caused by ParserError('Error tokenizing data. C error: Expected 1 fields in line 3, saw 5\\n',)",
     "output_type": "error",
     "traceback": [
      "\u001b[0;31m---------------------------------------------------------------------------\u001b[0m",
      "\u001b[0;31mParserError\u001b[0m                               Traceback (most recent call last)",
      "\u001b[0;32m~/anaconda2/envs/jupyter/lib/python3.6/site-packages/tabula/io.py\u001b[0m in \u001b[0;36mread_pdf\u001b[0;34m(input_path, output_format, encoding, java_options, pandas_options, multiple_tables, user_agent, **kwargs)\u001b[0m\n\u001b[1;32m    345\u001b[0m         \u001b[0;32mtry\u001b[0m\u001b[0;34m:\u001b[0m\u001b[0;34m\u001b[0m\u001b[0;34m\u001b[0m\u001b[0m\n\u001b[0;32m--> 346\u001b[0;31m             \u001b[0;32mreturn\u001b[0m \u001b[0;34m[\u001b[0m\u001b[0mpd\u001b[0m\u001b[0;34m.\u001b[0m\u001b[0mread_csv\u001b[0m\u001b[0;34m(\u001b[0m\u001b[0mio\u001b[0m\u001b[0;34m.\u001b[0m\u001b[0mBytesIO\u001b[0m\u001b[0;34m(\u001b[0m\u001b[0moutput\u001b[0m\u001b[0;34m)\u001b[0m\u001b[0;34m,\u001b[0m \u001b[0;34m**\u001b[0m\u001b[0mpandas_options\u001b[0m\u001b[0;34m)\u001b[0m\u001b[0;34m]\u001b[0m\u001b[0;34m\u001b[0m\u001b[0;34m\u001b[0m\u001b[0m\n\u001b[0m\u001b[1;32m    347\u001b[0m         \u001b[0;32mexcept\u001b[0m \u001b[0mpd\u001b[0m\u001b[0;34m.\u001b[0m\u001b[0merrors\u001b[0m\u001b[0;34m.\u001b[0m\u001b[0mParserError\u001b[0m \u001b[0;32mas\u001b[0m \u001b[0me\u001b[0m\u001b[0;34m:\u001b[0m\u001b[0;34m\u001b[0m\u001b[0;34m\u001b[0m\u001b[0m\n",
      "\u001b[0;32m~/anaconda2/envs/jupyter/lib/python3.6/site-packages/pandas/io/parsers.py\u001b[0m in \u001b[0;36mparser_f\u001b[0;34m(filepath_or_buffer, sep, delimiter, header, names, index_col, usecols, squeeze, prefix, mangle_dupe_cols, dtype, engine, converters, true_values, false_values, skipinitialspace, skiprows, skipfooter, nrows, na_values, keep_default_na, na_filter, verbose, skip_blank_lines, parse_dates, infer_datetime_format, keep_date_col, date_parser, dayfirst, cache_dates, iterator, chunksize, compression, thousands, decimal, lineterminator, quotechar, quoting, doublequote, escapechar, comment, encoding, dialect, error_bad_lines, warn_bad_lines, delim_whitespace, low_memory, memory_map, float_precision)\u001b[0m\n\u001b[1;32m    675\u001b[0m \u001b[0;34m\u001b[0m\u001b[0m\n\u001b[0;32m--> 676\u001b[0;31m         \u001b[0;32mreturn\u001b[0m \u001b[0m_read\u001b[0m\u001b[0;34m(\u001b[0m\u001b[0mfilepath_or_buffer\u001b[0m\u001b[0;34m,\u001b[0m \u001b[0mkwds\u001b[0m\u001b[0;34m)\u001b[0m\u001b[0;34m\u001b[0m\u001b[0;34m\u001b[0m\u001b[0m\n\u001b[0m\u001b[1;32m    677\u001b[0m \u001b[0;34m\u001b[0m\u001b[0m\n",
      "\u001b[0;32m~/anaconda2/envs/jupyter/lib/python3.6/site-packages/pandas/io/parsers.py\u001b[0m in \u001b[0;36m_read\u001b[0;34m(filepath_or_buffer, kwds)\u001b[0m\n\u001b[1;32m    453\u001b[0m     \u001b[0;32mtry\u001b[0m\u001b[0;34m:\u001b[0m\u001b[0;34m\u001b[0m\u001b[0;34m\u001b[0m\u001b[0m\n\u001b[0;32m--> 454\u001b[0;31m         \u001b[0mdata\u001b[0m \u001b[0;34m=\u001b[0m \u001b[0mparser\u001b[0m\u001b[0;34m.\u001b[0m\u001b[0mread\u001b[0m\u001b[0;34m(\u001b[0m\u001b[0mnrows\u001b[0m\u001b[0;34m)\u001b[0m\u001b[0;34m\u001b[0m\u001b[0;34m\u001b[0m\u001b[0m\n\u001b[0m\u001b[1;32m    455\u001b[0m     \u001b[0;32mfinally\u001b[0m\u001b[0;34m:\u001b[0m\u001b[0;34m\u001b[0m\u001b[0;34m\u001b[0m\u001b[0m\n",
      "\u001b[0;32m~/anaconda2/envs/jupyter/lib/python3.6/site-packages/pandas/io/parsers.py\u001b[0m in \u001b[0;36mread\u001b[0;34m(self, nrows)\u001b[0m\n\u001b[1;32m   1132\u001b[0m         \u001b[0mnrows\u001b[0m \u001b[0;34m=\u001b[0m \u001b[0m_validate_integer\u001b[0m\u001b[0;34m(\u001b[0m\u001b[0;34m\"nrows\"\u001b[0m\u001b[0;34m,\u001b[0m \u001b[0mnrows\u001b[0m\u001b[0;34m)\u001b[0m\u001b[0;34m\u001b[0m\u001b[0;34m\u001b[0m\u001b[0m\n\u001b[0;32m-> 1133\u001b[0;31m         \u001b[0mret\u001b[0m \u001b[0;34m=\u001b[0m \u001b[0mself\u001b[0m\u001b[0;34m.\u001b[0m\u001b[0m_engine\u001b[0m\u001b[0;34m.\u001b[0m\u001b[0mread\u001b[0m\u001b[0;34m(\u001b[0m\u001b[0mnrows\u001b[0m\u001b[0;34m)\u001b[0m\u001b[0;34m\u001b[0m\u001b[0;34m\u001b[0m\u001b[0m\n\u001b[0m\u001b[1;32m   1134\u001b[0m \u001b[0;34m\u001b[0m\u001b[0m\n",
      "\u001b[0;32m~/anaconda2/envs/jupyter/lib/python3.6/site-packages/pandas/io/parsers.py\u001b[0m in \u001b[0;36mread\u001b[0;34m(self, nrows)\u001b[0m\n\u001b[1;32m   2036\u001b[0m         \u001b[0;32mtry\u001b[0m\u001b[0;34m:\u001b[0m\u001b[0;34m\u001b[0m\u001b[0;34m\u001b[0m\u001b[0m\n\u001b[0;32m-> 2037\u001b[0;31m             \u001b[0mdata\u001b[0m \u001b[0;34m=\u001b[0m \u001b[0mself\u001b[0m\u001b[0;34m.\u001b[0m\u001b[0m_reader\u001b[0m\u001b[0;34m.\u001b[0m\u001b[0mread\u001b[0m\u001b[0;34m(\u001b[0m\u001b[0mnrows\u001b[0m\u001b[0;34m)\u001b[0m\u001b[0;34m\u001b[0m\u001b[0;34m\u001b[0m\u001b[0m\n\u001b[0m\u001b[1;32m   2038\u001b[0m         \u001b[0;32mexcept\u001b[0m \u001b[0mStopIteration\u001b[0m\u001b[0;34m:\u001b[0m\u001b[0;34m\u001b[0m\u001b[0;34m\u001b[0m\u001b[0m\n",
      "\u001b[0;32mpandas/_libs/parsers.pyx\u001b[0m in \u001b[0;36mpandas._libs.parsers.TextReader.read\u001b[0;34m()\u001b[0m\n",
      "\u001b[0;32mpandas/_libs/parsers.pyx\u001b[0m in \u001b[0;36mpandas._libs.parsers.TextReader._read_low_memory\u001b[0;34m()\u001b[0m\n",
      "\u001b[0;32mpandas/_libs/parsers.pyx\u001b[0m in \u001b[0;36mpandas._libs.parsers.TextReader._read_rows\u001b[0;34m()\u001b[0m\n",
      "\u001b[0;32mpandas/_libs/parsers.pyx\u001b[0m in \u001b[0;36mpandas._libs.parsers.TextReader._tokenize_rows\u001b[0;34m()\u001b[0m\n",
      "\u001b[0;32mpandas/_libs/parsers.pyx\u001b[0m in \u001b[0;36mpandas._libs.parsers.raise_parser_error\u001b[0;34m()\u001b[0m\n",
      "\u001b[0;31mParserError\u001b[0m: Error tokenizing data. C error: Expected 1 fields in line 3, saw 5\n",
      "\nDuring handling of the above exception, another exception occurred:\n",
      "\u001b[0;31mCSVParseError\u001b[0m                             Traceback (most recent call last)",
      "\u001b[0;32m<ipython-input-3-25b4a38442cc>\u001b[0m in \u001b[0;36m<module>\u001b[0;34m\u001b[0m\n\u001b[0;32m----> 1\u001b[0;31m \u001b[0mtotal\u001b[0m \u001b[0;34m=\u001b[0m  \u001b[0mget_all_data\u001b[0m\u001b[0;34m(\u001b[0m\u001b[0;34m)\u001b[0m\u001b[0;34m\u001b[0m\u001b[0;34m\u001b[0m\u001b[0m\n\u001b[0m\u001b[1;32m      2\u001b[0m \u001b[0;34m\u001b[0m\u001b[0m\n\u001b[1;32m      3\u001b[0m \u001b[0mtotal\u001b[0m\u001b[0;34m\u001b[0m\u001b[0;34m\u001b[0m\u001b[0m\n",
      "\u001b[0;32m<ipython-input-2-34b1c99dc62d>\u001b[0m in \u001b[0;36mget_all_data\u001b[0;34m()\u001b[0m\n\u001b[1;32m     50\u001b[0m         \u001b[0;32mif\u001b[0m \u001b[0mfecha\u001b[0m \u001b[0;32mnot\u001b[0m \u001b[0;32min\u001b[0m \u001b[0mBLACKLIST\u001b[0m\u001b[0;34m:\u001b[0m\u001b[0;34m\u001b[0m\u001b[0;34m\u001b[0m\u001b[0m\n\u001b[1;32m     51\u001b[0m             \u001b[0mprint\u001b[0m\u001b[0;34m(\u001b[0m\u001b[0;34m\"processing\"\u001b[0m\u001b[0;34m,\u001b[0m \u001b[0mfecha\u001b[0m\u001b[0;34m)\u001b[0m\u001b[0;34m\u001b[0m\u001b[0;34m\u001b[0m\u001b[0m\n\u001b[0;32m---> 52\u001b[0;31m             \u001b[0mdf\u001b[0m \u001b[0;34m=\u001b[0m \u001b[0mget_daily_data\u001b[0m\u001b[0;34m(\u001b[0m\u001b[0mfecha\u001b[0m\u001b[0;34m)\u001b[0m\u001b[0;34m\u001b[0m\u001b[0;34m\u001b[0m\u001b[0m\n\u001b[0m\u001b[1;32m     53\u001b[0m         \u001b[0mlist_df\u001b[0m\u001b[0;34m.\u001b[0m\u001b[0mappend\u001b[0m\u001b[0;34m(\u001b[0m\u001b[0mdf\u001b[0m\u001b[0;34m)\u001b[0m\u001b[0;34m\u001b[0m\u001b[0;34m\u001b[0m\u001b[0m\n\u001b[1;32m     54\u001b[0m \u001b[0;34m\u001b[0m\u001b[0m\n",
      "\u001b[0;32m<ipython-input-2-34b1c99dc62d>\u001b[0m in \u001b[0;36mget_daily_data\u001b[0;34m(fecha)\u001b[0m\n\u001b[1;32m     11\u001b[0m               \u001b[0;34m'pandas_options'\u001b[0m\u001b[0;34m:\u001b[0m \u001b[0mcol2str\u001b[0m\u001b[0;34m,\u001b[0m\u001b[0;34m\u001b[0m\u001b[0;34m\u001b[0m\u001b[0m\n\u001b[1;32m     12\u001b[0m               'stream': False}\n\u001b[0;32m---> 13\u001b[0;31m     \u001b[0mdf_pdf\u001b[0m \u001b[0;34m=\u001b[0m  \u001b[0mread_pdf\u001b[0m\u001b[0;34m(\u001b[0m\u001b[0;34m'../data/'\u001b[0m\u001b[0;34m+\u001b[0m\u001b[0mfecha\u001b[0m\u001b[0;34m+\u001b[0m\u001b[0;34m'_cam_covid19.pdf'\u001b[0m\u001b[0;34m,\u001b[0m\u001b[0mpages\u001b[0m\u001b[0;34m=\u001b[0m\u001b[0;34m'1'\u001b[0m\u001b[0;34m,\u001b[0m\u001b[0mmultiple_tables\u001b[0m \u001b[0;34m=\u001b[0m \u001b[0;32mTrue\u001b[0m\u001b[0;34m,\u001b[0m\u001b[0;34m**\u001b[0m\u001b[0mkwargs\u001b[0m\u001b[0;34m)\u001b[0m\u001b[0;34m\u001b[0m\u001b[0;34m\u001b[0m\u001b[0m\n\u001b[0m\u001b[1;32m     14\u001b[0m \u001b[0;34m\u001b[0m\u001b[0m\n\u001b[1;32m     15\u001b[0m \u001b[0;34m\u001b[0m\u001b[0m\n",
      "\u001b[0;32m~/anaconda2/envs/jupyter/lib/python3.6/site-packages/tabula/io.py\u001b[0m in \u001b[0;36mread_pdf\u001b[0;34m(input_path, output_format, encoding, java_options, pandas_options, multiple_tables, user_agent, **kwargs)\u001b[0m\n\u001b[1;32m    352\u001b[0m             )\n\u001b[1;32m    353\u001b[0m \u001b[0;34m\u001b[0m\u001b[0m\n\u001b[0;32m--> 354\u001b[0;31m             \u001b[0;32mraise\u001b[0m \u001b[0mCSVParseError\u001b[0m\u001b[0;34m(\u001b[0m\u001b[0mmessage\u001b[0m\u001b[0;34m,\u001b[0m \u001b[0me\u001b[0m\u001b[0;34m)\u001b[0m\u001b[0;34m\u001b[0m\u001b[0;34m\u001b[0m\u001b[0m\n\u001b[0m\u001b[1;32m    355\u001b[0m \u001b[0;34m\u001b[0m\u001b[0m\n\u001b[1;32m    356\u001b[0m \u001b[0;34m\u001b[0m\u001b[0m\n",
      "\u001b[0;31mCSVParseError\u001b[0m: Error failed to create DataFrame with different column tables.\nTry to set `multiple_tables=True`or set `names` option for `pandas_options`. \n, caused by ParserError('Error tokenizing data. C error: Expected 1 fields in line 3, saw 5\\n',)"
     ]
    }
   ],
   "source": [
    "total =  get_all_data()\n",
    "\n",
    "total"
   ]
  },
  {
   "cell_type": "code",
   "execution_count": null,
   "metadata": {},
   "outputs": [],
   "source": [
    "import pandas as pd\n",
    "import io\n",
    "import matplotlib.dates as mdates\n",
    "from matplotlib import pyplot as plt\n",
    "\n",
    "\n",
    "\n",
    "chart_df=total[['HOSPITALES hoy','CENTROS SOCIOSANITARIOS hoy','FALLECIDOS TOTALES hoy']]\n",
    "chart_df.plot(legend=True,figsize=(13.5,9))\n",
    "\n",
    "plt.gca().xaxis.set_major_formatter(mdates.DateFormatter('%Y-%m-%d'))\n",
    "plt.gca().xaxis.set_major_locator(mdates.DayLocator(interval=1))\n",
    "plt.show()\n",
    "\n"
   ]
  },
  {
   "cell_type": "code",
   "execution_count": null,
   "metadata": {},
   "outputs": [],
   "source": [
    "from IPython.display import display, HTML\n",
    "HTML(\"<h2>Muertes medias diarias desde que la comunidad de Madrid publica datos</h2>\")\n"
   ]
  },
  {
   "cell_type": "code",
   "execution_count": null,
   "metadata": {},
   "outputs": [],
   "source": [
    "# Calculamos los incrementos medios, desde que tenemos fechas\n",
    "df = total\n",
    "\n",
    "medias_datos = pd.DataFrame((df.head(1).max(axis=0) - df.tail(1).max(axis=0) ) / df.shape[0] ).T[['HOSPITALES','DOMICILIOS','CENTROS SOCIOSANITARIOS','OTROS LUGARES','FALLECIDOS TOTALES']]\n",
    "medias_datos"
   ]
  },
  {
   "cell_type": "code",
   "execution_count": null,
   "metadata": {},
   "outputs": [],
   "source": [
    "from IPython.display import display, HTML\n",
    "HTML(\"<h2>Muertes medias diarias desde el principio de la crisis</h2>\")\n"
   ]
  },
  {
   "cell_type": "code",
   "execution_count": null,
   "metadata": {},
   "outputs": [],
   "source": [
    "from datetime import date\n",
    "df = total\n",
    "\n",
    "inicio_crisis = pd.Timestamp('2020-03-09 00:00:00')\n",
    "dia_mas_reciente = df.index[0]\n",
    "dias_transcurridos_inicio_crisis = dia_mas_reciente - inicio_crisis\n",
    "\n",
    "medias_inicio_crisis = pd.DataFrame((df.head(1).max(axis=0)) / dias_transcurridos_inicio_crisis.days ).T[['HOSPITALES','DOMICILIOS','CENTROS SOCIOSANITARIOS','OTROS LUGARES','FALLECIDOS TOTALES']]\n",
    "medias_inicio_crisis\n",
    "                                    "
   ]
  },
  {
   "cell_type": "code",
   "execution_count": null,
   "metadata": {},
   "outputs": [],
   "source": []
  },
  {
   "cell_type": "code",
   "execution_count": null,
   "metadata": {},
   "outputs": [],
   "source": []
  }
 ],
 "metadata": {
  "kernelspec": {
   "display_name": "Python 3",
   "language": "python",
   "name": "python3"
  },
  "language_info": {
   "codemirror_mode": {
    "name": "ipython",
    "version": 3
   },
   "file_extension": ".py",
   "mimetype": "text/x-python",
   "name": "python",
   "nbconvert_exporter": "python",
   "pygments_lexer": "ipython3",
   "version": "3.6.10"
  },
  "varInspector": {
   "cols": {
    "lenName": 16,
    "lenType": 16,
    "lenVar": 40
   },
   "kernels_config": {
    "python": {
     "delete_cmd_postfix": "",
     "delete_cmd_prefix": "del ",
     "library": "var_list.py",
     "varRefreshCmd": "print(var_dic_list())"
    },
    "r": {
     "delete_cmd_postfix": ") ",
     "delete_cmd_prefix": "rm(",
     "library": "var_list.r",
     "varRefreshCmd": "cat(var_dic_list()) "
    }
   },
   "types_to_exclude": [
    "module",
    "function",
    "builtin_function_or_method",
    "instance",
    "_Feature"
   ],
   "window_display": false
  }
 },
 "nbformat": 4,
 "nbformat_minor": 4
}
