{
 "cells": [
  {
   "cell_type": "code",
   "execution_count": 1,
   "metadata": {},
   "outputs": [],
   "source": [
    "\n",
    "! cd ../data/; FILELIST=\" 200509 200508 200507 200506 200505 200504 200503 200502 200501 200430 200429 200428 200427 200426 200425 200424 200423 200422 200510 200511 200512 200513 200514 200515 200516 200517 200518 200519 200520 200521 200522 200523 200524 200525 200526 200527 200528 200529 200530 200609 200608 200607 200606 200605 200604 200603 200602 200601 200610 200611 200612 200613 200614 200615 200616 200617 200618 200619 200620 200621 200622 200623 200624 200625 200626 200627 200628 200629 200630 \" ; for fecha in `echo $FILELIST`  ; do  FILE=${fecha}_cam_covid19.pdf ;  [ ! -f ../data/${FILE} ] && echo $FILE:::::    && wget https://www.comunidad.madrid/sites/default/files/doc/sanidad/$FILE 1>/dev/null  2>/dev/null && ls -altr $FILE ; done \n",
    "\n",
    "! pwd "
   ]
  },
  {
   "cell_type": "code",
   "execution_count": null,
   "metadata": {},
   "outputs": [
    {
     "data": {
      "application/vnd.jupyter.widget-view+json": {
       "model_id": "15410de7f0c148e78ea59e8be816297b",
       "version_major": 2,
       "version_minor": 0
      },
      "text/plain": [
       "HBox(children=(FloatProgress(value=0.0, description='Procesando pdfs', max=48.0, style=ProgressStyle(descripti…"
      ]
     },
     "metadata": {},
     "output_type": "display_data"
    }
   ],
   "source": [
    "from tabula import read_pdf\n",
    "import os \n",
    "import pandas as pd\n",
    "import glob \n",
    "import re \n",
    "from tqdm.notebook import tqdm\n",
    "import warnings\n",
    "warnings.filterwarnings('ignore')\n",
    "\n",
    "os.environ[\"JAVA_HOME\"] = \"/usr/lib/jvm/java-1.8.0-openjdk-1.8.0.141-1.b16.el7_3.x86_64/jre\"\n",
    "\n",
    "# Auxiliary functions\n",
    "from datetime import datetime, date, time, timedelta\n",
    "\n",
    "\"\"\" Rellenar dias vacios con interpolacion\"\"\"\n",
    "def interpolate_dataframe(df,freq):\n",
    "    if freq == 'H':\n",
    "        rng = pd.date_range(df.index.min(), df.index.max() + pd.Timedelta(23, 'H'), freq='H')\n",
    "    elif freq == 'D' :  \n",
    "        rng = pd.date_range(\n",
    "                        datetime.strptime(str(df.index.min())[:10]+' 00:00:00', \"%Y-%m-%d %H:%M:%S\") ,\n",
    "                        datetime.strptime(str(df.index.max())[:10]+' 00:00:00', \"%Y-%m-%d %H:%M:%S\"), \n",
    "                        freq='D')\n",
    "        df.index = pd.to_datetime(df.index)  \n",
    "    df2 = df.reindex(rng)\n",
    "    df = df2\n",
    "    for column in df.columns :\n",
    "        s = pd.Series(df[column])\n",
    "        s.interpolate(method=\"quadratic\", inplace =True)\n",
    "        df[column] = pd.DataFrame([s]).T\n",
    "    return df\n",
    "\n",
    "def fet_daily_date_new_format(fecha): \n",
    "    df_pdf =  read_pdf('../data/'+fecha+'_cam_covid19.pdf',area=(000, 600, 400, 800) , pages='1')\n",
    "    df = df_pdf[0]\n",
    "    df = df['Unnamed: 0'].astype(str).str.replace(r\".\", '').replace(\"(\", ' ')\n",
    "    df = df.T\n",
    "    df.columns = df.iloc[0]\n",
    "    df = df.iloc[1:]\n",
    "\n",
    "\n",
    "    df = pd.DataFrame(data=df)\n",
    "    df    \n",
    "\n",
    "    dict = {}\n",
    "    dict['HOSPITALES'] = df[df['Unnamed: 0'].str.contains('Hospitales')].iloc[0]['Unnamed: 0'].split(' ')[0]\n",
    "    dict['DOMICILIOS'] = df[df['Unnamed: 0'].str.contains('Domicilios')].iloc[0]['Unnamed: 0'].split(' ')[0]\n",
    "    dict['CENTROS SOCIOSANITARIOS'] = df[df['Unnamed: 0'].str.contains('Centros')].iloc[0]['Unnamed: 0'].split(' ')[0]\n",
    "    dict['OTROS LUGARES'] = df[df['Unnamed: 0'].str.contains('otros')].iloc[0]['Unnamed: 0'].split(' ')[0]\n",
    "\n",
    "    cadena_a_parsear = df[df['Unnamed: 0'].str.contains('otal')].iloc[0]['Unnamed: 0']\n",
    "\n",
    "    dict['FALLECIDOS TOTALES'] = re.search(r'(\\d+)', cadena_a_parsear)[0]\n",
    "\n",
    "    df = pd.DataFrame.from_dict(dict, orient='index').T\n",
    "    df['Fecha'] =  pd.to_datetime(fecha, format='%y%m%d')\n",
    "    df.set_index('Fecha', inplace=True, drop=True)\n",
    "    return df\n",
    "\n",
    "\n",
    "def get_daily_data(fecha):\n",
    "    if fecha > '200512' : \n",
    "        return fet_daily_date_new_format(fecha)\n",
    "    \n",
    "    col2str = {'dtype': str}\n",
    "    kwargs = {'output_format': 'dataframe',\n",
    "              'pandas_options': col2str,\n",
    "              'stream': True}\n",
    "    df_pdf =  read_pdf('../data/'+fecha+'_cam_covid19.pdf',pages='1',multiple_tables = True,**kwargs)\n",
    "\n",
    "    \n",
    "    df = df_pdf[0]\n",
    "\n",
    "    df = df[df['Unnamed: 0'].notna()]\n",
    "    df = df[(df['Unnamed: 0']=='HOSPITALES') | (df['Unnamed: 0'] == 'DOMICILIOS') | (df['Unnamed: 0'] == 'CENTROS SOCIOSANITARIOS') | (df['Unnamed: 0'] == 'OTROS LUGARES') | (df['Unnamed: 0'] == 'FALLECIDOS TOTALES')]\n",
    "    df = df[['Unnamed: 0','Unnamed: 2']]\n",
    "    df['Unnamed: 2'] = df['Unnamed: 2'].astype(str).str.replace(r\".\", '')\n",
    "    df = df.T\n",
    "    df.columns = df.iloc[0]\n",
    "    df = df.iloc[1:]\n",
    "\n",
    "    df['Fecha'] =  pd.to_datetime(fecha, format='%y%m%d')\n",
    "    df = df.rename_axis(None)\n",
    "\n",
    "    df.set_index('Fecha', inplace=True, drop=True)\n",
    "    df.index\n",
    "    df.dropna()\n",
    "    #df = df.T\n",
    "    return df\n",
    "\n",
    "def get_all_data( ): \n",
    "    #BLACKLIST = [\"200429\",\"200422\"]\n",
    "    #BLACKLIST = [\"200514\",]\n",
    "    BLACKLIST = []\n",
    "    df = pd.DataFrame()\n",
    "    list_df = []\n",
    " \n",
    "    pdf_list= sorted(glob.glob('../data/*_cam_covid19.pdf'), \n",
    "                     key=os.path.getmtime,\n",
    "                     reverse=True )\n",
    "    \n",
    "    #for pdf_file in pdf_list:\n",
    "        \n",
    "    for pdf_file in tqdm(pdf_list, \n",
    "                         desc=\"Procesando pdfs\"):   \n",
    "        # extract fecha from username , eg : ../data/2200422_cam_covid19.pdf\n",
    "        fecha = pdf_file.split('/')[2].split('_')[0]\n",
    "        if fecha not in BLACKLIST:\n",
    "            #print(\"processing\", fecha)\n",
    "            df = get_daily_data(fecha) \n",
    "        list_df.append(df)\n",
    "\n",
    "    df = pd.concat(list_df)\n",
    "    df = df.astype(int)\n",
    "    df = df.drop_duplicates()\n",
    "\n",
    "    df = df.sort_values(by=['Fecha'], ascending=True)\n",
    "    ###jaime\n",
    "    #df = interpolate_dataframe(df,'D')\n",
    "    #df.index.name = 'Fecha'\n",
    "\n",
    "    df['HOSPITALES hoy'] = df['HOSPITALES'] - df['HOSPITALES'].shift(1)\n",
    "    df['CENTROS SOCIOSANITARIOS hoy'] = df['CENTROS SOCIOSANITARIOS'] - df['CENTROS SOCIOSANITARIOS'].shift(1)\n",
    "    df['FALLECIDOS TOTALES hoy'] = df['FALLECIDOS TOTALES'] - df['FALLECIDOS TOTALES'].shift(1)\n",
    "\n",
    "    df = df.sort_values(by=['Fecha'], ascending=False)\n",
    "\n",
    "    return df \n",
    "\n",
    "total =  get_all_data()\n"
   ]
  },
  {
   "cell_type": "code",
   "execution_count": null,
   "metadata": {
    "scrolled": false
   },
   "outputs": [],
   "source": [
    "total \n",
    "VENTANA_MEDIA_MOVIL=7\n",
    "df = interpolate_dataframe(total,'D')\n",
    "df.index.name = 'Fecha'\n",
    "df = df.sort_values(by=['Fecha'], ascending=True)\n",
    "df['HOSPITALES hoy'] = df['HOSPITALES'] - df['HOSPITALES'].shift(1)\n",
    "df['CENTROS SOCIOSANITARIOS hoy'] = df['CENTROS SOCIOSANITARIOS'] - df['CENTROS SOCIOSANITARIOS'].shift(1)\n",
    "df['FALLECIDOS TOTALES hoy'] = df['FALLECIDOS TOTALES'] - df['FALLECIDOS TOTALES'].shift(1)\n",
    "\n",
    "\n",
    "df['MA CENTROS SOCIOSANITARIOS hoy'] = df['CENTROS SOCIOSANITARIOS hoy'].rolling(window=VENTANA_MEDIA_MOVIL).mean()\n",
    "df['MA HOSPITALES hoy'] = df['HOSPITALES hoy'].rolling(window=VENTANA_MEDIA_MOVIL).mean()\n",
    "df['MA FALLECIDOS TOTALES hoy'] = df['FALLECIDOS TOTALES hoy'].rolling(window=VENTANA_MEDIA_MOVIL).mean()\n",
    "\n",
    "df = df.sort_index(ascending=False)\n",
    "df_master = df.copy()\n",
    "\n"
   ]
  },
  {
   "cell_type": "code",
   "execution_count": null,
   "metadata": {},
   "outputs": [],
   "source": [
    "\n",
    "\n",
    "from matplotlib import colors\n",
    "\n",
    "def background_gradient(s, m, M, cmap='PuBu', low=0, high=0):\n",
    "    rng = M - m\n",
    "    norm = colors.Normalize(m - (rng * low),\n",
    "                            M + (rng * high))\n",
    "    normed = norm(s.values)\n",
    "    c = [colors.rgb2hex(x) for x in plt.cm.get_cmap(cmap)(normed)]\n",
    "    return ['background-color: %s' % color for color in c]\n",
    "\n",
    "df.style.format ({ c : \"{:20,.0f}\" for c in df.columns }).background_gradient(cmap='Wistia', subset= df.columns[-3:] )\n",
    "\n"
   ]
  },
  {
   "cell_type": "code",
   "execution_count": null,
   "metadata": {},
   "outputs": [],
   "source": [
    "import pandas as pd\n",
    "import io\n",
    "import matplotlib.dates as mdates\n",
    "from matplotlib import pyplot as plt\n",
    "\n",
    "\n",
    "df = df_master\n",
    "chart_df=df[df.columns[-3:]]\n",
    "chart_df.plot(legend=True,figsize=(13.5,9), marker='o')\n",
    "\n",
    "plt.gca().xaxis.set_major_formatter(mdates.DateFormatter('%m-%d'))\n",
    "plt.gca().xaxis.set_major_locator(mdates.DayLocator(interval=1))\n",
    "plt.xticks(rotation=45)\n",
    "\n",
    "ax = plt.gca()\n",
    "\n",
    "ax.set_title(\"Muertes diarias COVID 19, media movil. Fuente: Comunidad de Madrid\")\n",
    "ax.set_ylim(ymin=0)\n",
    "\n",
    "plt.show()\n",
    "\n"
   ]
  },
  {
   "cell_type": "code",
   "execution_count": null,
   "metadata": {},
   "outputs": [],
   "source": [
    " from IPython.display import display, HTML\n",
    "HTML(\"<h2>Comparamos los datos de hoy, de hace una semana y de un mes </h2>\")    "
   ]
  },
  {
   "cell_type": "code",
   "execution_count": null,
   "metadata": {},
   "outputs": [],
   "source": [
    "df = df_master\n",
    "pd.concat([df.head(1).tail(1) , df.head(7).tail(1) , df.head(30).tail(1)]).astype(int)[['MA HOSPITALES hoy','MA CENTROS SOCIOSANITARIOS hoy','MA FALLECIDOS TOTALES hoy']].style.format ({ c : \"{:20,.0f}\" for c in df.columns }).background_gradient(cmap='Wistia', subset= df.columns[-3:] )"
   ]
  },
  {
   "cell_type": "code",
   "execution_count": null,
   "metadata": {},
   "outputs": [],
   "source": [
    "from IPython.display import display, HTML\n",
    "HTML(\"<h2>Muertes medias diarias, últimos 7 días, con datos</h2>\")"
   ]
  },
  {
   "cell_type": "code",
   "execution_count": null,
   "metadata": {},
   "outputs": [],
   "source": [
    "\n",
    "from datetime import date\n",
    "\n",
    "df = df_master\n",
    "inicio_crisis = df.head(7).index[6]\n",
    "df=df.head(7)\n",
    "dia_mas_reciente = df.index[0]\n",
    "dias_transcurridos_inicio_crisis = dia_mas_reciente - inicio_crisis\n",
    "df = pd.DataFrame((df.head(1).max(axis=0) - df.tail(1).max(axis=0) ) /  dias_transcurridos_inicio_crisis.days  ).T[['HOSPITALES','DOMICILIOS','CENTROS SOCIOSANITARIOS','OTROS LUGARES','FALLECIDOS TOTALES']]\n",
    "df.style.format ({ c : \"{:20,.0f}\" for c in df.columns }).background_gradient(cmap='Wistia'  )\n",
    "  \n"
   ]
  },
  {
   "cell_type": "code",
   "execution_count": null,
   "metadata": {},
   "outputs": [],
   "source": [
    "HTML(\"<h2>Muertes medias diarias desde que la comunidad de Madrid publica datos</h2>\")"
   ]
  },
  {
   "cell_type": "code",
   "execution_count": null,
   "metadata": {},
   "outputs": [],
   "source": [
    "# Calculamos los incrementos medios, desde que tenemos fechas\n",
    "df = df_master\n",
    "df = pd.DataFrame((df.head(1).max(axis=0) - df.tail(1).max(axis=0) ) / df.shape[0] ).T[['HOSPITALES','DOMICILIOS','CENTROS SOCIOSANITARIOS','OTROS LUGARES','FALLECIDOS TOTALES']]\n",
    "df.style.format ({ c : \"{:20,.0f}\" for c in df.columns }).background_gradient(cmap='Wistia'  )"
   ]
  },
  {
   "cell_type": "code",
   "execution_count": null,
   "metadata": {},
   "outputs": [],
   "source": []
  }
 ],
 "metadata": {
  "kernelspec": {
   "display_name": "Python 3",
   "language": "python",
   "name": "python3"
  },
  "language_info": {
   "codemirror_mode": {
    "name": "ipython",
    "version": 3
   },
   "file_extension": ".py",
   "mimetype": "text/x-python",
   "name": "python",
   "nbconvert_exporter": "python",
   "pygments_lexer": "ipython3",
   "version": "3.6.10"
  },
  "varInspector": {
   "cols": {
    "lenName": 16,
    "lenType": 16,
    "lenVar": 40
   },
   "kernels_config": {
    "python": {
     "delete_cmd_postfix": "",
     "delete_cmd_prefix": "del ",
     "library": "var_list.py",
     "varRefreshCmd": "print(var_dic_list())"
    },
    "r": {
     "delete_cmd_postfix": ") ",
     "delete_cmd_prefix": "rm(",
     "library": "var_list.r",
     "varRefreshCmd": "cat(var_dic_list()) "
    }
   },
   "types_to_exclude": [
    "module",
    "function",
    "builtin_function_or_method",
    "instance",
    "_Feature"
   ],
   "window_display": false
  }
 },
 "nbformat": 4,
 "nbformat_minor": 4
}
